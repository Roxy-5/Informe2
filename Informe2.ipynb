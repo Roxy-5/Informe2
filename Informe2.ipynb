{
 "cells": [
  {
   "cell_type": "code",
   "execution_count": 3,
   "id": "da7e42da",
   "metadata": {},
   "outputs": [],
   "source": [
    "import seaborn as sns\n",
    "import matplotlib.pyplot as plt\n",
    "import pandas as pd\n",
    "import numpy as np"
   ]
  },
  {
   "cell_type": "code",
   "execution_count": 8,
   "id": "94beed02",
   "metadata": {},
   "outputs": [],
   "source": [
    "df=pd.read_csv(\"C:/Users/Rocio/Desktop/ROCÍO/Todo_rocío/Curso_Data_Analyst/Codes/temario/temario/Informe2-Upgrade/calendar.csv\", on_bad_lines='skip') ##ignora las líneas problemáticas"
   ]
  },
  {
   "cell_type": "code",
   "execution_count": 9,
   "id": "330ee027",
   "metadata": {},
   "outputs": [
    {
     "data": {
      "text/html": [
       "<div>\n",
       "<style scoped>\n",
       "    .dataframe tbody tr th:only-of-type {\n",
       "        vertical-align: middle;\n",
       "    }\n",
       "\n",
       "    .dataframe tbody tr th {\n",
       "        vertical-align: top;\n",
       "    }\n",
       "\n",
       "    .dataframe thead th {\n",
       "        text-align: right;\n",
       "    }\n",
       "</style>\n",
       "<table border=\"1\" class=\"dataframe\">\n",
       "  <thead>\n",
       "    <tr style=\"text-align: right;\">\n",
       "      <th></th>\n",
       "      <th>listing_id</th>\n",
       "      <th>date</th>\n",
       "      <th>available</th>\n",
       "      <th>price</th>\n",
       "      <th>adjusted_price</th>\n",
       "      <th>minimum_nights</th>\n",
       "      <th>maximum_nights</th>\n",
       "    </tr>\n",
       "  </thead>\n",
       "  <tbody>\n",
       "    <tr>\n",
       "      <th>0</th>\n",
       "      <td>97945</td>\n",
       "      <td>2024-12-27</td>\n",
       "      <td>f</td>\n",
       "      <td>$95.00</td>\n",
       "      <td>NaN</td>\n",
       "      <td>2</td>\n",
       "      <td>90</td>\n",
       "    </tr>\n",
       "    <tr>\n",
       "      <th>1</th>\n",
       "      <td>97945</td>\n",
       "      <td>2024-12-28</td>\n",
       "      <td>f</td>\n",
       "      <td>$95.00</td>\n",
       "      <td>NaN</td>\n",
       "      <td>2</td>\n",
       "      <td>90</td>\n",
       "    </tr>\n",
       "    <tr>\n",
       "      <th>2</th>\n",
       "      <td>97945</td>\n",
       "      <td>2024-12-29</td>\n",
       "      <td>f</td>\n",
       "      <td>$95.00</td>\n",
       "      <td>NaN</td>\n",
       "      <td>2</td>\n",
       "      <td>90</td>\n",
       "    </tr>\n",
       "    <tr>\n",
       "      <th>3</th>\n",
       "      <td>97945</td>\n",
       "      <td>2024-12-30</td>\n",
       "      <td>t</td>\n",
       "      <td>$95.00</td>\n",
       "      <td>NaN</td>\n",
       "      <td>2</td>\n",
       "      <td>90</td>\n",
       "    </tr>\n",
       "    <tr>\n",
       "      <th>4</th>\n",
       "      <td>97945</td>\n",
       "      <td>2024-12-31</td>\n",
       "      <td>t</td>\n",
       "      <td>$95.00</td>\n",
       "      <td>NaN</td>\n",
       "      <td>2</td>\n",
       "      <td>90</td>\n",
       "    </tr>\n",
       "  </tbody>\n",
       "</table>\n",
       "</div>"
      ],
      "text/plain": [
       "   listing_id        date available   price  adjusted_price  minimum_nights  \\\n",
       "0       97945  2024-12-27         f  $95.00             NaN               2   \n",
       "1       97945  2024-12-28         f  $95.00             NaN               2   \n",
       "2       97945  2024-12-29         f  $95.00             NaN               2   \n",
       "3       97945  2024-12-30         t  $95.00             NaN               2   \n",
       "4       97945  2024-12-31         t  $95.00             NaN               2   \n",
       "\n",
       "   maximum_nights  \n",
       "0              90  \n",
       "1              90  \n",
       "2              90  \n",
       "3              90  \n",
       "4              90  "
      ]
     },
     "execution_count": 9,
     "metadata": {},
     "output_type": "execute_result"
    }
   ],
   "source": [
    "df.head()"
   ]
  },
  {
   "cell_type": "code",
   "execution_count": 10,
   "id": "06353d36",
   "metadata": {},
   "outputs": [
    {
     "data": {
      "text/html": [
       "<div>\n",
       "<style scoped>\n",
       "    .dataframe tbody tr th:only-of-type {\n",
       "        vertical-align: middle;\n",
       "    }\n",
       "\n",
       "    .dataframe tbody tr th {\n",
       "        vertical-align: top;\n",
       "    }\n",
       "\n",
       "    .dataframe thead th {\n",
       "        text-align: right;\n",
       "    }\n",
       "</style>\n",
       "<table border=\"1\" class=\"dataframe\">\n",
       "  <thead>\n",
       "    <tr style=\"text-align: right;\">\n",
       "      <th></th>\n",
       "      <th>listing_id</th>\n",
       "      <th>date</th>\n",
       "      <th>available</th>\n",
       "      <th>price</th>\n",
       "      <th>adjusted_price</th>\n",
       "      <th>minimum_nights</th>\n",
       "      <th>maximum_nights</th>\n",
       "    </tr>\n",
       "  </thead>\n",
       "  <tbody>\n",
       "    <tr>\n",
       "      <th>2657220</th>\n",
       "      <td>1319650217063619527</td>\n",
       "      <td>2025-12-22</td>\n",
       "      <td>t</td>\n",
       "      <td>$300.00</td>\n",
       "      <td>NaN</td>\n",
       "      <td>1</td>\n",
       "      <td>365</td>\n",
       "    </tr>\n",
       "    <tr>\n",
       "      <th>2657221</th>\n",
       "      <td>1319650217063619527</td>\n",
       "      <td>2025-12-23</td>\n",
       "      <td>t</td>\n",
       "      <td>$300.00</td>\n",
       "      <td>NaN</td>\n",
       "      <td>1</td>\n",
       "      <td>365</td>\n",
       "    </tr>\n",
       "    <tr>\n",
       "      <th>2657222</th>\n",
       "      <td>1319650217063619527</td>\n",
       "      <td>2025-12-24</td>\n",
       "      <td>t</td>\n",
       "      <td>$300.00</td>\n",
       "      <td>NaN</td>\n",
       "      <td>1</td>\n",
       "      <td>365</td>\n",
       "    </tr>\n",
       "    <tr>\n",
       "      <th>2657223</th>\n",
       "      <td>1319650217063619527</td>\n",
       "      <td>2025-12-25</td>\n",
       "      <td>t</td>\n",
       "      <td>$300.00</td>\n",
       "      <td>NaN</td>\n",
       "      <td>1</td>\n",
       "      <td>365</td>\n",
       "    </tr>\n",
       "    <tr>\n",
       "      <th>2657224</th>\n",
       "      <td>1319650217063619527</td>\n",
       "      <td>2025-12-26</td>\n",
       "      <td>t</td>\n",
       "      <td>$300.00</td>\n",
       "      <td>NaN</td>\n",
       "      <td>1</td>\n",
       "      <td>365</td>\n",
       "    </tr>\n",
       "  </tbody>\n",
       "</table>\n",
       "</div>"
      ],
      "text/plain": [
       "                  listing_id        date available    price  adjusted_price  \\\n",
       "2657220  1319650217063619527  2025-12-22         t  $300.00             NaN   \n",
       "2657221  1319650217063619527  2025-12-23         t  $300.00             NaN   \n",
       "2657222  1319650217063619527  2025-12-24         t  $300.00             NaN   \n",
       "2657223  1319650217063619527  2025-12-25         t  $300.00             NaN   \n",
       "2657224  1319650217063619527  2025-12-26         t  $300.00             NaN   \n",
       "\n",
       "         minimum_nights  maximum_nights  \n",
       "2657220               1             365  \n",
       "2657221               1             365  \n",
       "2657222               1             365  \n",
       "2657223               1             365  \n",
       "2657224               1             365  "
      ]
     },
     "execution_count": 10,
     "metadata": {},
     "output_type": "execute_result"
    }
   ],
   "source": [
    "df.tail()"
   ]
  },
  {
   "cell_type": "code",
   "execution_count": 11,
   "id": "3f917145",
   "metadata": {},
   "outputs": [
    {
     "name": "stdout",
     "output_type": "stream",
     "text": [
      "Number of rows: 2657225\n",
      "Number of columns: 7\n"
     ]
    }
   ],
   "source": [
    "print(\"Number of rows:\", df.shape[0])\n",
    "print(\"Number of columns:\", df.shape[1])"
   ]
  },
  {
   "cell_type": "code",
   "execution_count": 12,
   "id": "25d91c7f",
   "metadata": {},
   "outputs": [
    {
     "name": "stdout",
     "output_type": "stream",
     "text": [
      "<class 'pandas.core.frame.DataFrame'>\n",
      "RangeIndex: 2657225 entries, 0 to 2657224\n",
      "Data columns (total 7 columns):\n",
      " #   Column          Dtype  \n",
      "---  ------          -----  \n",
      " 0   listing_id      int64  \n",
      " 1   date            object \n",
      " 2   available       object \n",
      " 3   price           object \n",
      " 4   adjusted_price  float64\n",
      " 5   minimum_nights  int64  \n",
      " 6   maximum_nights  int64  \n",
      "dtypes: float64(1), int64(3), object(3)\n",
      "memory usage: 141.9+ MB\n"
     ]
    }
   ],
   "source": [
    "df.info()"
   ]
  },
  {
   "cell_type": "code",
   "execution_count": 13,
   "id": "29e851c6",
   "metadata": {},
   "outputs": [
    {
     "data": {
      "text/plain": [
       "listing_id          int64\n",
       "date               object\n",
       "available          object\n",
       "price              object\n",
       "adjusted_price    float64\n",
       "minimum_nights      int64\n",
       "maximum_nights      int64\n",
       "dtype: object"
      ]
     },
     "execution_count": 13,
     "metadata": {},
     "output_type": "execute_result"
    }
   ],
   "source": [
    "df.dtypes"
   ]
  },
  {
   "cell_type": "code",
   "execution_count": 14,
   "id": "965c3744",
   "metadata": {},
   "outputs": [
    {
     "data": {
      "text/plain": [
       "np.int64(0)"
      ]
     },
     "execution_count": 14,
     "metadata": {},
     "output_type": "execute_result"
    }
   ],
   "source": [
    "df.duplicated().sum()"
   ]
  },
  {
   "cell_type": "code",
   "execution_count": 15,
   "id": "7625bac1",
   "metadata": {},
   "outputs": [
    {
     "data": {
      "text/plain": [
       "listing_id        False\n",
       "date              False\n",
       "available         False\n",
       "price             False\n",
       "adjusted_price     True\n",
       "minimum_nights    False\n",
       "maximum_nights    False\n",
       "dtype: bool"
      ]
     },
     "execution_count": 15,
     "metadata": {},
     "output_type": "execute_result"
    }
   ],
   "source": [
    "df.isna().any()"
   ]
  },
  {
   "cell_type": "code",
   "execution_count": 16,
   "id": "7c4b3347",
   "metadata": {},
   "outputs": [
    {
     "data": {
      "text/plain": [
       "listing_id              0\n",
       "date                    0\n",
       "available               0\n",
       "price                   0\n",
       "adjusted_price    2657225\n",
       "minimum_nights          0\n",
       "maximum_nights          0\n",
       "dtype: int64"
      ]
     },
     "execution_count": 16,
     "metadata": {},
     "output_type": "execute_result"
    }
   ],
   "source": [
    "df.isna().sum()"
   ]
  },
  {
   "cell_type": "code",
   "execution_count": 17,
   "id": "9e860cfc",
   "metadata": {},
   "outputs": [
    {
     "data": {
      "text/plain": [
       "Index(['listing_id', 'date', 'available', 'price', 'adjusted_price',\n",
       "       'minimum_nights', 'maximum_nights'],\n",
       "      dtype='object')"
      ]
     },
     "execution_count": 17,
     "metadata": {},
     "output_type": "execute_result"
    }
   ],
   "source": [
    "df.columns"
   ]
  },
  {
   "cell_type": "code",
   "execution_count": 18,
   "id": "7a4dec93",
   "metadata": {},
   "outputs": [
    {
     "data": {
      "text/html": [
       "<div>\n",
       "<style scoped>\n",
       "    .dataframe tbody tr th:only-of-type {\n",
       "        vertical-align: middle;\n",
       "    }\n",
       "\n",
       "    .dataframe tbody tr th {\n",
       "        vertical-align: top;\n",
       "    }\n",
       "\n",
       "    .dataframe thead th {\n",
       "        text-align: right;\n",
       "    }\n",
       "</style>\n",
       "<table border=\"1\" class=\"dataframe\">\n",
       "  <thead>\n",
       "    <tr style=\"text-align: right;\">\n",
       "      <th></th>\n",
       "      <th>listing_id</th>\n",
       "      <th>adjusted_price</th>\n",
       "      <th>minimum_nights</th>\n",
       "      <th>maximum_nights</th>\n",
       "    </tr>\n",
       "  </thead>\n",
       "  <tbody>\n",
       "    <tr>\n",
       "      <th>count</th>\n",
       "      <td>2.657225e+06</td>\n",
       "      <td>0.0</td>\n",
       "      <td>2.657225e+06</td>\n",
       "      <td>2.657225e+06</td>\n",
       "    </tr>\n",
       "    <tr>\n",
       "      <th>mean</th>\n",
       "      <td>6.194381e+17</td>\n",
       "      <td>NaN</td>\n",
       "      <td>8.024699e+00</td>\n",
       "      <td>5.563040e+06</td>\n",
       "    </tr>\n",
       "    <tr>\n",
       "      <th>std</th>\n",
       "      <td>5.156283e+17</td>\n",
       "      <td>NaN</td>\n",
       "      <td>3.108959e+01</td>\n",
       "      <td>1.091544e+08</td>\n",
       "    </tr>\n",
       "    <tr>\n",
       "      <th>min</th>\n",
       "      <td>9.794500e+04</td>\n",
       "      <td>NaN</td>\n",
       "      <td>1.000000e+00</td>\n",
       "      <td>1.000000e+00</td>\n",
       "    </tr>\n",
       "    <tr>\n",
       "      <th>25%</th>\n",
       "      <td>3.845796e+07</td>\n",
       "      <td>NaN</td>\n",
       "      <td>1.000000e+00</td>\n",
       "      <td>3.000000e+01</td>\n",
       "    </tr>\n",
       "    <tr>\n",
       "      <th>50%</th>\n",
       "      <td>7.353609e+17</td>\n",
       "      <td>NaN</td>\n",
       "      <td>2.000000e+00</td>\n",
       "      <td>3.650000e+02</td>\n",
       "    </tr>\n",
       "    <tr>\n",
       "      <th>75%</th>\n",
       "      <td>1.112765e+18</td>\n",
       "      <td>NaN</td>\n",
       "      <td>4.000000e+00</td>\n",
       "      <td>9.990000e+02</td>\n",
       "    </tr>\n",
       "    <tr>\n",
       "      <th>max</th>\n",
       "      <td>1.319650e+18</td>\n",
       "      <td>NaN</td>\n",
       "      <td>9.990000e+02</td>\n",
       "      <td>2.147484e+09</td>\n",
       "    </tr>\n",
       "  </tbody>\n",
       "</table>\n",
       "</div>"
      ],
      "text/plain": [
       "         listing_id  adjusted_price  minimum_nights  maximum_nights\n",
       "count  2.657225e+06             0.0    2.657225e+06    2.657225e+06\n",
       "mean   6.194381e+17             NaN    8.024699e+00    5.563040e+06\n",
       "std    5.156283e+17             NaN    3.108959e+01    1.091544e+08\n",
       "min    9.794500e+04             NaN    1.000000e+00    1.000000e+00\n",
       "25%    3.845796e+07             NaN    1.000000e+00    3.000000e+01\n",
       "50%    7.353609e+17             NaN    2.000000e+00    3.650000e+02\n",
       "75%    1.112765e+18             NaN    4.000000e+00    9.990000e+02\n",
       "max    1.319650e+18             NaN    9.990000e+02    2.147484e+09"
      ]
     },
     "execution_count": 18,
     "metadata": {},
     "output_type": "execute_result"
    }
   ],
   "source": [
    "df.describe()"
   ]
  },
  {
   "cell_type": "code",
   "execution_count": 19,
   "id": "14034f7b",
   "metadata": {},
   "outputs": [
    {
     "name": "stdout",
     "output_type": "stream",
     "text": [
      "Valores únicos en listing_id : 7281\n",
      "Valores únicos en date : 372\n",
      "Valores únicos en available : 2\n",
      "Valores únicos en price : 415\n",
      "Valores únicos en adjusted_price : 0\n",
      "Valores únicos en minimum_nights : 93\n",
      "Valores únicos en maximum_nights : 159\n"
     ]
    }
   ],
   "source": [
    "for i in df.columns:\n",
    "    print(\"Valores únicos en\", i, \":\", df[i].nunique())"
   ]
  },
  {
   "cell_type": "code",
   "execution_count": 20,
   "id": "66b6d68c",
   "metadata": {},
   "outputs": [
    {
     "name": "stdout",
     "output_type": "stream",
     "text": [
      "Columnas constantes: []\n"
     ]
    }
   ],
   "source": [
    "const_cols = [col for col in df.columns if df[col].nunique() == 1]\n",
    "print(\"Columnas constantes:\", const_cols)"
   ]
  },
  {
   "cell_type": "code",
   "execution_count": 21,
   "id": "582c8d0a",
   "metadata": {},
   "outputs": [
    {
     "name": "stdout",
     "output_type": "stream",
     "text": [
      "Columnas completamente nulas: ['adjusted_price']\n"
     ]
    }
   ],
   "source": [
    "null_cols = [col for col in df.columns if df[col].isna().all()]\n",
    "print(\"Columnas completamente nulas:\", null_cols)"
   ]
  },
  {
   "cell_type": "code",
   "execution_count": 22,
   "id": "991aa415",
   "metadata": {},
   "outputs": [],
   "source": [
    "df['date'] = pd.to_datetime(df['date'], errors='coerce')"
   ]
  },
  {
   "cell_type": "code",
   "execution_count": 23,
   "id": "14207a8a",
   "metadata": {},
   "outputs": [],
   "source": [
    "df['available'] = df['available'].astype('category')"
   ]
  },
  {
   "cell_type": "code",
   "execution_count": 24,
   "id": "52e147aa",
   "metadata": {},
   "outputs": [],
   "source": [
    "df['price'] = df['price'].str.replace(r'[^\\d.]', '', regex=True).astype(float)"
   ]
  },
  {
   "cell_type": "code",
   "execution_count": 25,
   "id": "ad9b185e",
   "metadata": {},
   "outputs": [
    {
     "name": "stdout",
     "output_type": "stream",
     "text": [
      "Columnas con baja variabilidad: ['available', 'adjusted_price']\n"
     ]
    }
   ],
   "source": [
    "low_var_cols = [col for col in df.columns if df[col].nunique() < 5]\n",
    "print(\"Columnas con baja variabilidad:\", low_var_cols)"
   ]
  },
  {
   "cell_type": "code",
   "execution_count": 26,
   "id": "768697f1",
   "metadata": {},
   "outputs": [
    {
     "data": {
      "text/html": [
       "<div>\n",
       "<style scoped>\n",
       "    .dataframe tbody tr th:only-of-type {\n",
       "        vertical-align: middle;\n",
       "    }\n",
       "\n",
       "    .dataframe tbody tr th {\n",
       "        vertical-align: top;\n",
       "    }\n",
       "\n",
       "    .dataframe thead th {\n",
       "        text-align: right;\n",
       "    }\n",
       "</style>\n",
       "<table border=\"1\" class=\"dataframe\">\n",
       "  <thead>\n",
       "    <tr style=\"text-align: right;\">\n",
       "      <th></th>\n",
       "      <th>listing_id</th>\n",
       "      <th>date</th>\n",
       "      <th>available</th>\n",
       "      <th>price</th>\n",
       "      <th>minimum_nights</th>\n",
       "      <th>maximum_nights</th>\n",
       "    </tr>\n",
       "  </thead>\n",
       "  <tbody>\n",
       "    <tr>\n",
       "      <th>0</th>\n",
       "      <td>97945</td>\n",
       "      <td>2024-12-27</td>\n",
       "      <td>f</td>\n",
       "      <td>95.0</td>\n",
       "      <td>2</td>\n",
       "      <td>90</td>\n",
       "    </tr>\n",
       "    <tr>\n",
       "      <th>1</th>\n",
       "      <td>97945</td>\n",
       "      <td>2024-12-28</td>\n",
       "      <td>f</td>\n",
       "      <td>95.0</td>\n",
       "      <td>2</td>\n",
       "      <td>90</td>\n",
       "    </tr>\n",
       "    <tr>\n",
       "      <th>2</th>\n",
       "      <td>97945</td>\n",
       "      <td>2024-12-29</td>\n",
       "      <td>f</td>\n",
       "      <td>95.0</td>\n",
       "      <td>2</td>\n",
       "      <td>90</td>\n",
       "    </tr>\n",
       "    <tr>\n",
       "      <th>3</th>\n",
       "      <td>97945</td>\n",
       "      <td>2024-12-30</td>\n",
       "      <td>t</td>\n",
       "      <td>95.0</td>\n",
       "      <td>2</td>\n",
       "      <td>90</td>\n",
       "    </tr>\n",
       "    <tr>\n",
       "      <th>4</th>\n",
       "      <td>97945</td>\n",
       "      <td>2024-12-31</td>\n",
       "      <td>t</td>\n",
       "      <td>95.0</td>\n",
       "      <td>2</td>\n",
       "      <td>90</td>\n",
       "    </tr>\n",
       "  </tbody>\n",
       "</table>\n",
       "</div>"
      ],
      "text/plain": [
       "   listing_id       date available  price  minimum_nights  maximum_nights\n",
       "0       97945 2024-12-27         f   95.0               2              90\n",
       "1       97945 2024-12-28         f   95.0               2              90\n",
       "2       97945 2024-12-29         f   95.0               2              90\n",
       "3       97945 2024-12-30         t   95.0               2              90\n",
       "4       97945 2024-12-31         t   95.0               2              90"
      ]
     },
     "execution_count": 26,
     "metadata": {},
     "output_type": "execute_result"
    }
   ],
   "source": [
    "df.drop([\"adjusted_price\"], axis=1, inplace=True) \n",
    "df.head()"
   ]
  },
  {
   "cell_type": "code",
   "execution_count": null,
   "id": "f813a1f9",
   "metadata": {},
   "outputs": [
    {
     "name": "stdout",
     "output_type": "stream",
     "text": [
      "Index(['listing_id', 'date', 'available', 'price', 'minimum_nights',\n",
      "       'maximum_nights'],\n",
      "      dtype='object')\n"
     ]
    }
   ],
   "source": [
    "print(df.columns)"
   ]
  },
  {
   "cell_type": "code",
   "execution_count": 28,
   "id": "5d0e9f07",
   "metadata": {},
   "outputs": [
    {
     "ename": "AttributeError",
     "evalue": "'DataFrame' object has no attribute 'adjusted_price'",
     "output_type": "error",
     "traceback": [
      "\u001b[31m---------------------------------------------------------------------------\u001b[39m",
      "\u001b[31mAttributeError\u001b[39m                            Traceback (most recent call last)",
      "\u001b[32m~\\AppData\\Local\\Temp\\ipykernel_2888\\3659480981.py\u001b[39m in \u001b[36m?\u001b[39m\u001b[34m()\u001b[39m\n\u001b[32m----> \u001b[39m\u001b[32m1\u001b[39m df.adjusted_price.fillna(\u001b[32m0\u001b[39m, inplace=\u001b[38;5;28;01mTrue\u001b[39;00m) \u001b[38;5;66;03m#ya está borrada\u001b[39;00m\n\u001b[32m      2\u001b[39m df.head()\n",
      "\u001b[32mc:\\Users\\Rocio\\Desktop\\ROCÍO\\Todo_rocío\\Curso_Data_Analyst\\Codes\\temario\\mi_entorno\\Lib\\site-packages\\pandas\\core\\generic.py\u001b[39m in \u001b[36m?\u001b[39m\u001b[34m(self, name)\u001b[39m\n\u001b[32m   6295\u001b[39m             \u001b[38;5;28;01mand\u001b[39;00m name \u001b[38;5;28;01mnot\u001b[39;00m \u001b[38;5;28;01min\u001b[39;00m self._accessors\n\u001b[32m   6296\u001b[39m             \u001b[38;5;28;01mand\u001b[39;00m self._info_axis._can_hold_identifiers_and_holds_name(name)\n\u001b[32m   6297\u001b[39m         ):\n\u001b[32m   6298\u001b[39m             \u001b[38;5;28;01mreturn\u001b[39;00m self[name]\n\u001b[32m-> \u001b[39m\u001b[32m6299\u001b[39m         \u001b[38;5;28;01mreturn\u001b[39;00m object.__getattribute__(self, name)\n",
      "\u001b[31mAttributeError\u001b[39m: 'DataFrame' object has no attribute 'adjusted_price'"
     ]
    }
   ],
   "source": [
    "df.adjusted_price.fillna(0, inplace=True) #ya está borrada\n",
    "df.head()"
   ]
  },
  {
   "cell_type": "code",
   "execution_count": null,
   "id": "a2befe8c",
   "metadata": {},
   "outputs": [
    {
     "data": {
      "text/plain": [
       "listing_id        False\n",
       "date              False\n",
       "price             False\n",
       "minimum_nights    False\n",
       "maximum_nights    False\n",
       "dtype: bool"
      ]
     },
     "execution_count": 69,
     "metadata": {},
     "output_type": "execute_result"
    }
   ],
   "source": [
    "df.isnull().any()"
   ]
  },
  {
   "cell_type": "code",
   "execution_count": null,
   "id": "2b2e1834",
   "metadata": {},
   "outputs": [
    {
     "name": "stdout",
     "output_type": "stream",
     "text": [
      "<class 'pandas.core.frame.DataFrame'>\n",
      "RangeIndex: 2657225 entries, 0 to 2657224\n",
      "Data columns (total 5 columns):\n",
      " #   Column          Dtype         \n",
      "---  ------          -----         \n",
      " 0   listing_id      int64         \n",
      " 1   date            datetime64[ns]\n",
      " 2   price           float64       \n",
      " 3   minimum_nights  int64         \n",
      " 4   maximum_nights  int64         \n",
      "dtypes: datetime64[ns](1), float64(1), int64(3)\n",
      "memory usage: 101.4 MB\n"
     ]
    }
   ],
   "source": [
    "df.info()"
   ]
  },
  {
   "cell_type": "code",
   "execution_count": null,
   "id": "e602ad00",
   "metadata": {},
   "outputs": [
    {
     "data": {
      "text/html": [
       "<div>\n",
       "<style scoped>\n",
       "    .dataframe tbody tr th:only-of-type {\n",
       "        vertical-align: middle;\n",
       "    }\n",
       "\n",
       "    .dataframe tbody tr th {\n",
       "        vertical-align: top;\n",
       "    }\n",
       "\n",
       "    .dataframe thead th {\n",
       "        text-align: right;\n",
       "    }\n",
       "</style>\n",
       "<table border=\"1\" class=\"dataframe\">\n",
       "  <thead>\n",
       "    <tr style=\"text-align: right;\">\n",
       "      <th></th>\n",
       "      <th>listing_id</th>\n",
       "      <th>date</th>\n",
       "      <th>price</th>\n",
       "      <th>minimum_nights</th>\n",
       "      <th>maximum_nights</th>\n",
       "    </tr>\n",
       "  </thead>\n",
       "  <tbody>\n",
       "    <tr>\n",
       "      <th>count</th>\n",
       "      <td>2.657225e+06</td>\n",
       "      <td>2657225</td>\n",
       "      <td>2.657225e+06</td>\n",
       "      <td>2.657225e+06</td>\n",
       "      <td>2.657225e+06</td>\n",
       "    </tr>\n",
       "    <tr>\n",
       "      <th>mean</th>\n",
       "      <td>6.194381e+17</td>\n",
       "      <td>2025-06-26 23:30:59.140268800</td>\n",
       "      <td>1.866744e+02</td>\n",
       "      <td>8.024699e+00</td>\n",
       "      <td>5.563040e+06</td>\n",
       "    </tr>\n",
       "    <tr>\n",
       "      <th>min</th>\n",
       "      <td>9.794500e+04</td>\n",
       "      <td>2024-12-27 00:00:00</td>\n",
       "      <td>8.000000e+00</td>\n",
       "      <td>1.000000e+00</td>\n",
       "      <td>1.000000e+00</td>\n",
       "    </tr>\n",
       "    <tr>\n",
       "      <th>25%</th>\n",
       "      <td>3.845796e+07</td>\n",
       "      <td>2025-03-28 00:00:00</td>\n",
       "      <td>7.600000e+01</td>\n",
       "      <td>1.000000e+00</td>\n",
       "      <td>3.000000e+01</td>\n",
       "    </tr>\n",
       "    <tr>\n",
       "      <th>50%</th>\n",
       "      <td>7.353609e+17</td>\n",
       "      <td>2025-06-27 00:00:00</td>\n",
       "      <td>1.140000e+02</td>\n",
       "      <td>2.000000e+00</td>\n",
       "      <td>3.650000e+02</td>\n",
       "    </tr>\n",
       "    <tr>\n",
       "      <th>75%</th>\n",
       "      <td>1.112765e+18</td>\n",
       "      <td>2025-09-26 00:00:00</td>\n",
       "      <td>1.990000e+02</td>\n",
       "      <td>4.000000e+00</td>\n",
       "      <td>9.990000e+02</td>\n",
       "    </tr>\n",
       "    <tr>\n",
       "      <th>max</th>\n",
       "      <td>1.319650e+18</td>\n",
       "      <td>2026-01-02 00:00:00</td>\n",
       "      <td>1.100000e+04</td>\n",
       "      <td>9.990000e+02</td>\n",
       "      <td>2.147484e+09</td>\n",
       "    </tr>\n",
       "    <tr>\n",
       "      <th>std</th>\n",
       "      <td>5.156283e+17</td>\n",
       "      <td>NaN</td>\n",
       "      <td>3.246250e+02</td>\n",
       "      <td>3.108959e+01</td>\n",
       "      <td>1.091544e+08</td>\n",
       "    </tr>\n",
       "  </tbody>\n",
       "</table>\n",
       "</div>"
      ],
      "text/plain": [
       "         listing_id                           date         price  \\\n",
       "count  2.657225e+06                        2657225  2.657225e+06   \n",
       "mean   6.194381e+17  2025-06-26 23:30:59.140268800  1.866744e+02   \n",
       "min    9.794500e+04            2024-12-27 00:00:00  8.000000e+00   \n",
       "25%    3.845796e+07            2025-03-28 00:00:00  7.600000e+01   \n",
       "50%    7.353609e+17            2025-06-27 00:00:00  1.140000e+02   \n",
       "75%    1.112765e+18            2025-09-26 00:00:00  1.990000e+02   \n",
       "max    1.319650e+18            2026-01-02 00:00:00  1.100000e+04   \n",
       "std    5.156283e+17                            NaN  3.246250e+02   \n",
       "\n",
       "       minimum_nights  maximum_nights  \n",
       "count    2.657225e+06    2.657225e+06  \n",
       "mean     8.024699e+00    5.563040e+06  \n",
       "min      1.000000e+00    1.000000e+00  \n",
       "25%      1.000000e+00    3.000000e+01  \n",
       "50%      2.000000e+00    3.650000e+02  \n",
       "75%      4.000000e+00    9.990000e+02  \n",
       "max      9.990000e+02    2.147484e+09  \n",
       "std      3.108959e+01    1.091544e+08  "
      ]
     },
     "execution_count": 71,
     "metadata": {},
     "output_type": "execute_result"
    }
   ],
   "source": [
    "df.describe()"
   ]
  },
  {
   "cell_type": "code",
   "execution_count": null,
   "id": "9ea8167f",
   "metadata": {},
   "outputs": [],
   "source": [
    "df = df.loc[df['price'] > 0]"
   ]
  },
  {
   "cell_type": "code",
   "execution_count": null,
   "id": "66976f38",
   "metadata": {},
   "outputs": [
    {
     "data": {
      "text/plain": [
       "(2657225, 5)"
      ]
     },
     "execution_count": 73,
     "metadata": {},
     "output_type": "execute_result"
    }
   ],
   "source": [
    "df.shape"
   ]
  },
  {
   "cell_type": "code",
   "execution_count": null,
   "id": "b2861b66",
   "metadata": {},
   "outputs": [
    {
     "data": {
      "text/html": [
       "<div>\n",
       "<style scoped>\n",
       "    .dataframe tbody tr th:only-of-type {\n",
       "        vertical-align: middle;\n",
       "    }\n",
       "\n",
       "    .dataframe tbody tr th {\n",
       "        vertical-align: top;\n",
       "    }\n",
       "\n",
       "    .dataframe thead th {\n",
       "        text-align: right;\n",
       "    }\n",
       "</style>\n",
       "<table border=\"1\" class=\"dataframe\">\n",
       "  <thead>\n",
       "    <tr style=\"text-align: right;\">\n",
       "      <th></th>\n",
       "      <th>listing_id</th>\n",
       "      <th>date</th>\n",
       "      <th>price</th>\n",
       "      <th>minimum_nights</th>\n",
       "      <th>maximum_nights</th>\n",
       "    </tr>\n",
       "  </thead>\n",
       "  <tbody>\n",
       "    <tr>\n",
       "      <th>count</th>\n",
       "      <td>2.657225e+06</td>\n",
       "      <td>2657225</td>\n",
       "      <td>2.657225e+06</td>\n",
       "      <td>2.657225e+06</td>\n",
       "      <td>2.657225e+06</td>\n",
       "    </tr>\n",
       "    <tr>\n",
       "      <th>mean</th>\n",
       "      <td>6.194381e+17</td>\n",
       "      <td>2025-06-26 23:30:59.140268800</td>\n",
       "      <td>1.866744e+02</td>\n",
       "      <td>8.024699e+00</td>\n",
       "      <td>5.563040e+06</td>\n",
       "    </tr>\n",
       "    <tr>\n",
       "      <th>min</th>\n",
       "      <td>9.794500e+04</td>\n",
       "      <td>2024-12-27 00:00:00</td>\n",
       "      <td>8.000000e+00</td>\n",
       "      <td>1.000000e+00</td>\n",
       "      <td>1.000000e+00</td>\n",
       "    </tr>\n",
       "    <tr>\n",
       "      <th>25%</th>\n",
       "      <td>3.845796e+07</td>\n",
       "      <td>2025-03-28 00:00:00</td>\n",
       "      <td>7.600000e+01</td>\n",
       "      <td>1.000000e+00</td>\n",
       "      <td>3.000000e+01</td>\n",
       "    </tr>\n",
       "    <tr>\n",
       "      <th>50%</th>\n",
       "      <td>7.353609e+17</td>\n",
       "      <td>2025-06-27 00:00:00</td>\n",
       "      <td>1.140000e+02</td>\n",
       "      <td>2.000000e+00</td>\n",
       "      <td>3.650000e+02</td>\n",
       "    </tr>\n",
       "    <tr>\n",
       "      <th>75%</th>\n",
       "      <td>1.112765e+18</td>\n",
       "      <td>2025-09-26 00:00:00</td>\n",
       "      <td>1.990000e+02</td>\n",
       "      <td>4.000000e+00</td>\n",
       "      <td>9.990000e+02</td>\n",
       "    </tr>\n",
       "    <tr>\n",
       "      <th>max</th>\n",
       "      <td>1.319650e+18</td>\n",
       "      <td>2026-01-02 00:00:00</td>\n",
       "      <td>1.100000e+04</td>\n",
       "      <td>9.990000e+02</td>\n",
       "      <td>2.147484e+09</td>\n",
       "    </tr>\n",
       "    <tr>\n",
       "      <th>std</th>\n",
       "      <td>5.156283e+17</td>\n",
       "      <td>NaN</td>\n",
       "      <td>3.246250e+02</td>\n",
       "      <td>3.108959e+01</td>\n",
       "      <td>1.091544e+08</td>\n",
       "    </tr>\n",
       "  </tbody>\n",
       "</table>\n",
       "</div>"
      ],
      "text/plain": [
       "         listing_id                           date         price  \\\n",
       "count  2.657225e+06                        2657225  2.657225e+06   \n",
       "mean   6.194381e+17  2025-06-26 23:30:59.140268800  1.866744e+02   \n",
       "min    9.794500e+04            2024-12-27 00:00:00  8.000000e+00   \n",
       "25%    3.845796e+07            2025-03-28 00:00:00  7.600000e+01   \n",
       "50%    7.353609e+17            2025-06-27 00:00:00  1.140000e+02   \n",
       "75%    1.112765e+18            2025-09-26 00:00:00  1.990000e+02   \n",
       "max    1.319650e+18            2026-01-02 00:00:00  1.100000e+04   \n",
       "std    5.156283e+17                            NaN  3.246250e+02   \n",
       "\n",
       "       minimum_nights  maximum_nights  \n",
       "count    2.657225e+06    2.657225e+06  \n",
       "mean     8.024699e+00    5.563040e+06  \n",
       "min      1.000000e+00    1.000000e+00  \n",
       "25%      1.000000e+00    3.000000e+01  \n",
       "50%      2.000000e+00    3.650000e+02  \n",
       "75%      4.000000e+00    9.990000e+02  \n",
       "max      9.990000e+02    2.147484e+09  \n",
       "std      3.108959e+01    1.091544e+08  "
      ]
     },
     "execution_count": 74,
     "metadata": {},
     "output_type": "execute_result"
    }
   ],
   "source": [
    "df.describe()"
   ]
  },
  {
   "cell_type": "code",
   "execution_count": null,
   "id": "8fa624c8",
   "metadata": {},
   "outputs": [
    {
     "data": {
      "text/plain": [
       "<Figure size 2000x1200 with 0 Axes>"
      ]
     },
     "metadata": {},
     "output_type": "display_data"
    },
    {
     "data": {
      "image/png": "[encoded data removed]",
      "text/plain": [
       "<Figure size 500x500 with 1 Axes>"
      ]
     },
     "metadata": {},
     "output_type": "display_data"
    }
   ],
   "source": [
    "# check the distribution of price\n",
    "plt.figure(figsize=(20,12))\n",
    "sns.displot(df['price'],bins=100)\n",
    "plt.show()"
   ]
  },
  {
   "cell_type": "code",
   "execution_count": null,
   "id": "bb39d3c0",
   "metadata": {},
   "outputs": [
    {
     "data": {
      "text/plain": [
       "listing_id    7281\n",
       "dtype: int64"
      ]
     },
     "execution_count": 79,
     "metadata": {},
     "output_type": "execute_result"
    }
   ],
   "source": [
    "# find unique listings\n",
    "df[['listing_id']].nunique()"
   ]
  },
  {
   "cell_type": "code",
   "execution_count": null,
   "id": "f456993e",
   "metadata": {},
   "outputs": [],
   "source": [
    "df.to_csv(\"calendar_limpio.csv\", index=False)"
   ]
  },
  {
   "cell_type": "code",
   "execution_count": null,
   "id": "0a33e5bb",
   "metadata": {},
   "outputs": [],
   "source": [
    "df=pd.read_csv(\"C:/Users/Rocio/Desktop/ROCÍO/Todo_rocío/Curso_Data_Analyst/Codes/temario/temario/Informe 2-Upgrade/listings.csv\", on_bad_lines='skip') ##ignora las líneas problemáticas"
   ]
  },
  {
   "cell_type": "code",
   "execution_count": null,
   "id": "e1aa2c5f",
   "metadata": {},
   "outputs": [
    {
     "data": {
      "text/html": [
       "<div>\n",
       "<style scoped>\n",
       "    .dataframe tbody tr th:only-of-type {\n",
       "        vertical-align: middle;\n",
       "    }\n",
       "\n",
       "    .dataframe tbody tr th {\n",
       "        vertical-align: top;\n",
       "    }\n",
       "\n",
       "    .dataframe thead th {\n",
       "        text-align: right;\n",
       "    }\n",
       "</style>\n",
       "<table border=\"1\" class=\"dataframe\">\n",
       "  <thead>\n",
       "    <tr style=\"text-align: right;\">\n",
       "      <th></th>\n",
       "      <th>id</th>\n",
       "      <th>listing_url</th>\n",
       "      <th>scrape_id</th>\n",
       "      <th>last_scraped</th>\n",
       "      <th>source</th>\n",
       "      <th>name</th>\n",
       "      <th>description</th>\n",
       "      <th>neighborhood_overview</th>\n",
       "      <th>picture_url</th>\n",
       "      <th>host_id</th>\n",
       "      <th>...</th>\n",
       "      <th>review_scores_communication</th>\n",
       "      <th>review_scores_location</th>\n",
       "      <th>review_scores_value</th>\n",
       "      <th>license</th>\n",
       "      <th>instant_bookable</th>\n",
       "      <th>calculated_host_listings_count</th>\n",
       "      <th>calculated_host_listings_count_entire_homes</th>\n",
       "      <th>calculated_host_listings_count_private_rooms</th>\n",
       "      <th>calculated_host_listings_count_shared_rooms</th>\n",
       "      <th>reviews_per_month</th>\n",
       "    </tr>\n",
       "  </thead>\n",
       "  <tbody>\n",
       "    <tr>\n",
       "      <th>0</th>\n",
       "      <td>97945</td>\n",
       "      <td>https://www.airbnb.com/rooms/97945</td>\n",
       "      <td>20241227033114</td>\n",
       "      <td>2024-12-27</td>\n",
       "      <td>city scrape</td>\n",
       "      <td>Deluxw-Apartm. with roof terrace</td>\n",
       "      <td>NaN</td>\n",
       "      <td>We are living in a outskirt of Munich its call...</td>\n",
       "      <td>https://a0.muscache.com/pictures/2459996/10b4c...</td>\n",
       "      <td>517685</td>\n",
       "      <td>...</td>\n",
       "      <td>4.93</td>\n",
       "      <td>4.78</td>\n",
       "      <td>4.73</td>\n",
       "      <td>NaN</td>\n",
       "      <td>f</td>\n",
       "      <td>2</td>\n",
       "      <td>2</td>\n",
       "      <td>0</td>\n",
       "      <td>0</td>\n",
       "      <td>0.78</td>\n",
       "    </tr>\n",
       "    <tr>\n",
       "      <th>1</th>\n",
       "      <td>114695</td>\n",
       "      <td>https://www.airbnb.com/rooms/114695</td>\n",
       "      <td>20241227033114</td>\n",
       "      <td>2024-12-27</td>\n",
       "      <td>city scrape</td>\n",
       "      <td>Apartment Munich/East with sundeck</td>\n",
       "      <td>NaN</td>\n",
       "      <td>NaN</td>\n",
       "      <td>https://a0.muscache.com/pictures/21571874/960e...</td>\n",
       "      <td>581737</td>\n",
       "      <td>...</td>\n",
       "      <td>5.00</td>\n",
       "      <td>4.67</td>\n",
       "      <td>4.62</td>\n",
       "      <td>NaN</td>\n",
       "      <td>f</td>\n",
       "      <td>3</td>\n",
       "      <td>3</td>\n",
       "      <td>0</td>\n",
       "      <td>0</td>\n",
       "      <td>0.48</td>\n",
       "    </tr>\n",
       "    <tr>\n",
       "      <th>2</th>\n",
       "      <td>127383</td>\n",
       "      <td>https://www.airbnb.com/rooms/127383</td>\n",
       "      <td>20241227033114</td>\n",
       "      <td>2024-12-27</td>\n",
       "      <td>city scrape</td>\n",
       "      <td>City apartment next to Pinakothek</td>\n",
       "      <td>NaN</td>\n",
       "      <td>NaN</td>\n",
       "      <td>https://a0.muscache.com/pictures/79238c11-bc61...</td>\n",
       "      <td>630556</td>\n",
       "      <td>...</td>\n",
       "      <td>4.96</td>\n",
       "      <td>4.91</td>\n",
       "      <td>4.81</td>\n",
       "      <td>NaN</td>\n",
       "      <td>f</td>\n",
       "      <td>1</td>\n",
       "      <td>1</td>\n",
       "      <td>0</td>\n",
       "      <td>0</td>\n",
       "      <td>0.70</td>\n",
       "    </tr>\n",
       "    <tr>\n",
       "      <th>3</th>\n",
       "      <td>159634</td>\n",
       "      <td>https://www.airbnb.com/rooms/159634</td>\n",
       "      <td>20241227033114</td>\n",
       "      <td>2024-12-27</td>\n",
       "      <td>previous scrape</td>\n",
       "      <td>Fancy, bright central roof top flat and homeof...</td>\n",
       "      <td>In this idyllic stylish flat you live very qui...</td>\n",
       "      <td>Very quiet, green, squirrels and beergardens a...</td>\n",
       "      <td>https://a0.muscache.com/pictures/336144dc-b06d...</td>\n",
       "      <td>765694</td>\n",
       "      <td>...</td>\n",
       "      <td>4.80</td>\n",
       "      <td>4.59</td>\n",
       "      <td>4.45</td>\n",
       "      <td>NaN</td>\n",
       "      <td>t</td>\n",
       "      <td>1</td>\n",
       "      <td>1</td>\n",
       "      <td>0</td>\n",
       "      <td>0</td>\n",
       "      <td>0.27</td>\n",
       "    </tr>\n",
       "    <tr>\n",
       "      <th>4</th>\n",
       "      <td>170154</td>\n",
       "      <td>https://www.airbnb.com/rooms/170154</td>\n",
       "      <td>20241227033114</td>\n",
       "      <td>2024-12-27</td>\n",
       "      <td>city scrape</td>\n",
       "      <td>Own floor &amp; bath, parking &amp; breakfast</td>\n",
       "      <td>Enjoy a quiet neighbourhood, easy access to th...</td>\n",
       "      <td>NaN</td>\n",
       "      <td>https://a0.muscache.com/pictures/31636890/593e...</td>\n",
       "      <td>108297</td>\n",
       "      <td>...</td>\n",
       "      <td>4.98</td>\n",
       "      <td>4.77</td>\n",
       "      <td>4.91</td>\n",
       "      <td>NaN</td>\n",
       "      <td>f</td>\n",
       "      <td>1</td>\n",
       "      <td>0</td>\n",
       "      <td>1</td>\n",
       "      <td>0</td>\n",
       "      <td>3.55</td>\n",
       "    </tr>\n",
       "  </tbody>\n",
       "</table>\n",
       "<p>5 rows × 75 columns</p>\n",
       "</div>"
      ],
      "text/plain": [
       "       id                          listing_url       scrape_id last_scraped  \\\n",
       "0   97945   https://www.airbnb.com/rooms/97945  20241227033114   2024-12-27   \n",
       "1  114695  https://www.airbnb.com/rooms/114695  20241227033114   2024-12-27   \n",
       "2  127383  https://www.airbnb.com/rooms/127383  20241227033114   2024-12-27   \n",
       "3  159634  https://www.airbnb.com/rooms/159634  20241227033114   2024-12-27   \n",
       "4  170154  https://www.airbnb.com/rooms/170154  20241227033114   2024-12-27   \n",
       "\n",
       "            source                                               name  \\\n",
       "0      city scrape                   Deluxw-Apartm. with roof terrace   \n",
       "1      city scrape                 Apartment Munich/East with sundeck   \n",
       "2      city scrape                  City apartment next to Pinakothek   \n",
       "3  previous scrape  Fancy, bright central roof top flat and homeof...   \n",
       "4      city scrape              Own floor & bath, parking & breakfast   \n",
       "\n",
       "                                         description  \\\n",
       "0                                                NaN   \n",
       "1                                                NaN   \n",
       "2                                                NaN   \n",
       "3  In this idyllic stylish flat you live very qui...   \n",
       "4  Enjoy a quiet neighbourhood, easy access to th...   \n",
       "\n",
       "                               neighborhood_overview  \\\n",
       "0  We are living in a outskirt of Munich its call...   \n",
       "1                                                NaN   \n",
       "2                                                NaN   \n",
       "3  Very quiet, green, squirrels and beergardens a...   \n",
       "4                                                NaN   \n",
       "\n",
       "                                         picture_url  host_id  ...  \\\n",
       "0  https://a0.muscache.com/pictures/2459996/10b4c...   517685  ...   \n",
       "1  https://a0.muscache.com/pictures/21571874/960e...   581737  ...   \n",
       "2  https://a0.muscache.com/pictures/79238c11-bc61...   630556  ...   \n",
       "3  https://a0.muscache.com/pictures/336144dc-b06d...   765694  ...   \n",
       "4  https://a0.muscache.com/pictures/31636890/593e...   108297  ...   \n",
       "\n",
       "  review_scores_communication review_scores_location review_scores_value  \\\n",
       "0                        4.93                   4.78                4.73   \n",
       "1                        5.00                   4.67                4.62   \n",
       "2                        4.96                   4.91                4.81   \n",
       "3                        4.80                   4.59                4.45   \n",
       "4                        4.98                   4.77                4.91   \n",
       "\n",
       "  license instant_bookable calculated_host_listings_count  \\\n",
       "0     NaN                f                              2   \n",
       "1     NaN                f                              3   \n",
       "2     NaN                f                              1   \n",
       "3     NaN                t                              1   \n",
       "4     NaN                f                              1   \n",
       "\n",
       "  calculated_host_listings_count_entire_homes  \\\n",
       "0                                           2   \n",
       "1                                           3   \n",
       "2                                           1   \n",
       "3                                           1   \n",
       "4                                           0   \n",
       "\n",
       "  calculated_host_listings_count_private_rooms  \\\n",
       "0                                            0   \n",
       "1                                            0   \n",
       "2                                            0   \n",
       "3                                            0   \n",
       "4                                            1   \n",
       "\n",
       "  calculated_host_listings_count_shared_rooms reviews_per_month  \n",
       "0                                           0              0.78  \n",
       "1                                           0              0.48  \n",
       "2                                           0              0.70  \n",
       "3                                           0              0.27  \n",
       "4                                           0              3.55  \n",
       "\n",
       "[5 rows x 75 columns]"
      ]
     },
     "execution_count": 27,
     "metadata": {},
     "output_type": "execute_result"
    }
   ],
   "source": [
    "df.head()"
   ]
  },
  {
   "cell_type": "code",
   "execution_count": null,
   "id": "e568ef1d",
   "metadata": {},
   "outputs": [
    {
     "data": {
      "text/html": [
       "<div>\n",
       "<style scoped>\n",
       "    .dataframe tbody tr th:only-of-type {\n",
       "        vertical-align: middle;\n",
       "    }\n",
       "\n",
       "    .dataframe tbody tr th {\n",
       "        vertical-align: top;\n",
       "    }\n",
       "\n",
       "    .dataframe thead th {\n",
       "        text-align: right;\n",
       "    }\n",
       "</style>\n",
       "<table border=\"1\" class=\"dataframe\">\n",
       "  <thead>\n",
       "    <tr style=\"text-align: right;\">\n",
       "      <th></th>\n",
       "      <th>id</th>\n",
       "      <th>listing_url</th>\n",
       "      <th>scrape_id</th>\n",
       "      <th>last_scraped</th>\n",
       "      <th>source</th>\n",
       "      <th>name</th>\n",
       "      <th>description</th>\n",
       "      <th>neighborhood_overview</th>\n",
       "      <th>picture_url</th>\n",
       "      <th>host_id</th>\n",
       "      <th>...</th>\n",
       "      <th>review_scores_communication</th>\n",
       "      <th>review_scores_location</th>\n",
       "      <th>review_scores_value</th>\n",
       "      <th>license</th>\n",
       "      <th>instant_bookable</th>\n",
       "      <th>calculated_host_listings_count</th>\n",
       "      <th>calculated_host_listings_count_entire_homes</th>\n",
       "      <th>calculated_host_listings_count_private_rooms</th>\n",
       "      <th>calculated_host_listings_count_shared_rooms</th>\n",
       "      <th>reviews_per_month</th>\n",
       "    </tr>\n",
       "  </thead>\n",
       "  <tbody>\n",
       "    <tr>\n",
       "      <th>7276</th>\n",
       "      <td>1318625666596506954</td>\n",
       "      <td>https://www.airbnb.com/rooms/1318625666596506954</td>\n",
       "      <td>20241227033114</td>\n",
       "      <td>2024-12-27</td>\n",
       "      <td>city scrape</td>\n",
       "      <td>Stylish Home Bogenhausen</td>\n",
       "      <td>Hype two room apartment in Bogenhausen. The br...</td>\n",
       "      <td>NaN</td>\n",
       "      <td>https://a0.muscache.com/pictures/hosting/Hosti...</td>\n",
       "      <td>44358496</td>\n",
       "      <td>...</td>\n",
       "      <td>NaN</td>\n",
       "      <td>NaN</td>\n",
       "      <td>NaN</td>\n",
       "      <td>NaN</td>\n",
       "      <td>t</td>\n",
       "      <td>2</td>\n",
       "      <td>1</td>\n",
       "      <td>1</td>\n",
       "      <td>0</td>\n",
       "      <td>NaN</td>\n",
       "    </tr>\n",
       "    <tr>\n",
       "      <th>7277</th>\n",
       "      <td>1318641181003988391</td>\n",
       "      <td>https://www.airbnb.com/rooms/1318641181003988391</td>\n",
       "      <td>20241227033114</td>\n",
       "      <td>2024-12-27</td>\n",
       "      <td>city scrape</td>\n",
       "      <td>Boho City Livings Munich</td>\n",
       "      <td>Welcome to your stylish boho home in the middl...</td>\n",
       "      <td>NaN</td>\n",
       "      <td>https://a0.muscache.com/pictures/hosting/Hosti...</td>\n",
       "      <td>175660452</td>\n",
       "      <td>...</td>\n",
       "      <td>NaN</td>\n",
       "      <td>NaN</td>\n",
       "      <td>NaN</td>\n",
       "      <td>NaN</td>\n",
       "      <td>t</td>\n",
       "      <td>1</td>\n",
       "      <td>1</td>\n",
       "      <td>0</td>\n",
       "      <td>0</td>\n",
       "      <td>NaN</td>\n",
       "    </tr>\n",
       "    <tr>\n",
       "      <th>7278</th>\n",
       "      <td>1319473798937477143</td>\n",
       "      <td>https://www.airbnb.com/rooms/1319473798937477143</td>\n",
       "      <td>20241227033114</td>\n",
       "      <td>2024-12-27</td>\n",
       "      <td>city scrape</td>\n",
       "      <td>Welcome to MyCozyHome</td>\n",
       "      <td>From this centrally located accommodation, you...</td>\n",
       "      <td>NaN</td>\n",
       "      <td>https://a0.muscache.com/pictures/hosting/Hosti...</td>\n",
       "      <td>508416232</td>\n",
       "      <td>...</td>\n",
       "      <td>NaN</td>\n",
       "      <td>NaN</td>\n",
       "      <td>NaN</td>\n",
       "      <td>NaN</td>\n",
       "      <td>f</td>\n",
       "      <td>1</td>\n",
       "      <td>1</td>\n",
       "      <td>0</td>\n",
       "      <td>0</td>\n",
       "      <td>NaN</td>\n",
       "    </tr>\n",
       "    <tr>\n",
       "      <th>7279</th>\n",
       "      <td>1319597606422421040</td>\n",
       "      <td>https://www.airbnb.com/rooms/1319597606422421040</td>\n",
       "      <td>20241227033114</td>\n",
       "      <td>2024-12-27</td>\n",
       "      <td>city scrape</td>\n",
       "      <td>3-room apartment in the center of Munich</td>\n",
       "      <td>3-room apartment in the center of Munich with ...</td>\n",
       "      <td>NaN</td>\n",
       "      <td>https://a0.muscache.com/pictures/miso/Hosting-...</td>\n",
       "      <td>594363723</td>\n",
       "      <td>...</td>\n",
       "      <td>NaN</td>\n",
       "      <td>NaN</td>\n",
       "      <td>NaN</td>\n",
       "      <td>NaN</td>\n",
       "      <td>t</td>\n",
       "      <td>2</td>\n",
       "      <td>2</td>\n",
       "      <td>0</td>\n",
       "      <td>0</td>\n",
       "      <td>NaN</td>\n",
       "    </tr>\n",
       "    <tr>\n",
       "      <th>7280</th>\n",
       "      <td>1319650217063619527</td>\n",
       "      <td>https://www.airbnb.com/rooms/1319650217063619527</td>\n",
       "      <td>20241227033114</td>\n",
       "      <td>2024-12-27</td>\n",
       "      <td>city scrape</td>\n",
       "      <td>Beautiful apartment-Selverster</td>\n",
       "      <td>Hi, there is one big apartment with full furni...</td>\n",
       "      <td>NaN</td>\n",
       "      <td>https://a0.muscache.com/pictures/hosting/Hosti...</td>\n",
       "      <td>595328708</td>\n",
       "      <td>...</td>\n",
       "      <td>NaN</td>\n",
       "      <td>NaN</td>\n",
       "      <td>NaN</td>\n",
       "      <td>NaN</td>\n",
       "      <td>f</td>\n",
       "      <td>2</td>\n",
       "      <td>2</td>\n",
       "      <td>0</td>\n",
       "      <td>0</td>\n",
       "      <td>NaN</td>\n",
       "    </tr>\n",
       "  </tbody>\n",
       "</table>\n",
       "<p>5 rows × 75 columns</p>\n",
       "</div>"
      ],
      "text/plain": [
       "                       id                                       listing_url  \\\n",
       "7276  1318625666596506954  https://www.airbnb.com/rooms/1318625666596506954   \n",
       "7277  1318641181003988391  https://www.airbnb.com/rooms/1318641181003988391   \n",
       "7278  1319473798937477143  https://www.airbnb.com/rooms/1319473798937477143   \n",
       "7279  1319597606422421040  https://www.airbnb.com/rooms/1319597606422421040   \n",
       "7280  1319650217063619527  https://www.airbnb.com/rooms/1319650217063619527   \n",
       "\n",
       "           scrape_id last_scraped       source  \\\n",
       "7276  20241227033114   2024-12-27  city scrape   \n",
       "7277  20241227033114   2024-12-27  city scrape   \n",
       "7278  20241227033114   2024-12-27  city scrape   \n",
       "7279  20241227033114   2024-12-27  city scrape   \n",
       "7280  20241227033114   2024-12-27  city scrape   \n",
       "\n",
       "                                          name  \\\n",
       "7276                  Stylish Home Bogenhausen   \n",
       "7277                  Boho City Livings Munich   \n",
       "7278                     Welcome to MyCozyHome   \n",
       "7279  3-room apartment in the center of Munich   \n",
       "7280            Beautiful apartment-Selverster   \n",
       "\n",
       "                                            description neighborhood_overview  \\\n",
       "7276  Hype two room apartment in Bogenhausen. The br...                   NaN   \n",
       "7277  Welcome to your stylish boho home in the middl...                   NaN   \n",
       "7278  From this centrally located accommodation, you...                   NaN   \n",
       "7279  3-room apartment in the center of Munich with ...                   NaN   \n",
       "7280  Hi, there is one big apartment with full furni...                   NaN   \n",
       "\n",
       "                                            picture_url    host_id  ...  \\\n",
       "7276  https://a0.muscache.com/pictures/hosting/Hosti...   44358496  ...   \n",
       "7277  https://a0.muscache.com/pictures/hosting/Hosti...  175660452  ...   \n",
       "7278  https://a0.muscache.com/pictures/hosting/Hosti...  508416232  ...   \n",
       "7279  https://a0.muscache.com/pictures/miso/Hosting-...  594363723  ...   \n",
       "7280  https://a0.muscache.com/pictures/hosting/Hosti...  595328708  ...   \n",
       "\n",
       "     review_scores_communication review_scores_location review_scores_value  \\\n",
       "7276                         NaN                    NaN                 NaN   \n",
       "7277                         NaN                    NaN                 NaN   \n",
       "7278                         NaN                    NaN                 NaN   \n",
       "7279                         NaN                    NaN                 NaN   \n",
       "7280                         NaN                    NaN                 NaN   \n",
       "\n",
       "     license instant_bookable calculated_host_listings_count  \\\n",
       "7276     NaN                t                              2   \n",
       "7277     NaN                t                              1   \n",
       "7278     NaN                f                              1   \n",
       "7279     NaN                t                              2   \n",
       "7280     NaN                f                              2   \n",
       "\n",
       "     calculated_host_listings_count_entire_homes  \\\n",
       "7276                                           1   \n",
       "7277                                           1   \n",
       "7278                                           1   \n",
       "7279                                           2   \n",
       "7280                                           2   \n",
       "\n",
       "     calculated_host_listings_count_private_rooms  \\\n",
       "7276                                            1   \n",
       "7277                                            0   \n",
       "7278                                            0   \n",
       "7279                                            0   \n",
       "7280                                            0   \n",
       "\n",
       "     calculated_host_listings_count_shared_rooms reviews_per_month  \n",
       "7276                                           0               NaN  \n",
       "7277                                           0               NaN  \n",
       "7278                                           0               NaN  \n",
       "7279                                           0               NaN  \n",
       "7280                                           0               NaN  \n",
       "\n",
       "[5 rows x 75 columns]"
      ]
     },
     "execution_count": 28,
     "metadata": {},
     "output_type": "execute_result"
    }
   ],
   "source": [
    "df.tail()"
   ]
  },
  {
   "cell_type": "code",
   "execution_count": null,
   "id": "578cc080",
   "metadata": {},
   "outputs": [
    {
     "name": "stdout",
     "output_type": "stream",
     "text": [
      "Number of rows: 7281\n",
      "Number of columns: 75\n"
     ]
    }
   ],
   "source": [
    "print(\"Number of rows:\", df.shape[0])\n",
    "print(\"Number of columns:\", df.shape[1])"
   ]
  },
  {
   "cell_type": "code",
   "execution_count": null,
   "id": "0e7401ff",
   "metadata": {},
   "outputs": [
    {
     "name": "stdout",
     "output_type": "stream",
     "text": [
      "<class 'pandas.core.frame.DataFrame'>\n",
      "RangeIndex: 7281 entries, 0 to 7280\n",
      "Data columns (total 75 columns):\n",
      " #   Column                                        Non-Null Count  Dtype  \n",
      "---  ------                                        --------------  -----  \n",
      " 0   id                                            7281 non-null   int64  \n",
      " 1   listing_url                                   7281 non-null   object \n",
      " 2   scrape_id                                     7281 non-null   int64  \n",
      " 3   last_scraped                                  7281 non-null   object \n",
      " 4   source                                        7281 non-null   object \n",
      " 5   name                                          7281 non-null   object \n",
      " 6   description                                   7010 non-null   object \n",
      " 7   neighborhood_overview                         2564 non-null   object \n",
      " 8   picture_url                                   7281 non-null   object \n",
      " 9   host_id                                       7281 non-null   int64  \n",
      " 10  host_url                                      7281 non-null   object \n",
      " 11  host_name                                     7279 non-null   object \n",
      " 12  host_since                                    7279 non-null   object \n",
      " 13  host_location                                 5723 non-null   object \n",
      " 14  host_about                                    2811 non-null   object \n",
      " 15  host_response_time                            4666 non-null   object \n",
      " 16  host_response_rate                            4666 non-null   object \n",
      " 17  host_acceptance_rate                          5854 non-null   object \n",
      " 18  host_is_superhost                             7223 non-null   object \n",
      " 19  host_thumbnail_url                            7279 non-null   object \n",
      " 20  host_picture_url                              7279 non-null   object \n",
      " 21  host_neighbourhood                            1805 non-null   object \n",
      " 22  host_listings_count                           7279 non-null   float64\n",
      " 23  host_total_listings_count                     7279 non-null   float64\n",
      " 24  host_verifications                            7279 non-null   object \n",
      " 25  host_has_profile_pic                          7279 non-null   object \n",
      " 26  host_identity_verified                        7279 non-null   object \n",
      " 27  neighbourhood                                 2564 non-null   object \n",
      " 28  neighbourhood_cleansed                        7281 non-null   object \n",
      " 29  neighbourhood_group_cleansed                  0 non-null      float64\n",
      " 30  latitude                                      7281 non-null   float64\n",
      " 31  longitude                                     7281 non-null   float64\n",
      " 32  property_type                                 7281 non-null   object \n",
      " 33  room_type                                     7281 non-null   object \n",
      " 34  accommodates                                  7281 non-null   int64  \n",
      " 35  bathrooms                                     4722 non-null   float64\n",
      " 36  bathrooms_text                                7273 non-null   object \n",
      " 37  bedrooms                                      6502 non-null   float64\n",
      " 38  beds                                          4724 non-null   float64\n",
      " 39  amenities                                     7281 non-null   object \n",
      " 40  price                                         4727 non-null   object \n",
      " 41  minimum_nights                                7281 non-null   int64  \n",
      " 42  maximum_nights                                7281 non-null   int64  \n",
      " 43  minimum_minimum_nights                        7281 non-null   int64  \n",
      " 44  maximum_minimum_nights                        7281 non-null   int64  \n",
      " 45  minimum_maximum_nights                        7281 non-null   int64  \n",
      " 46  maximum_maximum_nights                        7281 non-null   int64  \n",
      " 47  minimum_nights_avg_ntm                        7281 non-null   float64\n",
      " 48  maximum_nights_avg_ntm                        7281 non-null   float64\n",
      " 49  calendar_updated                              0 non-null      float64\n",
      " 50  has_availability                              7040 non-null   object \n",
      " 51  availability_30                               7281 non-null   int64  \n",
      " 52  availability_60                               7281 non-null   int64  \n",
      " 53  availability_90                               7281 non-null   int64  \n",
      " 54  availability_365                              7281 non-null   int64  \n",
      " 55  calendar_last_scraped                         7281 non-null   object \n",
      " 56  number_of_reviews                             7281 non-null   int64  \n",
      " 57  number_of_reviews_ltm                         7281 non-null   int64  \n",
      " 58  number_of_reviews_l30d                        7281 non-null   int64  \n",
      " 59  first_review                                  5902 non-null   object \n",
      " 60  last_review                                   5902 non-null   object \n",
      " 61  review_scores_rating                          5902 non-null   float64\n",
      " 62  review_scores_accuracy                        5902 non-null   float64\n",
      " 63  review_scores_cleanliness                     5902 non-null   float64\n",
      " 64  review_scores_checkin                         5902 non-null   float64\n",
      " 65  review_scores_communication                   5902 non-null   float64\n",
      " 66  review_scores_location                        5902 non-null   float64\n",
      " 67  review_scores_value                           5902 non-null   float64\n",
      " 68  license                                       38 non-null     object \n",
      " 69  instant_bookable                              7281 non-null   object \n",
      " 70  calculated_host_listings_count                7281 non-null   int64  \n",
      " 71  calculated_host_listings_count_entire_homes   7281 non-null   int64  \n",
      " 72  calculated_host_listings_count_private_rooms  7281 non-null   int64  \n",
      " 73  calculated_host_listings_count_shared_rooms   7281 non-null   int64  \n",
      " 74  reviews_per_month                             5902 non-null   float64\n",
      "dtypes: float64(19), int64(21), object(35)\n",
      "memory usage: 4.2+ MB\n"
     ]
    }
   ],
   "source": [
    "df.info()"
   ]
  },
  {
   "cell_type": "code",
   "execution_count": null,
   "id": "f5724287",
   "metadata": {},
   "outputs": [
    {
     "data": {
      "text/plain": [
       "id                                                int64\n",
       "listing_url                                      object\n",
       "scrape_id                                         int64\n",
       "last_scraped                                     object\n",
       "source                                           object\n",
       "                                                 ...   \n",
       "calculated_host_listings_count                    int64\n",
       "calculated_host_listings_count_entire_homes       int64\n",
       "calculated_host_listings_count_private_rooms      int64\n",
       "calculated_host_listings_count_shared_rooms       int64\n",
       "reviews_per_month                               float64\n",
       "Length: 75, dtype: object"
      ]
     },
     "execution_count": 31,
     "metadata": {},
     "output_type": "execute_result"
    }
   ],
   "source": [
    "df.dtypes"
   ]
  },
  {
   "cell_type": "code",
   "execution_count": null,
   "id": "a2afeb7d",
   "metadata": {},
   "outputs": [
    {
     "data": {
      "text/plain": [
       "np.int64(0)"
      ]
     },
     "execution_count": 32,
     "metadata": {},
     "output_type": "execute_result"
    }
   ],
   "source": [
    "df.duplicated().sum()"
   ]
  },
  {
   "cell_type": "code",
   "execution_count": null,
   "id": "7b56cf76",
   "metadata": {},
   "outputs": [
    {
     "data": {
      "text/plain": [
       "id                                              False\n",
       "listing_url                                     False\n",
       "scrape_id                                       False\n",
       "last_scraped                                    False\n",
       "source                                          False\n",
       "                                                ...  \n",
       "calculated_host_listings_count                  False\n",
       "calculated_host_listings_count_entire_homes     False\n",
       "calculated_host_listings_count_private_rooms    False\n",
       "calculated_host_listings_count_shared_rooms     False\n",
       "reviews_per_month                                True\n",
       "Length: 75, dtype: bool"
      ]
     },
     "execution_count": 33,
     "metadata": {},
     "output_type": "execute_result"
    }
   ],
   "source": [
    "df.isna().any()"
   ]
  },
  {
   "cell_type": "code",
   "execution_count": null,
   "id": "c08a4e7e",
   "metadata": {},
   "outputs": [
    {
     "data": {
      "text/plain": [
       "id                                                 0\n",
       "listing_url                                        0\n",
       "scrape_id                                          0\n",
       "last_scraped                                       0\n",
       "source                                             0\n",
       "                                                ... \n",
       "calculated_host_listings_count                     0\n",
       "calculated_host_listings_count_entire_homes        0\n",
       "calculated_host_listings_count_private_rooms       0\n",
       "calculated_host_listings_count_shared_rooms        0\n",
       "reviews_per_month                               1379\n",
       "Length: 75, dtype: int64"
      ]
     },
     "execution_count": 34,
     "metadata": {},
     "output_type": "execute_result"
    }
   ],
   "source": [
    "df.isna().sum()"
   ]
  },
  {
   "cell_type": "code",
   "execution_count": null,
   "id": "c26285c3",
   "metadata": {},
   "outputs": [
    {
     "data": {
      "text/plain": [
       "Index(['id', 'listing_url', 'scrape_id', 'last_scraped', 'source', 'name',\n",
       "       'description', 'neighborhood_overview', 'picture_url', 'host_id',\n",
       "       'host_url', 'host_name', 'host_since', 'host_location', 'host_about',\n",
       "       'host_response_time', 'host_response_rate', 'host_acceptance_rate',\n",
       "       'host_is_superhost', 'host_thumbnail_url', 'host_picture_url',\n",
       "       'host_neighbourhood', 'host_listings_count',\n",
       "       'host_total_listings_count', 'host_verifications',\n",
       "       'host_has_profile_pic', 'host_identity_verified', 'neighbourhood',\n",
       "       'neighbourhood_cleansed', 'neighbourhood_group_cleansed', 'latitude',\n",
       "       'longitude', 'property_type', 'room_type', 'accommodates', 'bathrooms',\n",
       "       'bathrooms_text', 'bedrooms', 'beds', 'amenities', 'price',\n",
       "       'minimum_nights', 'maximum_nights', 'minimum_minimum_nights',\n",
       "       'maximum_minimum_nights', 'minimum_maximum_nights',\n",
       "       'maximum_maximum_nights', 'minimum_nights_avg_ntm',\n",
       "       'maximum_nights_avg_ntm', 'calendar_updated', 'has_availability',\n",
       "       'availability_30', 'availability_60', 'availability_90',\n",
       "       'availability_365', 'calendar_last_scraped', 'number_of_reviews',\n",
       "       'number_of_reviews_ltm', 'number_of_reviews_l30d', 'first_review',\n",
       "       'last_review', 'review_scores_rating', 'review_scores_accuracy',\n",
       "       'review_scores_cleanliness', 'review_scores_checkin',\n",
       "       'review_scores_communication', 'review_scores_location',\n",
       "       'review_scores_value', 'license', 'instant_bookable',\n",
       "       'calculated_host_listings_count',\n",
       "       'calculated_host_listings_count_entire_homes',\n",
       "       'calculated_host_listings_count_private_rooms',\n",
       "       'calculated_host_listings_count_shared_rooms', 'reviews_per_month'],\n",
       "      dtype='object')"
      ]
     },
     "execution_count": 35,
     "metadata": {},
     "output_type": "execute_result"
    }
   ],
   "source": [
    "df.columns"
   ]
  },
  {
   "cell_type": "code",
   "execution_count": null,
   "id": "cf3f3144",
   "metadata": {},
   "outputs": [
    {
     "data": {
      "text/html": [
       "<div>\n",
       "<style scoped>\n",
       "    .dataframe tbody tr th:only-of-type {\n",
       "        vertical-align: middle;\n",
       "    }\n",
       "\n",
       "    .dataframe tbody tr th {\n",
       "        vertical-align: top;\n",
       "    }\n",
       "\n",
       "    .dataframe thead th {\n",
       "        text-align: right;\n",
       "    }\n",
       "</style>\n",
       "<table border=\"1\" class=\"dataframe\">\n",
       "  <thead>\n",
       "    <tr style=\"text-align: right;\">\n",
       "      <th></th>\n",
       "      <th>id</th>\n",
       "      <th>scrape_id</th>\n",
       "      <th>host_id</th>\n",
       "      <th>host_listings_count</th>\n",
       "      <th>host_total_listings_count</th>\n",
       "      <th>neighbourhood_group_cleansed</th>\n",
       "      <th>latitude</th>\n",
       "      <th>longitude</th>\n",
       "      <th>accommodates</th>\n",
       "      <th>bathrooms</th>\n",
       "      <th>...</th>\n",
       "      <th>review_scores_cleanliness</th>\n",
       "      <th>review_scores_checkin</th>\n",
       "      <th>review_scores_communication</th>\n",
       "      <th>review_scores_location</th>\n",
       "      <th>review_scores_value</th>\n",
       "      <th>calculated_host_listings_count</th>\n",
       "      <th>calculated_host_listings_count_entire_homes</th>\n",
       "      <th>calculated_host_listings_count_private_rooms</th>\n",
       "      <th>calculated_host_listings_count_shared_rooms</th>\n",
       "      <th>reviews_per_month</th>\n",
       "    </tr>\n",
       "  </thead>\n",
       "  <tbody>\n",
       "    <tr>\n",
       "      <th>count</th>\n",
       "      <td>7.281000e+03</td>\n",
       "      <td>7.281000e+03</td>\n",
       "      <td>7.281000e+03</td>\n",
       "      <td>7279.000000</td>\n",
       "      <td>7279.000000</td>\n",
       "      <td>0.0</td>\n",
       "      <td>7281.000000</td>\n",
       "      <td>7281.000000</td>\n",
       "      <td>7281.000000</td>\n",
       "      <td>4722.000000</td>\n",
       "      <td>...</td>\n",
       "      <td>5902.000000</td>\n",
       "      <td>5902.000000</td>\n",
       "      <td>5902.000000</td>\n",
       "      <td>5902.000000</td>\n",
       "      <td>5902.000000</td>\n",
       "      <td>7281.000000</td>\n",
       "      <td>7281.000000</td>\n",
       "      <td>7281.000000</td>\n",
       "      <td>7281.000000</td>\n",
       "      <td>5902.000000</td>\n",
       "    </tr>\n",
       "    <tr>\n",
       "      <th>mean</th>\n",
       "      <td>6.195128e+17</td>\n",
       "      <td>2.024123e+13</td>\n",
       "      <td>2.002912e+08</td>\n",
       "      <td>5.636626</td>\n",
       "      <td>7.122819</td>\n",
       "      <td>NaN</td>\n",
       "      <td>48.139742</td>\n",
       "      <td>11.563053</td>\n",
       "      <td>2.769674</td>\n",
       "      <td>1.139030</td>\n",
       "      <td>...</td>\n",
       "      <td>4.735713</td>\n",
       "      <td>4.852311</td>\n",
       "      <td>4.865474</td>\n",
       "      <td>4.790410</td>\n",
       "      <td>4.628128</td>\n",
       "      <td>2.945612</td>\n",
       "      <td>2.138030</td>\n",
       "      <td>0.784645</td>\n",
       "      <td>0.004532</td>\n",
       "      <td>1.043478</td>\n",
       "    </tr>\n",
       "    <tr>\n",
       "      <th>std</th>\n",
       "      <td>5.156732e+17</td>\n",
       "      <td>0.000000e+00</td>\n",
       "      <td>1.979409e+08</td>\n",
       "      <td>42.430118</td>\n",
       "      <td>49.848934</td>\n",
       "      <td>NaN</td>\n",
       "      <td>0.025549</td>\n",
       "      <td>0.050165</td>\n",
       "      <td>1.648207</td>\n",
       "      <td>0.512805</td>\n",
       "      <td>...</td>\n",
       "      <td>0.413522</td>\n",
       "      <td>0.305526</td>\n",
       "      <td>0.299123</td>\n",
       "      <td>0.307753</td>\n",
       "      <td>0.420937</td>\n",
       "      <td>8.383039</td>\n",
       "      <td>8.256452</td>\n",
       "      <td>2.028043</td>\n",
       "      <td>0.076721</td>\n",
       "      <td>1.751251</td>\n",
       "    </tr>\n",
       "    <tr>\n",
       "      <th>min</th>\n",
       "      <td>9.794500e+04</td>\n",
       "      <td>2.024123e+13</td>\n",
       "      <td>1.581000e+03</td>\n",
       "      <td>1.000000</td>\n",
       "      <td>1.000000</td>\n",
       "      <td>NaN</td>\n",
       "      <td>48.071440</td>\n",
       "      <td>11.388350</td>\n",
       "      <td>1.000000</td>\n",
       "      <td>0.000000</td>\n",
       "      <td>...</td>\n",
       "      <td>1.000000</td>\n",
       "      <td>0.000000</td>\n",
       "      <td>1.000000</td>\n",
       "      <td>1.000000</td>\n",
       "      <td>1.000000</td>\n",
       "      <td>1.000000</td>\n",
       "      <td>0.000000</td>\n",
       "      <td>0.000000</td>\n",
       "      <td>0.000000</td>\n",
       "      <td>0.010000</td>\n",
       "    </tr>\n",
       "    <tr>\n",
       "      <th>25%</th>\n",
       "      <td>3.845796e+07</td>\n",
       "      <td>2.024123e+13</td>\n",
       "      <td>2.799445e+07</td>\n",
       "      <td>1.000000</td>\n",
       "      <td>1.000000</td>\n",
       "      <td>NaN</td>\n",
       "      <td>48.123240</td>\n",
       "      <td>11.538370</td>\n",
       "      <td>2.000000</td>\n",
       "      <td>1.000000</td>\n",
       "      <td>...</td>\n",
       "      <td>4.650000</td>\n",
       "      <td>4.820000</td>\n",
       "      <td>4.850000</td>\n",
       "      <td>4.710000</td>\n",
       "      <td>4.500000</td>\n",
       "      <td>1.000000</td>\n",
       "      <td>0.000000</td>\n",
       "      <td>0.000000</td>\n",
       "      <td>0.000000</td>\n",
       "      <td>0.190000</td>\n",
       "    </tr>\n",
       "    <tr>\n",
       "      <th>50%</th>\n",
       "      <td>7.353609e+17</td>\n",
       "      <td>2.024123e+13</td>\n",
       "      <td>1.175858e+08</td>\n",
       "      <td>1.000000</td>\n",
       "      <td>2.000000</td>\n",
       "      <td>NaN</td>\n",
       "      <td>48.137090</td>\n",
       "      <td>11.564599</td>\n",
       "      <td>2.000000</td>\n",
       "      <td>1.000000</td>\n",
       "      <td>...</td>\n",
       "      <td>4.880000</td>\n",
       "      <td>4.960000</td>\n",
       "      <td>5.000000</td>\n",
       "      <td>4.880000</td>\n",
       "      <td>4.720000</td>\n",
       "      <td>1.000000</td>\n",
       "      <td>1.000000</td>\n",
       "      <td>0.000000</td>\n",
       "      <td>0.000000</td>\n",
       "      <td>0.500000</td>\n",
       "    </tr>\n",
       "    <tr>\n",
       "      <th>75%</th>\n",
       "      <td>1.112765e+18</td>\n",
       "      <td>2.024123e+13</td>\n",
       "      <td>3.766110e+08</td>\n",
       "      <td>2.000000</td>\n",
       "      <td>3.000000</td>\n",
       "      <td>NaN</td>\n",
       "      <td>48.155610</td>\n",
       "      <td>11.586773</td>\n",
       "      <td>4.000000</td>\n",
       "      <td>1.000000</td>\n",
       "      <td>...</td>\n",
       "      <td>5.000000</td>\n",
       "      <td>5.000000</td>\n",
       "      <td>5.000000</td>\n",
       "      <td>5.000000</td>\n",
       "      <td>4.900000</td>\n",
       "      <td>2.000000</td>\n",
       "      <td>1.000000</td>\n",
       "      <td>1.000000</td>\n",
       "      <td>0.000000</td>\n",
       "      <td>1.240000</td>\n",
       "    </tr>\n",
       "    <tr>\n",
       "      <th>max</th>\n",
       "      <td>1.319650e+18</td>\n",
       "      <td>2.024123e+13</td>\n",
       "      <td>6.675842e+08</td>\n",
       "      <td>1140.000000</td>\n",
       "      <td>1307.000000</td>\n",
       "      <td>NaN</td>\n",
       "      <td>48.228020</td>\n",
       "      <td>11.712770</td>\n",
       "      <td>16.000000</td>\n",
       "      <td>23.000000</td>\n",
       "      <td>...</td>\n",
       "      <td>5.000000</td>\n",
       "      <td>5.000000</td>\n",
       "      <td>5.000000</td>\n",
       "      <td>5.000000</td>\n",
       "      <td>5.000000</td>\n",
       "      <td>78.000000</td>\n",
       "      <td>78.000000</td>\n",
       "      <td>24.000000</td>\n",
       "      <td>2.000000</td>\n",
       "      <td>48.810000</td>\n",
       "    </tr>\n",
       "  </tbody>\n",
       "</table>\n",
       "<p>8 rows × 40 columns</p>\n",
       "</div>"
      ],
      "text/plain": [
       "                 id     scrape_id       host_id  host_listings_count  \\\n",
       "count  7.281000e+03  7.281000e+03  7.281000e+03          7279.000000   \n",
       "mean   6.195128e+17  2.024123e+13  2.002912e+08             5.636626   \n",
       "std    5.156732e+17  0.000000e+00  1.979409e+08            42.430118   \n",
       "min    9.794500e+04  2.024123e+13  1.581000e+03             1.000000   \n",
       "25%    3.845796e+07  2.024123e+13  2.799445e+07             1.000000   \n",
       "50%    7.353609e+17  2.024123e+13  1.175858e+08             1.000000   \n",
       "75%    1.112765e+18  2.024123e+13  3.766110e+08             2.000000   \n",
       "max    1.319650e+18  2.024123e+13  6.675842e+08          1140.000000   \n",
       "\n",
       "       host_total_listings_count  neighbourhood_group_cleansed     latitude  \\\n",
       "count                7279.000000                           0.0  7281.000000   \n",
       "mean                    7.122819                           NaN    48.139742   \n",
       "std                    49.848934                           NaN     0.025549   \n",
       "min                     1.000000                           NaN    48.071440   \n",
       "25%                     1.000000                           NaN    48.123240   \n",
       "50%                     2.000000                           NaN    48.137090   \n",
       "75%                     3.000000                           NaN    48.155610   \n",
       "max                  1307.000000                           NaN    48.228020   \n",
       "\n",
       "         longitude  accommodates    bathrooms  ...  review_scores_cleanliness  \\\n",
       "count  7281.000000   7281.000000  4722.000000  ...                5902.000000   \n",
       "mean     11.563053      2.769674     1.139030  ...                   4.735713   \n",
       "std       0.050165      1.648207     0.512805  ...                   0.413522   \n",
       "min      11.388350      1.000000     0.000000  ...                   1.000000   \n",
       "25%      11.538370      2.000000     1.000000  ...                   4.650000   \n",
       "50%      11.564599      2.000000     1.000000  ...                   4.880000   \n",
       "75%      11.586773      4.000000     1.000000  ...                   5.000000   \n",
       "max      11.712770     16.000000    23.000000  ...                   5.000000   \n",
       "\n",
       "       review_scores_checkin  review_scores_communication  \\\n",
       "count            5902.000000                  5902.000000   \n",
       "mean                4.852311                     4.865474   \n",
       "std                 0.305526                     0.299123   \n",
       "min                 0.000000                     1.000000   \n",
       "25%                 4.820000                     4.850000   \n",
       "50%                 4.960000                     5.000000   \n",
       "75%                 5.000000                     5.000000   \n",
       "max                 5.000000                     5.000000   \n",
       "\n",
       "       review_scores_location  review_scores_value  \\\n",
       "count             5902.000000          5902.000000   \n",
       "mean                 4.790410             4.628128   \n",
       "std                  0.307753             0.420937   \n",
       "min                  1.000000             1.000000   \n",
       "25%                  4.710000             4.500000   \n",
       "50%                  4.880000             4.720000   \n",
       "75%                  5.000000             4.900000   \n",
       "max                  5.000000             5.000000   \n",
       "\n",
       "       calculated_host_listings_count  \\\n",
       "count                     7281.000000   \n",
       "mean                         2.945612   \n",
       "std                          8.383039   \n",
       "min                          1.000000   \n",
       "25%                          1.000000   \n",
       "50%                          1.000000   \n",
       "75%                          2.000000   \n",
       "max                         78.000000   \n",
       "\n",
       "       calculated_host_listings_count_entire_homes  \\\n",
       "count                                  7281.000000   \n",
       "mean                                      2.138030   \n",
       "std                                       8.256452   \n",
       "min                                       0.000000   \n",
       "25%                                       0.000000   \n",
       "50%                                       1.000000   \n",
       "75%                                       1.000000   \n",
       "max                                      78.000000   \n",
       "\n",
       "       calculated_host_listings_count_private_rooms  \\\n",
       "count                                   7281.000000   \n",
       "mean                                       0.784645   \n",
       "std                                        2.028043   \n",
       "min                                        0.000000   \n",
       "25%                                        0.000000   \n",
       "50%                                        0.000000   \n",
       "75%                                        1.000000   \n",
       "max                                       24.000000   \n",
       "\n",
       "       calculated_host_listings_count_shared_rooms  reviews_per_month  \n",
       "count                                  7281.000000        5902.000000  \n",
       "mean                                      0.004532           1.043478  \n",
       "std                                       0.076721           1.751251  \n",
       "min                                       0.000000           0.010000  \n",
       "25%                                       0.000000           0.190000  \n",
       "50%                                       0.000000           0.500000  \n",
       "75%                                       0.000000           1.240000  \n",
       "max                                       2.000000          48.810000  \n",
       "\n",
       "[8 rows x 40 columns]"
      ]
     },
     "execution_count": 36,
     "metadata": {},
     "output_type": "execute_result"
    }
   ],
   "source": [
    "df.describe()"
   ]
  },
  {
   "cell_type": "code",
   "execution_count": null,
   "id": "c87fff8b",
   "metadata": {},
   "outputs": [
    {
     "name": "stdout",
     "output_type": "stream",
     "text": [
      "No hay valores únicos en  id 7281\n",
      "No hay valores únicos en  listing_url 7281\n",
      "No hay valores únicos en  scrape_id 1\n",
      "No hay valores únicos en  last_scraped 2\n",
      "No hay valores únicos en  source 2\n",
      "No hay valores únicos en  name 7033\n",
      "No hay valores únicos en  description 6414\n",
      "No hay valores únicos en  neighborhood_overview 2290\n",
      "No hay valores únicos en  picture_url 7066\n",
      "No hay valores únicos en  host_id 5822\n",
      "No hay valores únicos en  host_url 5822\n",
      "No hay valores únicos en  host_name 2533\n",
      "No hay valores únicos en  host_since 3088\n",
      "No hay valores únicos en  host_location 327\n",
      "No hay valores únicos en  host_about 2097\n",
      "No hay valores únicos en  host_response_time 4\n",
      "No hay valores únicos en  host_response_rate 55\n",
      "No hay valores únicos en  host_acceptance_rate 100\n",
      "No hay valores únicos en  host_is_superhost 2\n",
      "No hay valores únicos en  host_thumbnail_url 5521\n",
      "No hay valores únicos en  host_picture_url 5521\n",
      "No hay valores únicos en  host_neighbourhood 72\n",
      "No hay valores únicos en  host_listings_count 32\n",
      "No hay valores únicos en  host_total_listings_count 42\n",
      "No hay valores únicos en  host_verifications 7\n",
      "No hay valores únicos en  host_has_profile_pic 2\n",
      "No hay valores únicos en  host_identity_verified 2\n",
      "No hay valores únicos en  neighbourhood 12\n",
      "No hay valores únicos en  neighbourhood_cleansed 25\n",
      "No hay valores únicos en  neighbourhood_group_cleansed 0\n",
      "No hay valores únicos en  latitude 6116\n",
      "No hay valores únicos en  longitude 6340\n",
      "No hay valores únicos en  property_type 52\n",
      "No hay valores únicos en  room_type 4\n",
      "No hay valores únicos en  accommodates 16\n",
      "No hay valores únicos en  bathrooms 11\n",
      "No hay valores únicos en  bathrooms_text 25\n",
      "No hay valores únicos en  bedrooms 14\n",
      "No hay valores únicos en  beds 18\n",
      "No hay valores únicos en  amenities 6728\n",
      "No hay valores únicos en  price 505\n",
      "No hay valores únicos en  minimum_nights 81\n",
      "No hay valores únicos en  maximum_nights 158\n",
      "No hay valores únicos en  minimum_minimum_nights 82\n",
      "No hay valores únicos en  maximum_minimum_nights 88\n",
      "No hay valores únicos en  minimum_maximum_nights 155\n",
      "No hay valores únicos en  maximum_maximum_nights 154\n",
      "No hay valores únicos en  minimum_nights_avg_ntm 229\n",
      "No hay valores únicos en  maximum_nights_avg_ntm 265\n",
      "No hay valores únicos en  calendar_updated 0\n",
      "No hay valores únicos en  has_availability 2\n",
      "No hay valores únicos en  availability_30 31\n",
      "No hay valores únicos en  availability_60 61\n",
      "No hay valores únicos en  availability_90 91\n",
      "No hay valores únicos en  availability_365 364\n",
      "No hay valores únicos en  calendar_last_scraped 2\n",
      "No hay valores únicos en  number_of_reviews 347\n",
      "No hay valores únicos en  number_of_reviews_ltm 119\n",
      "No hay valores únicos en  number_of_reviews_l30d 22\n",
      "No hay valores únicos en  first_review 2045\n",
      "No hay valores únicos en  last_review 1047\n",
      "No hay valores únicos en  review_scores_rating 112\n",
      "No hay valores únicos en  review_scores_accuracy 110\n",
      "No hay valores únicos en  review_scores_cleanliness 137\n",
      "No hay valores únicos en  review_scores_checkin 100\n",
      "No hay valores únicos en  review_scores_communication 105\n",
      "No hay valores únicos en  review_scores_location 114\n",
      "No hay valores únicos en  review_scores_value 130\n",
      "No hay valores únicos en  license 21\n",
      "No hay valores únicos en  instant_bookable 2\n",
      "No hay valores únicos en  calculated_host_listings_count 20\n",
      "No hay valores únicos en  calculated_host_listings_count_entire_homes 18\n",
      "No hay valores únicos en  calculated_host_listings_count_private_rooms 13\n",
      "No hay valores únicos en  calculated_host_listings_count_shared_rooms 3\n",
      "No hay valores únicos en  reviews_per_month 577\n"
     ]
    }
   ],
   "source": [
    "for i in df.columns.tolist():\n",
    "    print(\"No hay valores únicos en \",i,df[i].nunique())"
   ]
  },
  {
   "cell_type": "code",
   "execution_count": null,
   "id": "7222656a",
   "metadata": {},
   "outputs": [
    {
     "name": "stdout",
     "output_type": "stream",
     "text": [
      "Columnas constantes: ['scrape_id']\n"
     ]
    }
   ],
   "source": [
    "const_cols = [col for col in df.columns if df[col].nunique() == 1]\n",
    "print(\"Columnas constantes:\", const_cols)"
   ]
  },
  {
   "cell_type": "code",
   "execution_count": null,
   "id": "63cc3aed",
   "metadata": {},
   "outputs": [
    {
     "name": "stdout",
     "output_type": "stream",
     "text": [
      "Columnas completamente nulas: ['neighbourhood_group_cleansed', 'calendar_updated']\n"
     ]
    }
   ],
   "source": [
    "null_cols = [col for col in df.columns if df[col].isna().all()]\n",
    "print(\"Columnas completamente nulas:\", null_cols)"
   ]
  },
  {
   "cell_type": "code",
   "execution_count": null,
   "id": "2106b572",
   "metadata": {},
   "outputs": [
    {
     "name": "stdout",
     "output_type": "stream",
     "text": [
      "Columnas con baja variabilidad: ['scrape_id', 'last_scraped', 'source', 'host_response_time', 'host_is_superhost', 'host_has_profile_pic', 'host_identity_verified', 'neighbourhood_group_cleansed', 'room_type', 'calendar_updated', 'has_availability', 'calendar_last_scraped', 'instant_bookable', 'calculated_host_listings_count_shared_rooms']\n"
     ]
    }
   ],
   "source": [
    "low_var_cols = [col for col in df.columns if df[col].nunique() < 5]\n",
    "print(\"Columnas con baja variabilidad:\", low_var_cols)"
   ]
  },
  {
   "cell_type": "code",
   "execution_count": null,
   "id": "91e1ccab",
   "metadata": {},
   "outputs": [
    {
     "data": {
      "text/html": [
       "<div>\n",
       "<style scoped>\n",
       "    .dataframe tbody tr th:only-of-type {\n",
       "        vertical-align: middle;\n",
       "    }\n",
       "\n",
       "    .dataframe tbody tr th {\n",
       "        vertical-align: top;\n",
       "    }\n",
       "\n",
       "    .dataframe thead th {\n",
       "        text-align: right;\n",
       "    }\n",
       "</style>\n",
       "<table border=\"1\" class=\"dataframe\">\n",
       "  <thead>\n",
       "    <tr style=\"text-align: right;\">\n",
       "      <th></th>\n",
       "      <th>last_scraped</th>\n",
       "      <th>name</th>\n",
       "      <th>host_id</th>\n",
       "      <th>host_name</th>\n",
       "      <th>host_since</th>\n",
       "      <th>host_location</th>\n",
       "      <th>host_about</th>\n",
       "      <th>host_response_time</th>\n",
       "      <th>host_response_rate</th>\n",
       "      <th>host_acceptance_rate</th>\n",
       "      <th>...</th>\n",
       "      <th>review_scores_checkin</th>\n",
       "      <th>review_scores_communication</th>\n",
       "      <th>review_scores_location</th>\n",
       "      <th>review_scores_value</th>\n",
       "      <th>instant_bookable</th>\n",
       "      <th>calculated_host_listings_count</th>\n",
       "      <th>calculated_host_listings_count_entire_homes</th>\n",
       "      <th>calculated_host_listings_count_private_rooms</th>\n",
       "      <th>calculated_host_listings_count_shared_rooms</th>\n",
       "      <th>reviews_per_month</th>\n",
       "    </tr>\n",
       "  </thead>\n",
       "  <tbody>\n",
       "    <tr>\n",
       "      <th>0</th>\n",
       "      <td>2024-12-27</td>\n",
       "      <td>Deluxw-Apartm. with roof terrace</td>\n",
       "      <td>517685</td>\n",
       "      <td>Angelika</td>\n",
       "      <td>2011-04-18</td>\n",
       "      <td>Munich, Germany</td>\n",
       "      <td>Ich freue mich auf viele internationale Gäste!...</td>\n",
       "      <td>a few days or more</td>\n",
       "      <td>25%</td>\n",
       "      <td>6%</td>\n",
       "      <td>...</td>\n",
       "      <td>4.90</td>\n",
       "      <td>4.93</td>\n",
       "      <td>4.78</td>\n",
       "      <td>4.73</td>\n",
       "      <td>f</td>\n",
       "      <td>2</td>\n",
       "      <td>2</td>\n",
       "      <td>0</td>\n",
       "      <td>0</td>\n",
       "      <td>0.78</td>\n",
       "    </tr>\n",
       "    <tr>\n",
       "      <th>1</th>\n",
       "      <td>2024-12-27</td>\n",
       "      <td>Apartment Munich/East with sundeck</td>\n",
       "      <td>581737</td>\n",
       "      <td>Stephan</td>\n",
       "      <td>2011-05-12</td>\n",
       "      <td>Munich, Germany</td>\n",
       "      <td>I am looking forward to meet interesting peopl...</td>\n",
       "      <td>within a few hours</td>\n",
       "      <td>100%</td>\n",
       "      <td>98%</td>\n",
       "      <td>...</td>\n",
       "      <td>4.97</td>\n",
       "      <td>5.00</td>\n",
       "      <td>4.67</td>\n",
       "      <td>4.62</td>\n",
       "      <td>f</td>\n",
       "      <td>3</td>\n",
       "      <td>3</td>\n",
       "      <td>0</td>\n",
       "      <td>0</td>\n",
       "      <td>0.48</td>\n",
       "    </tr>\n",
       "    <tr>\n",
       "      <th>2</th>\n",
       "      <td>2024-12-27</td>\n",
       "      <td>City apartment next to Pinakothek</td>\n",
       "      <td>630556</td>\n",
       "      <td>Sonja</td>\n",
       "      <td>2011-05-26</td>\n",
       "      <td>Munich, Germany</td>\n",
       "      <td>Hi, mein Name ist Sonja und ich freue mich net...</td>\n",
       "      <td>within a few hours</td>\n",
       "      <td>67%</td>\n",
       "      <td>89%</td>\n",
       "      <td>...</td>\n",
       "      <td>4.98</td>\n",
       "      <td>4.96</td>\n",
       "      <td>4.91</td>\n",
       "      <td>4.81</td>\n",
       "      <td>f</td>\n",
       "      <td>1</td>\n",
       "      <td>1</td>\n",
       "      <td>0</td>\n",
       "      <td>0</td>\n",
       "      <td>0.70</td>\n",
       "    </tr>\n",
       "    <tr>\n",
       "      <th>3</th>\n",
       "      <td>2024-12-27</td>\n",
       "      <td>Fancy, bright central roof top flat and homeof...</td>\n",
       "      <td>765694</td>\n",
       "      <td>Susana</td>\n",
       "      <td>2011-07-01</td>\n",
       "      <td>Munich, Germany</td>\n",
       "      <td>outdoorsy sportive Person from Munich. I love ...</td>\n",
       "      <td>within an hour</td>\n",
       "      <td>100%</td>\n",
       "      <td>92%</td>\n",
       "      <td>...</td>\n",
       "      <td>4.75</td>\n",
       "      <td>4.80</td>\n",
       "      <td>4.59</td>\n",
       "      <td>4.45</td>\n",
       "      <td>t</td>\n",
       "      <td>1</td>\n",
       "      <td>1</td>\n",
       "      <td>0</td>\n",
       "      <td>0</td>\n",
       "      <td>0.27</td>\n",
       "    </tr>\n",
       "    <tr>\n",
       "      <th>4</th>\n",
       "      <td>2024-12-27</td>\n",
       "      <td>Own floor &amp; bath, parking &amp; breakfast</td>\n",
       "      <td>108297</td>\n",
       "      <td>Alex</td>\n",
       "      <td>2010-04-14</td>\n",
       "      <td>Munich, Germany</td>\n",
       "      <td>We love to travel and dream of living in a hou...</td>\n",
       "      <td>within a few hours</td>\n",
       "      <td>100%</td>\n",
       "      <td>100%</td>\n",
       "      <td>...</td>\n",
       "      <td>4.99</td>\n",
       "      <td>4.98</td>\n",
       "      <td>4.77</td>\n",
       "      <td>4.91</td>\n",
       "      <td>f</td>\n",
       "      <td>1</td>\n",
       "      <td>0</td>\n",
       "      <td>1</td>\n",
       "      <td>0</td>\n",
       "      <td>3.55</td>\n",
       "    </tr>\n",
       "  </tbody>\n",
       "</table>\n",
       "<p>5 rows × 61 columns</p>\n",
       "</div>"
      ],
      "text/plain": [
       "  last_scraped                                               name  host_id  \\\n",
       "0   2024-12-27                   Deluxw-Apartm. with roof terrace   517685   \n",
       "1   2024-12-27                 Apartment Munich/East with sundeck   581737   \n",
       "2   2024-12-27                  City apartment next to Pinakothek   630556   \n",
       "3   2024-12-27  Fancy, bright central roof top flat and homeof...   765694   \n",
       "4   2024-12-27              Own floor & bath, parking & breakfast   108297   \n",
       "\n",
       "  host_name  host_since    host_location  \\\n",
       "0  Angelika  2011-04-18  Munich, Germany   \n",
       "1   Stephan  2011-05-12  Munich, Germany   \n",
       "2     Sonja  2011-05-26  Munich, Germany   \n",
       "3    Susana  2011-07-01  Munich, Germany   \n",
       "4      Alex  2010-04-14  Munich, Germany   \n",
       "\n",
       "                                          host_about  host_response_time  \\\n",
       "0  Ich freue mich auf viele internationale Gäste!...  a few days or more   \n",
       "1  I am looking forward to meet interesting peopl...  within a few hours   \n",
       "2  Hi, mein Name ist Sonja und ich freue mich net...  within a few hours   \n",
       "3  outdoorsy sportive Person from Munich. I love ...      within an hour   \n",
       "4  We love to travel and dream of living in a hou...  within a few hours   \n",
       "\n",
       "  host_response_rate host_acceptance_rate  ... review_scores_checkin  \\\n",
       "0                25%                   6%  ...                  4.90   \n",
       "1               100%                  98%  ...                  4.97   \n",
       "2                67%                  89%  ...                  4.98   \n",
       "3               100%                  92%  ...                  4.75   \n",
       "4               100%                 100%  ...                  4.99   \n",
       "\n",
       "  review_scores_communication  review_scores_location  review_scores_value  \\\n",
       "0                        4.93                    4.78                 4.73   \n",
       "1                        5.00                    4.67                 4.62   \n",
       "2                        4.96                    4.91                 4.81   \n",
       "3                        4.80                    4.59                 4.45   \n",
       "4                        4.98                    4.77                 4.91   \n",
       "\n",
       "  instant_bookable calculated_host_listings_count  \\\n",
       "0                f                              2   \n",
       "1                f                              3   \n",
       "2                f                              1   \n",
       "3                t                              1   \n",
       "4                f                              1   \n",
       "\n",
       "  calculated_host_listings_count_entire_homes  \\\n",
       "0                                           2   \n",
       "1                                           3   \n",
       "2                                           1   \n",
       "3                                           1   \n",
       "4                                           0   \n",
       "\n",
       "  calculated_host_listings_count_private_rooms  \\\n",
       "0                                            0   \n",
       "1                                            0   \n",
       "2                                            0   \n",
       "3                                            0   \n",
       "4                                            1   \n",
       "\n",
       "   calculated_host_listings_count_shared_rooms  reviews_per_month  \n",
       "0                                            0               0.78  \n",
       "1                                            0               0.48  \n",
       "2                                            0               0.70  \n",
       "3                                            0               0.27  \n",
       "4                                            0               3.55  \n",
       "\n",
       "[5 rows x 61 columns]"
      ]
     },
     "execution_count": 41,
     "metadata": {},
     "output_type": "execute_result"
    }
   ],
   "source": [
    "df.drop([\"id\",\"scrape_id\",\"host_url\",\"host_thumbnail_url\",\"host_picture_url\",\"picture_url\",\"listing_url\",\"neighbourhood_group_cleansed\",\"neighborhood_overview\",\"description\",\"calendar_updated\",\"source\",\"host_verifications\",\"license\"], axis=1, inplace=True) \n",
    "df.head()"
   ]
  },
  {
   "cell_type": "code",
   "execution_count": null,
   "id": "94e840b5",
   "metadata": {},
   "outputs": [
    {
     "name": "stdout",
     "output_type": "stream",
     "text": [
      "Index(['last_scraped', 'name', 'host_id', 'host_name', 'host_since',\n",
      "       'host_location', 'host_about', 'host_response_time',\n",
      "       'host_response_rate', 'host_acceptance_rate', 'host_is_superhost',\n",
      "       'host_neighbourhood', 'host_listings_count',\n",
      "       'host_total_listings_count', 'host_has_profile_pic',\n",
      "       'host_identity_verified', 'neighbourhood', 'neighbourhood_cleansed',\n",
      "       'latitude', 'longitude', 'property_type', 'room_type', 'accommodates',\n",
      "       'bathrooms', 'bathrooms_text', 'bedrooms', 'beds', 'amenities', 'price',\n",
      "       'minimum_nights', 'maximum_nights', 'minimum_minimum_nights',\n",
      "       'maximum_minimum_nights', 'minimum_maximum_nights',\n",
      "       'maximum_maximum_nights', 'minimum_nights_avg_ntm',\n",
      "       'maximum_nights_avg_ntm', 'has_availability', 'availability_30',\n",
      "       'availability_60', 'availability_90', 'availability_365',\n",
      "       'calendar_last_scraped', 'number_of_reviews', 'number_of_reviews_ltm',\n",
      "       'number_of_reviews_l30d', 'first_review', 'last_review',\n",
      "       'review_scores_rating', 'review_scores_accuracy',\n",
      "       'review_scores_cleanliness', 'review_scores_checkin',\n",
      "       'review_scores_communication', 'review_scores_location',\n",
      "       'review_scores_value', 'instant_bookable',\n",
      "       'calculated_host_listings_count',\n",
      "       'calculated_host_listings_count_entire_homes',\n",
      "       'calculated_host_listings_count_private_rooms',\n",
      "       'calculated_host_listings_count_shared_rooms', 'reviews_per_month'],\n",
      "      dtype='object')\n"
     ]
    }
   ],
   "source": [
    "print(df.columns)"
   ]
  },
  {
   "cell_type": "code",
   "execution_count": null,
   "id": "7e0cdec3",
   "metadata": {},
   "outputs": [
    {
     "data": {
      "text/plain": [
       "last_scraped                                    False\n",
       "name                                            False\n",
       "host_id                                         False\n",
       "host_name                                        True\n",
       "host_since                                       True\n",
       "                                                ...  \n",
       "calculated_host_listings_count                  False\n",
       "calculated_host_listings_count_entire_homes     False\n",
       "calculated_host_listings_count_private_rooms    False\n",
       "calculated_host_listings_count_shared_rooms     False\n",
       "reviews_per_month                                True\n",
       "Length: 61, dtype: bool"
      ]
     },
     "execution_count": 43,
     "metadata": {},
     "output_type": "execute_result"
    }
   ],
   "source": [
    "df.isnull().any()"
   ]
  },
  {
   "cell_type": "code",
   "execution_count": null,
   "id": "c680629d",
   "metadata": {},
   "outputs": [
    {
     "name": "stderr",
     "output_type": "stream",
     "text": [
      "C:\\Users\\Rocio\\AppData\\Local\\Temp\\ipykernel_12652\\192256593.py:1: FutureWarning: A value is trying to be set on a copy of a DataFrame or Series through chained assignment using an inplace method.\n",
      "The behavior will change in pandas 3.0. This inplace method will never work because the intermediate object on which we are setting values always behaves as a copy.\n",
      "\n",
      "For example, when doing 'df[col].method(value, inplace=True)', try using 'df.method({col: value}, inplace=True)' or df[col] = df[col].method(value) instead, to perform the operation inplace on the original object.\n",
      "\n",
      "\n",
      "  df['host_name'].fillna(0, inplace=True)\n",
      "C:\\Users\\Rocio\\AppData\\Local\\Temp\\ipykernel_12652\\192256593.py:2: FutureWarning: A value is trying to be set on a copy of a DataFrame or Series through chained assignment using an inplace method.\n",
      "The behavior will change in pandas 3.0. This inplace method will never work because the intermediate object on which we are setting values always behaves as a copy.\n",
      "\n",
      "For example, when doing 'df[col].method(value, inplace=True)', try using 'df.method({col: value}, inplace=True)' or df[col] = df[col].method(value) instead, to perform the operation inplace on the original object.\n",
      "\n",
      "\n",
      "  df['reviews_per_month'].fillna(0, inplace=True)\n"
     ]
    },
    {
     "data": {
      "text/html": [
       "<div>\n",
       "<style scoped>\n",
       "    .dataframe tbody tr th:only-of-type {\n",
       "        vertical-align: middle;\n",
       "    }\n",
       "\n",
       "    .dataframe tbody tr th {\n",
       "        vertical-align: top;\n",
       "    }\n",
       "\n",
       "    .dataframe thead th {\n",
       "        text-align: right;\n",
       "    }\n",
       "</style>\n",
       "<table border=\"1\" class=\"dataframe\">\n",
       "  <thead>\n",
       "    <tr style=\"text-align: right;\">\n",
       "      <th></th>\n",
       "      <th>last_scraped</th>\n",
       "      <th>name</th>\n",
       "      <th>host_id</th>\n",
       "      <th>host_name</th>\n",
       "      <th>host_since</th>\n",
       "      <th>host_location</th>\n",
       "      <th>host_about</th>\n",
       "      <th>host_response_time</th>\n",
       "      <th>host_response_rate</th>\n",
       "      <th>host_acceptance_rate</th>\n",
       "      <th>...</th>\n",
       "      <th>review_scores_checkin</th>\n",
       "      <th>review_scores_communication</th>\n",
       "      <th>review_scores_location</th>\n",
       "      <th>review_scores_value</th>\n",
       "      <th>instant_bookable</th>\n",
       "      <th>calculated_host_listings_count</th>\n",
       "      <th>calculated_host_listings_count_entire_homes</th>\n",
       "      <th>calculated_host_listings_count_private_rooms</th>\n",
       "      <th>calculated_host_listings_count_shared_rooms</th>\n",
       "      <th>reviews_per_month</th>\n",
       "    </tr>\n",
       "  </thead>\n",
       "  <tbody>\n",
       "    <tr>\n",
       "      <th>0</th>\n",
       "      <td>2024-12-27</td>\n",
       "      <td>Deluxw-Apartm. with roof terrace</td>\n",
       "      <td>517685</td>\n",
       "      <td>Angelika</td>\n",
       "      <td>2011-04-18</td>\n",
       "      <td>Munich, Germany</td>\n",
       "      <td>Ich freue mich auf viele internationale Gäste!...</td>\n",
       "      <td>a few days or more</td>\n",
       "      <td>25%</td>\n",
       "      <td>6%</td>\n",
       "      <td>...</td>\n",
       "      <td>4.90</td>\n",
       "      <td>4.93</td>\n",
       "      <td>4.78</td>\n",
       "      <td>4.73</td>\n",
       "      <td>f</td>\n",
       "      <td>2</td>\n",
       "      <td>2</td>\n",
       "      <td>0</td>\n",
       "      <td>0</td>\n",
       "      <td>0.78</td>\n",
       "    </tr>\n",
       "    <tr>\n",
       "      <th>1</th>\n",
       "      <td>2024-12-27</td>\n",
       "      <td>Apartment Munich/East with sundeck</td>\n",
       "      <td>581737</td>\n",
       "      <td>Stephan</td>\n",
       "      <td>2011-05-12</td>\n",
       "      <td>Munich, Germany</td>\n",
       "      <td>I am looking forward to meet interesting peopl...</td>\n",
       "      <td>within a few hours</td>\n",
       "      <td>100%</td>\n",
       "      <td>98%</td>\n",
       "      <td>...</td>\n",
       "      <td>4.97</td>\n",
       "      <td>5.00</td>\n",
       "      <td>4.67</td>\n",
       "      <td>4.62</td>\n",
       "      <td>f</td>\n",
       "      <td>3</td>\n",
       "      <td>3</td>\n",
       "      <td>0</td>\n",
       "      <td>0</td>\n",
       "      <td>0.48</td>\n",
       "    </tr>\n",
       "    <tr>\n",
       "      <th>2</th>\n",
       "      <td>2024-12-27</td>\n",
       "      <td>City apartment next to Pinakothek</td>\n",
       "      <td>630556</td>\n",
       "      <td>Sonja</td>\n",
       "      <td>2011-05-26</td>\n",
       "      <td>Munich, Germany</td>\n",
       "      <td>Hi, mein Name ist Sonja und ich freue mich net...</td>\n",
       "      <td>within a few hours</td>\n",
       "      <td>67%</td>\n",
       "      <td>89%</td>\n",
       "      <td>...</td>\n",
       "      <td>4.98</td>\n",
       "      <td>4.96</td>\n",
       "      <td>4.91</td>\n",
       "      <td>4.81</td>\n",
       "      <td>f</td>\n",
       "      <td>1</td>\n",
       "      <td>1</td>\n",
       "      <td>0</td>\n",
       "      <td>0</td>\n",
       "      <td>0.70</td>\n",
       "    </tr>\n",
       "    <tr>\n",
       "      <th>3</th>\n",
       "      <td>2024-12-27</td>\n",
       "      <td>Fancy, bright central roof top flat and homeof...</td>\n",
       "      <td>765694</td>\n",
       "      <td>Susana</td>\n",
       "      <td>2011-07-01</td>\n",
       "      <td>Munich, Germany</td>\n",
       "      <td>outdoorsy sportive Person from Munich. I love ...</td>\n",
       "      <td>within an hour</td>\n",
       "      <td>100%</td>\n",
       "      <td>92%</td>\n",
       "      <td>...</td>\n",
       "      <td>4.75</td>\n",
       "      <td>4.80</td>\n",
       "      <td>4.59</td>\n",
       "      <td>4.45</td>\n",
       "      <td>t</td>\n",
       "      <td>1</td>\n",
       "      <td>1</td>\n",
       "      <td>0</td>\n",
       "      <td>0</td>\n",
       "      <td>0.27</td>\n",
       "    </tr>\n",
       "    <tr>\n",
       "      <th>4</th>\n",
       "      <td>2024-12-27</td>\n",
       "      <td>Own floor &amp; bath, parking &amp; breakfast</td>\n",
       "      <td>108297</td>\n",
       "      <td>Alex</td>\n",
       "      <td>2010-04-14</td>\n",
       "      <td>Munich, Germany</td>\n",
       "      <td>We love to travel and dream of living in a hou...</td>\n",
       "      <td>within a few hours</td>\n",
       "      <td>100%</td>\n",
       "      <td>100%</td>\n",
       "      <td>...</td>\n",
       "      <td>4.99</td>\n",
       "      <td>4.98</td>\n",
       "      <td>4.77</td>\n",
       "      <td>4.91</td>\n",
       "      <td>f</td>\n",
       "      <td>1</td>\n",
       "      <td>0</td>\n",
       "      <td>1</td>\n",
       "      <td>0</td>\n",
       "      <td>3.55</td>\n",
       "    </tr>\n",
       "  </tbody>\n",
       "</table>\n",
       "<p>5 rows × 61 columns</p>\n",
       "</div>"
      ],
      "text/plain": [
       "  last_scraped                                               name  host_id  \\\n",
       "0   2024-12-27                   Deluxw-Apartm. with roof terrace   517685   \n",
       "1   2024-12-27                 Apartment Munich/East with sundeck   581737   \n",
       "2   2024-12-27                  City apartment next to Pinakothek   630556   \n",
       "3   2024-12-27  Fancy, bright central roof top flat and homeof...   765694   \n",
       "4   2024-12-27              Own floor & bath, parking & breakfast   108297   \n",
       "\n",
       "  host_name  host_since    host_location  \\\n",
       "0  Angelika  2011-04-18  Munich, Germany   \n",
       "1   Stephan  2011-05-12  Munich, Germany   \n",
       "2     Sonja  2011-05-26  Munich, Germany   \n",
       "3    Susana  2011-07-01  Munich, Germany   \n",
       "4      Alex  2010-04-14  Munich, Germany   \n",
       "\n",
       "                                          host_about  host_response_time  \\\n",
       "0  Ich freue mich auf viele internationale Gäste!...  a few days or more   \n",
       "1  I am looking forward to meet interesting peopl...  within a few hours   \n",
       "2  Hi, mein Name ist Sonja und ich freue mich net...  within a few hours   \n",
       "3  outdoorsy sportive Person from Munich. I love ...      within an hour   \n",
       "4  We love to travel and dream of living in a hou...  within a few hours   \n",
       "\n",
       "  host_response_rate host_acceptance_rate  ... review_scores_checkin  \\\n",
       "0                25%                   6%  ...                  4.90   \n",
       "1               100%                  98%  ...                  4.97   \n",
       "2                67%                  89%  ...                  4.98   \n",
       "3               100%                  92%  ...                  4.75   \n",
       "4               100%                 100%  ...                  4.99   \n",
       "\n",
       "  review_scores_communication  review_scores_location  review_scores_value  \\\n",
       "0                        4.93                    4.78                 4.73   \n",
       "1                        5.00                    4.67                 4.62   \n",
       "2                        4.96                    4.91                 4.81   \n",
       "3                        4.80                    4.59                 4.45   \n",
       "4                        4.98                    4.77                 4.91   \n",
       "\n",
       "  instant_bookable calculated_host_listings_count  \\\n",
       "0                f                              2   \n",
       "1                f                              3   \n",
       "2                f                              1   \n",
       "3                t                              1   \n",
       "4                f                              1   \n",
       "\n",
       "  calculated_host_listings_count_entire_homes  \\\n",
       "0                                           2   \n",
       "1                                           3   \n",
       "2                                           1   \n",
       "3                                           1   \n",
       "4                                           0   \n",
       "\n",
       "  calculated_host_listings_count_private_rooms  \\\n",
       "0                                            0   \n",
       "1                                            0   \n",
       "2                                            0   \n",
       "3                                            0   \n",
       "4                                            1   \n",
       "\n",
       "   calculated_host_listings_count_shared_rooms  reviews_per_month  \n",
       "0                                            0               0.78  \n",
       "1                                            0               0.48  \n",
       "2                                            0               0.70  \n",
       "3                                            0               0.27  \n",
       "4                                            0               3.55  \n",
       "\n",
       "[5 rows x 61 columns]"
      ]
     },
     "execution_count": 44,
     "metadata": {},
     "output_type": "execute_result"
    }
   ],
   "source": [
    "df['host_name'].fillna(0, inplace=True)\n",
    "df['reviews_per_month'].fillna(0, inplace=True)\n",
    "df.head()"
   ]
  },
  {
   "cell_type": "code",
   "execution_count": null,
   "id": "5fe84914",
   "metadata": {},
   "outputs": [
    {
     "name": "stdout",
     "output_type": "stream",
     "text": [
      "<class 'pandas.core.frame.DataFrame'>\n",
      "RangeIndex: 7281 entries, 0 to 7280\n",
      "Data columns (total 61 columns):\n",
      " #   Column                                        Non-Null Count  Dtype  \n",
      "---  ------                                        --------------  -----  \n",
      " 0   last_scraped                                  7281 non-null   object \n",
      " 1   name                                          7281 non-null   object \n",
      " 2   host_id                                       7281 non-null   int64  \n",
      " 3   host_name                                     7281 non-null   object \n",
      " 4   host_since                                    7279 non-null   object \n",
      " 5   host_location                                 5723 non-null   object \n",
      " 6   host_about                                    2811 non-null   object \n",
      " 7   host_response_time                            4666 non-null   object \n",
      " 8   host_response_rate                            4666 non-null   object \n",
      " 9   host_acceptance_rate                          5854 non-null   object \n",
      " 10  host_is_superhost                             7223 non-null   object \n",
      " 11  host_neighbourhood                            1805 non-null   object \n",
      " 12  host_listings_count                           7279 non-null   float64\n",
      " 13  host_total_listings_count                     7279 non-null   float64\n",
      " 14  host_has_profile_pic                          7279 non-null   object \n",
      " 15  host_identity_verified                        7279 non-null   object \n",
      " 16  neighbourhood                                 2564 non-null   object \n",
      " 17  neighbourhood_cleansed                        7281 non-null   object \n",
      " 18  latitude                                      7281 non-null   float64\n",
      " 19  longitude                                     7281 non-null   float64\n",
      " 20  property_type                                 7281 non-null   object \n",
      " 21  room_type                                     7281 non-null   object \n",
      " 22  accommodates                                  7281 non-null   int64  \n",
      " 23  bathrooms                                     4722 non-null   float64\n",
      " 24  bathrooms_text                                7273 non-null   object \n",
      " 25  bedrooms                                      6502 non-null   float64\n",
      " 26  beds                                          4724 non-null   float64\n",
      " 27  amenities                                     7281 non-null   object \n",
      " 28  price                                         4727 non-null   object \n",
      " 29  minimum_nights                                7281 non-null   int64  \n",
      " 30  maximum_nights                                7281 non-null   int64  \n",
      " 31  minimum_minimum_nights                        7281 non-null   int64  \n",
      " 32  maximum_minimum_nights                        7281 non-null   int64  \n",
      " 33  minimum_maximum_nights                        7281 non-null   int64  \n",
      " 34  maximum_maximum_nights                        7281 non-null   int64  \n",
      " 35  minimum_nights_avg_ntm                        7281 non-null   float64\n",
      " 36  maximum_nights_avg_ntm                        7281 non-null   float64\n",
      " 37  has_availability                              7040 non-null   object \n",
      " 38  availability_30                               7281 non-null   int64  \n",
      " 39  availability_60                               7281 non-null   int64  \n",
      " 40  availability_90                               7281 non-null   int64  \n",
      " 41  availability_365                              7281 non-null   int64  \n",
      " 42  calendar_last_scraped                         7281 non-null   object \n",
      " 43  number_of_reviews                             7281 non-null   int64  \n",
      " 44  number_of_reviews_ltm                         7281 non-null   int64  \n",
      " 45  number_of_reviews_l30d                        7281 non-null   int64  \n",
      " 46  first_review                                  5902 non-null   object \n",
      " 47  last_review                                   5902 non-null   object \n",
      " 48  review_scores_rating                          5902 non-null   float64\n",
      " 49  review_scores_accuracy                        5902 non-null   float64\n",
      " 50  review_scores_cleanliness                     5902 non-null   float64\n",
      " 51  review_scores_checkin                         5902 non-null   float64\n",
      " 52  review_scores_communication                   5902 non-null   float64\n",
      " 53  review_scores_location                        5902 non-null   float64\n",
      " 54  review_scores_value                           5902 non-null   float64\n",
      " 55  instant_bookable                              7281 non-null   object \n",
      " 56  calculated_host_listings_count                7281 non-null   int64  \n",
      " 57  calculated_host_listings_count_entire_homes   7281 non-null   int64  \n",
      " 58  calculated_host_listings_count_private_rooms  7281 non-null   int64  \n",
      " 59  calculated_host_listings_count_shared_rooms   7281 non-null   int64  \n",
      " 60  reviews_per_month                             7281 non-null   float64\n",
      "dtypes: float64(17), int64(19), object(25)\n",
      "memory usage: 3.4+ MB\n"
     ]
    }
   ],
   "source": [
    "df.info()"
   ]
  },
  {
   "cell_type": "code",
   "execution_count": null,
   "id": "ab212a89",
   "metadata": {},
   "outputs": [
    {
     "data": {
      "text/html": [
       "<div>\n",
       "<style scoped>\n",
       "    .dataframe tbody tr th:only-of-type {\n",
       "        vertical-align: middle;\n",
       "    }\n",
       "\n",
       "    .dataframe tbody tr th {\n",
       "        vertical-align: top;\n",
       "    }\n",
       "\n",
       "    .dataframe thead th {\n",
       "        text-align: right;\n",
       "    }\n",
       "</style>\n",
       "<table border=\"1\" class=\"dataframe\">\n",
       "  <thead>\n",
       "    <tr style=\"text-align: right;\">\n",
       "      <th></th>\n",
       "      <th>host_id</th>\n",
       "      <th>host_listings_count</th>\n",
       "      <th>host_total_listings_count</th>\n",
       "      <th>latitude</th>\n",
       "      <th>longitude</th>\n",
       "      <th>accommodates</th>\n",
       "      <th>bathrooms</th>\n",
       "      <th>bedrooms</th>\n",
       "      <th>beds</th>\n",
       "      <th>minimum_nights</th>\n",
       "      <th>...</th>\n",
       "      <th>review_scores_cleanliness</th>\n",
       "      <th>review_scores_checkin</th>\n",
       "      <th>review_scores_communication</th>\n",
       "      <th>review_scores_location</th>\n",
       "      <th>review_scores_value</th>\n",
       "      <th>calculated_host_listings_count</th>\n",
       "      <th>calculated_host_listings_count_entire_homes</th>\n",
       "      <th>calculated_host_listings_count_private_rooms</th>\n",
       "      <th>calculated_host_listings_count_shared_rooms</th>\n",
       "      <th>reviews_per_month</th>\n",
       "    </tr>\n",
       "  </thead>\n",
       "  <tbody>\n",
       "    <tr>\n",
       "      <th>count</th>\n",
       "      <td>7.281000e+03</td>\n",
       "      <td>7279.000000</td>\n",
       "      <td>7279.000000</td>\n",
       "      <td>7281.000000</td>\n",
       "      <td>7281.000000</td>\n",
       "      <td>7281.000000</td>\n",
       "      <td>4722.000000</td>\n",
       "      <td>6502.000000</td>\n",
       "      <td>4724.000000</td>\n",
       "      <td>7281.000000</td>\n",
       "      <td>...</td>\n",
       "      <td>5902.000000</td>\n",
       "      <td>5902.000000</td>\n",
       "      <td>5902.000000</td>\n",
       "      <td>5902.000000</td>\n",
       "      <td>5902.000000</td>\n",
       "      <td>7281.000000</td>\n",
       "      <td>7281.000000</td>\n",
       "      <td>7281.000000</td>\n",
       "      <td>7281.000000</td>\n",
       "      <td>7281.000000</td>\n",
       "    </tr>\n",
       "    <tr>\n",
       "      <th>mean</th>\n",
       "      <td>2.002912e+08</td>\n",
       "      <td>5.636626</td>\n",
       "      <td>7.122819</td>\n",
       "      <td>48.139742</td>\n",
       "      <td>11.563053</td>\n",
       "      <td>2.769674</td>\n",
       "      <td>1.139030</td>\n",
       "      <td>1.251615</td>\n",
       "      <td>1.637172</td>\n",
       "      <td>7.841368</td>\n",
       "      <td>...</td>\n",
       "      <td>4.735713</td>\n",
       "      <td>4.852311</td>\n",
       "      <td>4.865474</td>\n",
       "      <td>4.790410</td>\n",
       "      <td>4.628128</td>\n",
       "      <td>2.945612</td>\n",
       "      <td>2.138030</td>\n",
       "      <td>0.784645</td>\n",
       "      <td>0.004532</td>\n",
       "      <td>0.845847</td>\n",
       "    </tr>\n",
       "    <tr>\n",
       "      <th>std</th>\n",
       "      <td>1.979409e+08</td>\n",
       "      <td>42.430118</td>\n",
       "      <td>49.848934</td>\n",
       "      <td>0.025549</td>\n",
       "      <td>0.050165</td>\n",
       "      <td>1.648207</td>\n",
       "      <td>0.512805</td>\n",
       "      <td>1.059553</td>\n",
       "      <td>1.339486</td>\n",
       "      <td>30.866323</td>\n",
       "      <td>...</td>\n",
       "      <td>0.413522</td>\n",
       "      <td>0.305526</td>\n",
       "      <td>0.299123</td>\n",
       "      <td>0.307753</td>\n",
       "      <td>0.420937</td>\n",
       "      <td>8.383039</td>\n",
       "      <td>8.256452</td>\n",
       "      <td>2.028043</td>\n",
       "      <td>0.076721</td>\n",
       "      <td>1.628844</td>\n",
       "    </tr>\n",
       "    <tr>\n",
       "      <th>min</th>\n",
       "      <td>1.581000e+03</td>\n",
       "      <td>1.000000</td>\n",
       "      <td>1.000000</td>\n",
       "      <td>48.071440</td>\n",
       "      <td>11.388350</td>\n",
       "      <td>1.000000</td>\n",
       "      <td>0.000000</td>\n",
       "      <td>0.000000</td>\n",
       "      <td>0.000000</td>\n",
       "      <td>1.000000</td>\n",
       "      <td>...</td>\n",
       "      <td>1.000000</td>\n",
       "      <td>0.000000</td>\n",
       "      <td>1.000000</td>\n",
       "      <td>1.000000</td>\n",
       "      <td>1.000000</td>\n",
       "      <td>1.000000</td>\n",
       "      <td>0.000000</td>\n",
       "      <td>0.000000</td>\n",
       "      <td>0.000000</td>\n",
       "      <td>0.000000</td>\n",
       "    </tr>\n",
       "    <tr>\n",
       "      <th>25%</th>\n",
       "      <td>2.799445e+07</td>\n",
       "      <td>1.000000</td>\n",
       "      <td>1.000000</td>\n",
       "      <td>48.123240</td>\n",
       "      <td>11.538370</td>\n",
       "      <td>2.000000</td>\n",
       "      <td>1.000000</td>\n",
       "      <td>1.000000</td>\n",
       "      <td>1.000000</td>\n",
       "      <td>1.000000</td>\n",
       "      <td>...</td>\n",
       "      <td>4.650000</td>\n",
       "      <td>4.820000</td>\n",
       "      <td>4.850000</td>\n",
       "      <td>4.710000</td>\n",
       "      <td>4.500000</td>\n",
       "      <td>1.000000</td>\n",
       "      <td>0.000000</td>\n",
       "      <td>0.000000</td>\n",
       "      <td>0.000000</td>\n",
       "      <td>0.060000</td>\n",
       "    </tr>\n",
       "    <tr>\n",
       "      <th>50%</th>\n",
       "      <td>1.175858e+08</td>\n",
       "      <td>1.000000</td>\n",
       "      <td>2.000000</td>\n",
       "      <td>48.137090</td>\n",
       "      <td>11.564599</td>\n",
       "      <td>2.000000</td>\n",
       "      <td>1.000000</td>\n",
       "      <td>1.000000</td>\n",
       "      <td>1.000000</td>\n",
       "      <td>2.000000</td>\n",
       "      <td>...</td>\n",
       "      <td>4.880000</td>\n",
       "      <td>4.960000</td>\n",
       "      <td>5.000000</td>\n",
       "      <td>4.880000</td>\n",
       "      <td>4.720000</td>\n",
       "      <td>1.000000</td>\n",
       "      <td>1.000000</td>\n",
       "      <td>0.000000</td>\n",
       "      <td>0.000000</td>\n",
       "      <td>0.330000</td>\n",
       "    </tr>\n",
       "    <tr>\n",
       "      <th>75%</th>\n",
       "      <td>3.766110e+08</td>\n",
       "      <td>2.000000</td>\n",
       "      <td>3.000000</td>\n",
       "      <td>48.155610</td>\n",
       "      <td>11.586773</td>\n",
       "      <td>4.000000</td>\n",
       "      <td>1.000000</td>\n",
       "      <td>1.000000</td>\n",
       "      <td>2.000000</td>\n",
       "      <td>4.000000</td>\n",
       "      <td>...</td>\n",
       "      <td>5.000000</td>\n",
       "      <td>5.000000</td>\n",
       "      <td>5.000000</td>\n",
       "      <td>5.000000</td>\n",
       "      <td>4.900000</td>\n",
       "      <td>2.000000</td>\n",
       "      <td>1.000000</td>\n",
       "      <td>1.000000</td>\n",
       "      <td>0.000000</td>\n",
       "      <td>1.000000</td>\n",
       "    </tr>\n",
       "    <tr>\n",
       "      <th>max</th>\n",
       "      <td>6.675842e+08</td>\n",
       "      <td>1140.000000</td>\n",
       "      <td>1307.000000</td>\n",
       "      <td>48.228020</td>\n",
       "      <td>11.712770</td>\n",
       "      <td>16.000000</td>\n",
       "      <td>23.000000</td>\n",
       "      <td>50.000000</td>\n",
       "      <td>23.000000</td>\n",
       "      <td>999.000000</td>\n",
       "      <td>...</td>\n",
       "      <td>5.000000</td>\n",
       "      <td>5.000000</td>\n",
       "      <td>5.000000</td>\n",
       "      <td>5.000000</td>\n",
       "      <td>5.000000</td>\n",
       "      <td>78.000000</td>\n",
       "      <td>78.000000</td>\n",
       "      <td>24.000000</td>\n",
       "      <td>2.000000</td>\n",
       "      <td>48.810000</td>\n",
       "    </tr>\n",
       "  </tbody>\n",
       "</table>\n",
       "<p>8 rows × 36 columns</p>\n",
       "</div>"
      ],
      "text/plain": [
       "            host_id  host_listings_count  host_total_listings_count  \\\n",
       "count  7.281000e+03          7279.000000                7279.000000   \n",
       "mean   2.002912e+08             5.636626                   7.122819   \n",
       "std    1.979409e+08            42.430118                  49.848934   \n",
       "min    1.581000e+03             1.000000                   1.000000   \n",
       "25%    2.799445e+07             1.000000                   1.000000   \n",
       "50%    1.175858e+08             1.000000                   2.000000   \n",
       "75%    3.766110e+08             2.000000                   3.000000   \n",
       "max    6.675842e+08          1140.000000                1307.000000   \n",
       "\n",
       "          latitude    longitude  accommodates    bathrooms     bedrooms  \\\n",
       "count  7281.000000  7281.000000   7281.000000  4722.000000  6502.000000   \n",
       "mean     48.139742    11.563053      2.769674     1.139030     1.251615   \n",
       "std       0.025549     0.050165      1.648207     0.512805     1.059553   \n",
       "min      48.071440    11.388350      1.000000     0.000000     0.000000   \n",
       "25%      48.123240    11.538370      2.000000     1.000000     1.000000   \n",
       "50%      48.137090    11.564599      2.000000     1.000000     1.000000   \n",
       "75%      48.155610    11.586773      4.000000     1.000000     1.000000   \n",
       "max      48.228020    11.712770     16.000000    23.000000    50.000000   \n",
       "\n",
       "              beds  minimum_nights  ...  review_scores_cleanliness  \\\n",
       "count  4724.000000     7281.000000  ...                5902.000000   \n",
       "mean      1.637172        7.841368  ...                   4.735713   \n",
       "std       1.339486       30.866323  ...                   0.413522   \n",
       "min       0.000000        1.000000  ...                   1.000000   \n",
       "25%       1.000000        1.000000  ...                   4.650000   \n",
       "50%       1.000000        2.000000  ...                   4.880000   \n",
       "75%       2.000000        4.000000  ...                   5.000000   \n",
       "max      23.000000      999.000000  ...                   5.000000   \n",
       "\n",
       "       review_scores_checkin  review_scores_communication  \\\n",
       "count            5902.000000                  5902.000000   \n",
       "mean                4.852311                     4.865474   \n",
       "std                 0.305526                     0.299123   \n",
       "min                 0.000000                     1.000000   \n",
       "25%                 4.820000                     4.850000   \n",
       "50%                 4.960000                     5.000000   \n",
       "75%                 5.000000                     5.000000   \n",
       "max                 5.000000                     5.000000   \n",
       "\n",
       "       review_scores_location  review_scores_value  \\\n",
       "count             5902.000000          5902.000000   \n",
       "mean                 4.790410             4.628128   \n",
       "std                  0.307753             0.420937   \n",
       "min                  1.000000             1.000000   \n",
       "25%                  4.710000             4.500000   \n",
       "50%                  4.880000             4.720000   \n",
       "75%                  5.000000             4.900000   \n",
       "max                  5.000000             5.000000   \n",
       "\n",
       "       calculated_host_listings_count  \\\n",
       "count                     7281.000000   \n",
       "mean                         2.945612   \n",
       "std                          8.383039   \n",
       "min                          1.000000   \n",
       "25%                          1.000000   \n",
       "50%                          1.000000   \n",
       "75%                          2.000000   \n",
       "max                         78.000000   \n",
       "\n",
       "       calculated_host_listings_count_entire_homes  \\\n",
       "count                                  7281.000000   \n",
       "mean                                      2.138030   \n",
       "std                                       8.256452   \n",
       "min                                       0.000000   \n",
       "25%                                       0.000000   \n",
       "50%                                       1.000000   \n",
       "75%                                       1.000000   \n",
       "max                                      78.000000   \n",
       "\n",
       "       calculated_host_listings_count_private_rooms  \\\n",
       "count                                   7281.000000   \n",
       "mean                                       0.784645   \n",
       "std                                        2.028043   \n",
       "min                                        0.000000   \n",
       "25%                                        0.000000   \n",
       "50%                                        0.000000   \n",
       "75%                                        1.000000   \n",
       "max                                       24.000000   \n",
       "\n",
       "       calculated_host_listings_count_shared_rooms  reviews_per_month  \n",
       "count                                  7281.000000        7281.000000  \n",
       "mean                                      0.004532           0.845847  \n",
       "std                                       0.076721           1.628844  \n",
       "min                                       0.000000           0.000000  \n",
       "25%                                       0.000000           0.060000  \n",
       "50%                                       0.000000           0.330000  \n",
       "75%                                       0.000000           1.000000  \n",
       "max                                       2.000000          48.810000  \n",
       "\n",
       "[8 rows x 36 columns]"
      ]
     },
     "execution_count": 46,
     "metadata": {},
     "output_type": "execute_result"
    }
   ],
   "source": [
    "df.describe()"
   ]
  },
  {
   "cell_type": "code",
   "execution_count": null,
   "id": "c56a92da",
   "metadata": {},
   "outputs": [
    {
     "data": {
      "text/plain": [
       "(7281, 61)"
      ]
     },
     "execution_count": 47,
     "metadata": {},
     "output_type": "execute_result"
    }
   ],
   "source": [
    "df.shape"
   ]
  },
  {
   "cell_type": "code",
   "execution_count": null,
   "id": "e214ad67",
   "metadata": {},
   "outputs": [
    {
     "data": {
      "image/png": "[encoded data removed]",
      "text/plain": [
       "<Figure size 1000x600 with 1 Axes>"
      ]
     },
     "metadata": {},
     "output_type": "display_data"
    }
   ],
   "source": [
    "# Crear la columna 'month' (asegúrate de que exista)\n",
    "df['month'] = np.random.randint(1, 13, size=len(df))  \n",
    "\n",
    "# Agrupar por mes y calcular el promedio de reviews_per_month\n",
    "monthly_reviews = df.groupby('month')['reviews_per_month'].mean()\n",
    "\n",
    "# Graficar los datos agrupados por mes\n",
    "plt.figure(figsize=(10, 6))\n",
    "plt.bar(monthly_reviews.index, monthly_reviews.values, edgecolor='black')  \n",
    "plt.title('Promedio de Reviews por Mes')\n",
    "plt.xlabel('Mes')\n",
    "plt.ylabel('Promedio de Reviews')\n",
    "plt.xticks(ticks=range(1, 13), labels=['Ene', 'Feb', 'Mar', 'Abr', 'May', 'Jun', 'Jul', 'Ago', 'Sep', 'Oct', 'Nov', 'Dic'])\n",
    "plt.show()"
   ]
  },
  {
   "cell_type": "code",
   "execution_count": null,
   "id": "587a3baa",
   "metadata": {},
   "outputs": [
    {
     "data": {
      "text/plain": [
       "host_id    5822\n",
       "dtype: int64"
      ]
     },
     "execution_count": 49,
     "metadata": {},
     "output_type": "execute_result"
    }
   ],
   "source": [
    "# find unique hosts\n",
    "df[['host_id']].nunique()"
   ]
  },
  {
   "cell_type": "code",
   "execution_count": null,
   "id": "bd99b5f2",
   "metadata": {},
   "outputs": [],
   "source": [
    "df.to_csv(\"listings_limpio.csv\", index=False)"
   ]
  },
  {
   "cell_type": "code",
   "execution_count": null,
   "id": "7fb533ac",
   "metadata": {},
   "outputs": [],
   "source": [
    "df = pd.read_csv(r\"C:\\Users\\Rocio\\Desktop\\ROCÍO\\Todo_rocío\\Curso_Data_Analyst\\Codes\\temario\\temario\\Informe 2-Upgrade\\neighbourhoods.csv\", on_bad_lines='skip') #ignora las líneas problemáticas"
   ]
  },
  {
   "cell_type": "code",
   "execution_count": null,
   "id": "3157ebf6",
   "metadata": {},
   "outputs": [
    {
     "data": {
      "text/html": [
       "<div>\n",
       "<style scoped>\n",
       "    .dataframe tbody tr th:only-of-type {\n",
       "        vertical-align: middle;\n",
       "    }\n",
       "\n",
       "    .dataframe tbody tr th {\n",
       "        vertical-align: top;\n",
       "    }\n",
       "\n",
       "    .dataframe thead th {\n",
       "        text-align: right;\n",
       "    }\n",
       "</style>\n",
       "<table border=\"1\" class=\"dataframe\">\n",
       "  <thead>\n",
       "    <tr style=\"text-align: right;\">\n",
       "      <th></th>\n",
       "      <th>neighbourhood_group</th>\n",
       "      <th>neighbourhood</th>\n",
       "    </tr>\n",
       "  </thead>\n",
       "  <tbody>\n",
       "    <tr>\n",
       "      <th>0</th>\n",
       "      <td>NaN</td>\n",
       "      <td>Allach-Untermenzing</td>\n",
       "    </tr>\n",
       "    <tr>\n",
       "      <th>1</th>\n",
       "      <td>NaN</td>\n",
       "      <td>Altstadt-Lehel</td>\n",
       "    </tr>\n",
       "    <tr>\n",
       "      <th>2</th>\n",
       "      <td>NaN</td>\n",
       "      <td>Aubing-Lochhausen-Langwied</td>\n",
       "    </tr>\n",
       "    <tr>\n",
       "      <th>3</th>\n",
       "      <td>NaN</td>\n",
       "      <td>Au-Haidhausen</td>\n",
       "    </tr>\n",
       "    <tr>\n",
       "      <th>4</th>\n",
       "      <td>NaN</td>\n",
       "      <td>Berg am Laim</td>\n",
       "    </tr>\n",
       "  </tbody>\n",
       "</table>\n",
       "</div>"
      ],
      "text/plain": [
       "   neighbourhood_group               neighbourhood\n",
       "0                  NaN         Allach-Untermenzing\n",
       "1                  NaN              Altstadt-Lehel\n",
       "2                  NaN  Aubing-Lochhausen-Langwied\n",
       "3                  NaN               Au-Haidhausen\n",
       "4                  NaN                Berg am Laim"
      ]
     },
     "execution_count": 52,
     "metadata": {},
     "output_type": "execute_result"
    }
   ],
   "source": [
    "df.head()"
   ]
  },
  {
   "cell_type": "code",
   "execution_count": null,
   "id": "711d4c9e",
   "metadata": {},
   "outputs": [
    {
     "data": {
      "text/html": [
       "<div>\n",
       "<style scoped>\n",
       "    .dataframe tbody tr th:only-of-type {\n",
       "        vertical-align: middle;\n",
       "    }\n",
       "\n",
       "    .dataframe tbody tr th {\n",
       "        vertical-align: top;\n",
       "    }\n",
       "\n",
       "    .dataframe thead th {\n",
       "        text-align: right;\n",
       "    }\n",
       "</style>\n",
       "<table border=\"1\" class=\"dataframe\">\n",
       "  <thead>\n",
       "    <tr style=\"text-align: right;\">\n",
       "      <th></th>\n",
       "      <th>neighbourhood_group</th>\n",
       "      <th>neighbourhood</th>\n",
       "    </tr>\n",
       "  </thead>\n",
       "  <tbody>\n",
       "    <tr>\n",
       "      <th>20</th>\n",
       "      <td>NaN</td>\n",
       "      <td>Sendling</td>\n",
       "    </tr>\n",
       "    <tr>\n",
       "      <th>21</th>\n",
       "      <td>NaN</td>\n",
       "      <td>Sendling-Westpark</td>\n",
       "    </tr>\n",
       "    <tr>\n",
       "      <th>22</th>\n",
       "      <td>NaN</td>\n",
       "      <td>Thalkirchen-Obersendling-Forstenried-Fürstenri...</td>\n",
       "    </tr>\n",
       "    <tr>\n",
       "      <th>23</th>\n",
       "      <td>NaN</td>\n",
       "      <td>Tudering-Riem</td>\n",
       "    </tr>\n",
       "    <tr>\n",
       "      <th>24</th>\n",
       "      <td>NaN</td>\n",
       "      <td>Untergiesing-Harlaching</td>\n",
       "    </tr>\n",
       "  </tbody>\n",
       "</table>\n",
       "</div>"
      ],
      "text/plain": [
       "    neighbourhood_group                                      neighbourhood\n",
       "20                  NaN                                           Sendling\n",
       "21                  NaN                                  Sendling-Westpark\n",
       "22                  NaN  Thalkirchen-Obersendling-Forstenried-Fürstenri...\n",
       "23                  NaN                                      Tudering-Riem\n",
       "24                  NaN                            Untergiesing-Harlaching"
      ]
     },
     "execution_count": 53,
     "metadata": {},
     "output_type": "execute_result"
    }
   ],
   "source": [
    "df.tail()"
   ]
  },
  {
   "cell_type": "code",
   "execution_count": null,
   "id": "6dac316c",
   "metadata": {},
   "outputs": [
    {
     "name": "stdout",
     "output_type": "stream",
     "text": [
      "Number of rows: 25\n",
      "Number of columns: 2\n"
     ]
    }
   ],
   "source": [
    "print(\"Number of rows:\", df.shape[0])\n",
    "print(\"Number of columns:\", df.shape[1])"
   ]
  },
  {
   "cell_type": "code",
   "execution_count": null,
   "id": "6069096a",
   "metadata": {},
   "outputs": [
    {
     "name": "stdout",
     "output_type": "stream",
     "text": [
      "<class 'pandas.core.frame.DataFrame'>\n",
      "RangeIndex: 25 entries, 0 to 24\n",
      "Data columns (total 2 columns):\n",
      " #   Column               Non-Null Count  Dtype  \n",
      "---  ------               --------------  -----  \n",
      " 0   neighbourhood_group  0 non-null      float64\n",
      " 1   neighbourhood        25 non-null     object \n",
      "dtypes: float64(1), object(1)\n",
      "memory usage: 532.0+ bytes\n"
     ]
    }
   ],
   "source": [
    "df.info()"
   ]
  },
  {
   "cell_type": "code",
   "execution_count": null,
   "id": "b70fcf87",
   "metadata": {},
   "outputs": [
    {
     "data": {
      "text/plain": [
       "neighbourhood_group    float64\n",
       "neighbourhood           object\n",
       "dtype: object"
      ]
     },
     "execution_count": 56,
     "metadata": {},
     "output_type": "execute_result"
    }
   ],
   "source": [
    "df.dtypes"
   ]
  },
  {
   "cell_type": "code",
   "execution_count": null,
   "id": "b3accc1b",
   "metadata": {},
   "outputs": [
    {
     "data": {
      "text/plain": [
       "np.int64(0)"
      ]
     },
     "execution_count": 57,
     "metadata": {},
     "output_type": "execute_result"
    }
   ],
   "source": [
    "df.duplicated().sum()"
   ]
  },
  {
   "cell_type": "code",
   "execution_count": null,
   "id": "2c214614",
   "metadata": {},
   "outputs": [
    {
     "data": {
      "text/plain": [
       "neighbourhood_group     True\n",
       "neighbourhood          False\n",
       "dtype: bool"
      ]
     },
     "execution_count": 58,
     "metadata": {},
     "output_type": "execute_result"
    }
   ],
   "source": [
    "df.isna().any()"
   ]
  },
  {
   "cell_type": "code",
   "execution_count": null,
   "id": "9551d09c",
   "metadata": {},
   "outputs": [
    {
     "data": {
      "text/plain": [
       "neighbourhood_group    25\n",
       "neighbourhood           0\n",
       "dtype: int64"
      ]
     },
     "execution_count": 59,
     "metadata": {},
     "output_type": "execute_result"
    }
   ],
   "source": [
    "df.isna().sum()"
   ]
  },
  {
   "cell_type": "code",
   "execution_count": null,
   "id": "848b7a03",
   "metadata": {},
   "outputs": [
    {
     "data": {
      "text/plain": [
       "Index(['neighbourhood_group', 'neighbourhood'], dtype='object')"
      ]
     },
     "execution_count": 60,
     "metadata": {},
     "output_type": "execute_result"
    }
   ],
   "source": [
    "df.columns"
   ]
  },
  {
   "cell_type": "code",
   "execution_count": null,
   "id": "76d2bb12",
   "metadata": {},
   "outputs": [
    {
     "data": {
      "text/html": [
       "<div>\n",
       "<style scoped>\n",
       "    .dataframe tbody tr th:only-of-type {\n",
       "        vertical-align: middle;\n",
       "    }\n",
       "\n",
       "    .dataframe tbody tr th {\n",
       "        vertical-align: top;\n",
       "    }\n",
       "\n",
       "    .dataframe thead th {\n",
       "        text-align: right;\n",
       "    }\n",
       "</style>\n",
       "<table border=\"1\" class=\"dataframe\">\n",
       "  <thead>\n",
       "    <tr style=\"text-align: right;\">\n",
       "      <th></th>\n",
       "      <th>neighbourhood_group</th>\n",
       "    </tr>\n",
       "  </thead>\n",
       "  <tbody>\n",
       "    <tr>\n",
       "      <th>count</th>\n",
       "      <td>0.0</td>\n",
       "    </tr>\n",
       "    <tr>\n",
       "      <th>mean</th>\n",
       "      <td>NaN</td>\n",
       "    </tr>\n",
       "    <tr>\n",
       "      <th>std</th>\n",
       "      <td>NaN</td>\n",
       "    </tr>\n",
       "    <tr>\n",
       "      <th>min</th>\n",
       "      <td>NaN</td>\n",
       "    </tr>\n",
       "    <tr>\n",
       "      <th>25%</th>\n",
       "      <td>NaN</td>\n",
       "    </tr>\n",
       "    <tr>\n",
       "      <th>50%</th>\n",
       "      <td>NaN</td>\n",
       "    </tr>\n",
       "    <tr>\n",
       "      <th>75%</th>\n",
       "      <td>NaN</td>\n",
       "    </tr>\n",
       "    <tr>\n",
       "      <th>max</th>\n",
       "      <td>NaN</td>\n",
       "    </tr>\n",
       "  </tbody>\n",
       "</table>\n",
       "</div>"
      ],
      "text/plain": [
       "       neighbourhood_group\n",
       "count                  0.0\n",
       "mean                   NaN\n",
       "std                    NaN\n",
       "min                    NaN\n",
       "25%                    NaN\n",
       "50%                    NaN\n",
       "75%                    NaN\n",
       "max                    NaN"
      ]
     },
     "execution_count": 61,
     "metadata": {},
     "output_type": "execute_result"
    }
   ],
   "source": [
    "df.describe()"
   ]
  },
  {
   "cell_type": "code",
   "execution_count": null,
   "id": "f92a8940",
   "metadata": {},
   "outputs": [
    {
     "name": "stdout",
     "output_type": "stream",
     "text": [
      "No hay valores únicos en  neighbourhood_group 0\n",
      "No hay valores únicos en  neighbourhood 25\n"
     ]
    }
   ],
   "source": [
    "for i in df.columns.tolist():\n",
    "    print(\"No hay valores únicos en \",i,df[i].nunique())"
   ]
  },
  {
   "cell_type": "code",
   "execution_count": null,
   "id": "aafea071",
   "metadata": {},
   "outputs": [
    {
     "name": "stdout",
     "output_type": "stream",
     "text": [
      "Columnas constantes: []\n"
     ]
    }
   ],
   "source": [
    "const_cols = [col for col in df.columns if df[col].nunique() == 1]\n",
    "print(\"Columnas constantes:\", const_cols)"
   ]
  },
  {
   "cell_type": "code",
   "execution_count": null,
   "id": "b5fb4e92",
   "metadata": {},
   "outputs": [
    {
     "name": "stdout",
     "output_type": "stream",
     "text": [
      "Columnas completamente nulas: ['neighbourhood_group']\n"
     ]
    }
   ],
   "source": [
    "null_cols = [col for col in df.columns if df[col].isna().all()]\n",
    "print(\"Columnas completamente nulas:\", null_cols)"
   ]
  },
  {
   "cell_type": "code",
   "execution_count": null,
   "id": "2c502b13",
   "metadata": {},
   "outputs": [
    {
     "name": "stdout",
     "output_type": "stream",
     "text": [
      "Columnas con baja variabilidad: ['neighbourhood_group']\n"
     ]
    }
   ],
   "source": [
    "low_var_cols = [col for col in df.columns if df[col].nunique() < 5]\n",
    "print(\"Columnas con baja variabilidad:\", low_var_cols)"
   ]
  },
  {
   "cell_type": "code",
   "execution_count": null,
   "id": "1b327c22",
   "metadata": {},
   "outputs": [
    {
     "data": {
      "text/html": [
       "<div>\n",
       "<style scoped>\n",
       "    .dataframe tbody tr th:only-of-type {\n",
       "        vertical-align: middle;\n",
       "    }\n",
       "\n",
       "    .dataframe tbody tr th {\n",
       "        vertical-align: top;\n",
       "    }\n",
       "\n",
       "    .dataframe thead th {\n",
       "        text-align: right;\n",
       "    }\n",
       "</style>\n",
       "<table border=\"1\" class=\"dataframe\">\n",
       "  <thead>\n",
       "    <tr style=\"text-align: right;\">\n",
       "      <th></th>\n",
       "      <th>neighbourhood</th>\n",
       "    </tr>\n",
       "  </thead>\n",
       "  <tbody>\n",
       "    <tr>\n",
       "      <th>0</th>\n",
       "      <td>Allach-Untermenzing</td>\n",
       "    </tr>\n",
       "    <tr>\n",
       "      <th>1</th>\n",
       "      <td>Altstadt-Lehel</td>\n",
       "    </tr>\n",
       "    <tr>\n",
       "      <th>2</th>\n",
       "      <td>Aubing-Lochhausen-Langwied</td>\n",
       "    </tr>\n",
       "    <tr>\n",
       "      <th>3</th>\n",
       "      <td>Au-Haidhausen</td>\n",
       "    </tr>\n",
       "    <tr>\n",
       "      <th>4</th>\n",
       "      <td>Berg am Laim</td>\n",
       "    </tr>\n",
       "  </tbody>\n",
       "</table>\n",
       "</div>"
      ],
      "text/plain": [
       "                neighbourhood\n",
       "0         Allach-Untermenzing\n",
       "1              Altstadt-Lehel\n",
       "2  Aubing-Lochhausen-Langwied\n",
       "3               Au-Haidhausen\n",
       "4                Berg am Laim"
      ]
     },
     "execution_count": 66,
     "metadata": {},
     "output_type": "execute_result"
    }
   ],
   "source": [
    "df.drop([\"neighbourhood_group\"], axis=1, inplace=True) \n",
    "df.head()"
   ]
  },
  {
   "cell_type": "code",
   "execution_count": null,
   "id": "3597bed6",
   "metadata": {},
   "outputs": [
    {
     "data": {
      "text/plain": [
       "Index(['neighbourhood'], dtype='object')"
      ]
     },
     "execution_count": 67,
     "metadata": {},
     "output_type": "execute_result"
    }
   ],
   "source": [
    "df.columns"
   ]
  },
  {
   "cell_type": "code",
   "execution_count": null,
   "id": "525bed0a",
   "metadata": {},
   "outputs": [
    {
     "data": {
      "text/plain": [
       "neighbourhood    False\n",
       "dtype: bool"
      ]
     },
     "execution_count": 68,
     "metadata": {},
     "output_type": "execute_result"
    }
   ],
   "source": [
    "df.isnull().any()"
   ]
  },
  {
   "cell_type": "code",
   "execution_count": null,
   "id": "0a8ae2ef",
   "metadata": {},
   "outputs": [
    {
     "name": "stdout",
     "output_type": "stream",
     "text": [
      "<class 'pandas.core.frame.DataFrame'>\n",
      "RangeIndex: 25 entries, 0 to 24\n",
      "Data columns (total 1 columns):\n",
      " #   Column         Non-Null Count  Dtype \n",
      "---  ------         --------------  ----- \n",
      " 0   neighbourhood  25 non-null     object\n",
      "dtypes: object(1)\n",
      "memory usage: 332.0+ bytes\n"
     ]
    }
   ],
   "source": [
    "df.info()"
   ]
  },
  {
   "cell_type": "code",
   "execution_count": null,
   "id": "d5334374",
   "metadata": {},
   "outputs": [
    {
     "data": {
      "text/html": [
       "<div>\n",
       "<style scoped>\n",
       "    .dataframe tbody tr th:only-of-type {\n",
       "        vertical-align: middle;\n",
       "    }\n",
       "\n",
       "    .dataframe tbody tr th {\n",
       "        vertical-align: top;\n",
       "    }\n",
       "\n",
       "    .dataframe thead th {\n",
       "        text-align: right;\n",
       "    }\n",
       "</style>\n",
       "<table border=\"1\" class=\"dataframe\">\n",
       "  <thead>\n",
       "    <tr style=\"text-align: right;\">\n",
       "      <th></th>\n",
       "      <th>neighbourhood</th>\n",
       "    </tr>\n",
       "  </thead>\n",
       "  <tbody>\n",
       "    <tr>\n",
       "      <th>count</th>\n",
       "      <td>25</td>\n",
       "    </tr>\n",
       "    <tr>\n",
       "      <th>unique</th>\n",
       "      <td>25</td>\n",
       "    </tr>\n",
       "    <tr>\n",
       "      <th>top</th>\n",
       "      <td>Allach-Untermenzing</td>\n",
       "    </tr>\n",
       "    <tr>\n",
       "      <th>freq</th>\n",
       "      <td>1</td>\n",
       "    </tr>\n",
       "  </tbody>\n",
       "</table>\n",
       "</div>"
      ],
      "text/plain": [
       "              neighbourhood\n",
       "count                    25\n",
       "unique                   25\n",
       "top     Allach-Untermenzing\n",
       "freq                      1"
      ]
     },
     "execution_count": 70,
     "metadata": {},
     "output_type": "execute_result"
    }
   ],
   "source": [
    "df.describe()"
   ]
  },
  {
   "cell_type": "code",
   "execution_count": null,
   "id": "993251da",
   "metadata": {},
   "outputs": [
    {
     "data": {
      "text/plain": [
       "(25, 1)"
      ]
     },
     "execution_count": 71,
     "metadata": {},
     "output_type": "execute_result"
    }
   ],
   "source": [
    "df.shape"
   ]
  },
  {
   "cell_type": "code",
   "execution_count": null,
   "id": "9fdb064a",
   "metadata": {},
   "outputs": [],
   "source": [
    "df.to_csv(\"neighbourhoods_limpio.csv\", index=False)"
   ]
  },
  {
   "cell_type": "code",
   "execution_count": null,
   "id": "aa8852a6",
   "metadata": {},
   "outputs": [],
   "source": [
    "df=pd.read_csv(\"C:/Users/Rocio/Desktop/ROCÍO/Todo_rocío/Curso_Data_Analyst/Codes/temario/temario/Informe 2-Upgrade/reviews.csv\", on_bad_lines='skip') ##ignora las líneas problemáticas"
   ]
  },
  {
   "cell_type": "code",
   "execution_count": null,
   "id": "bf30090f",
   "metadata": {},
   "outputs": [
    {
     "data": {
      "text/html": [
       "<div>\n",
       "<style scoped>\n",
       "    .dataframe tbody tr th:only-of-type {\n",
       "        vertical-align: middle;\n",
       "    }\n",
       "\n",
       "    .dataframe tbody tr th {\n",
       "        vertical-align: top;\n",
       "    }\n",
       "\n",
       "    .dataframe thead th {\n",
       "        text-align: right;\n",
       "    }\n",
       "</style>\n",
       "<table border=\"1\" class=\"dataframe\">\n",
       "  <thead>\n",
       "    <tr style=\"text-align: right;\">\n",
       "      <th></th>\n",
       "      <th>listing_id</th>\n",
       "      <th>id</th>\n",
       "      <th>date</th>\n",
       "      <th>reviewer_id</th>\n",
       "      <th>reviewer_name</th>\n",
       "      <th>comments</th>\n",
       "    </tr>\n",
       "  </thead>\n",
       "  <tbody>\n",
       "    <tr>\n",
       "      <th>0</th>\n",
       "      <td>97945</td>\n",
       "      <td>591337</td>\n",
       "      <td>2011-10-03</td>\n",
       "      <td>508190</td>\n",
       "      <td>Lauren</td>\n",
       "      <td>We very much enjoyed staying at Angelika's apa...</td>\n",
       "    </tr>\n",
       "    <tr>\n",
       "      <th>1</th>\n",
       "      <td>97945</td>\n",
       "      <td>796084</td>\n",
       "      <td>2011-12-20</td>\n",
       "      <td>341171</td>\n",
       "      <td>Marty &amp; Evelyn</td>\n",
       "      <td>Angelika was a very gracious host, and went ou...</td>\n",
       "    </tr>\n",
       "    <tr>\n",
       "      <th>2</th>\n",
       "      <td>97945</td>\n",
       "      <td>964528</td>\n",
       "      <td>2012-03-02</td>\n",
       "      <td>1647967</td>\n",
       "      <td>Sue</td>\n",
       "      <td>The apartment was beautiful and Angelika provi...</td>\n",
       "    </tr>\n",
       "    <tr>\n",
       "      <th>3</th>\n",
       "      <td>97945</td>\n",
       "      <td>1353862</td>\n",
       "      <td>2012-05-26</td>\n",
       "      <td>2414638</td>\n",
       "      <td>Mel And George</td>\n",
       "      <td>We loved the warm welcome and was pleasantly s...</td>\n",
       "    </tr>\n",
       "    <tr>\n",
       "      <th>4</th>\n",
       "      <td>97945</td>\n",
       "      <td>1375610</td>\n",
       "      <td>2012-05-29</td>\n",
       "      <td>2323197</td>\n",
       "      <td>Anais</td>\n",
       "      <td>Dès notre arrivée, notre hote nous a cordialem...</td>\n",
       "    </tr>\n",
       "  </tbody>\n",
       "</table>\n",
       "</div>"
      ],
      "text/plain": [
       "   listing_id       id        date  reviewer_id   reviewer_name  \\\n",
       "0       97945   591337  2011-10-03       508190          Lauren   \n",
       "1       97945   796084  2011-12-20       341171  Marty & Evelyn   \n",
       "2       97945   964528  2012-03-02      1647967             Sue   \n",
       "3       97945  1353862  2012-05-26      2414638  Mel And George   \n",
       "4       97945  1375610  2012-05-29      2323197           Anais   \n",
       "\n",
       "                                            comments  \n",
       "0  We very much enjoyed staying at Angelika's apa...  \n",
       "1  Angelika was a very gracious host, and went ou...  \n",
       "2  The apartment was beautiful and Angelika provi...  \n",
       "3  We loved the warm welcome and was pleasantly s...  \n",
       "4  Dès notre arrivée, notre hote nous a cordialem...  "
      ]
     },
     "execution_count": 74,
     "metadata": {},
     "output_type": "execute_result"
    }
   ],
   "source": [
    "df.head()"
   ]
  },
  {
   "cell_type": "code",
   "execution_count": null,
   "id": "f5663671",
   "metadata": {},
   "outputs": [
    {
     "data": {
      "text/html": [
       "<div>\n",
       "<style scoped>\n",
       "    .dataframe tbody tr th:only-of-type {\n",
       "        vertical-align: middle;\n",
       "    }\n",
       "\n",
       "    .dataframe tbody tr th {\n",
       "        vertical-align: top;\n",
       "    }\n",
       "\n",
       "    .dataframe thead th {\n",
       "        text-align: right;\n",
       "    }\n",
       "</style>\n",
       "<table border=\"1\" class=\"dataframe\">\n",
       "  <thead>\n",
       "    <tr style=\"text-align: right;\">\n",
       "      <th></th>\n",
       "      <th>listing_id</th>\n",
       "      <th>id</th>\n",
       "      <th>date</th>\n",
       "      <th>reviewer_id</th>\n",
       "      <th>reviewer_name</th>\n",
       "      <th>comments</th>\n",
       "    </tr>\n",
       "  </thead>\n",
       "  <tbody>\n",
       "    <tr>\n",
       "      <th>203109</th>\n",
       "      <td>1300763958110951287</td>\n",
       "      <td>1318088082702645693</td>\n",
       "      <td>2024-12-23</td>\n",
       "      <td>69264332</td>\n",
       "      <td>Nancy</td>\n",
       "      <td>Place was exactly as advertised.&lt;br/&gt;Literally...</td>\n",
       "    </tr>\n",
       "    <tr>\n",
       "      <th>203110</th>\n",
       "      <td>1302802610453075904</td>\n",
       "      <td>1307182199737004862</td>\n",
       "      <td>2024-12-08</td>\n",
       "      <td>357917503</td>\n",
       "      <td>OliverGabriel V</td>\n",
       "      <td>Very good and quiet location, would stay again</td>\n",
       "    </tr>\n",
       "    <tr>\n",
       "      <th>203111</th>\n",
       "      <td>1302873421886981666</td>\n",
       "      <td>1304319666182338745</td>\n",
       "      <td>2024-12-04</td>\n",
       "      <td>665165849</td>\n",
       "      <td>Calum</td>\n",
       "      <td>Charming host and lovely apartment</td>\n",
       "    </tr>\n",
       "    <tr>\n",
       "      <th>203112</th>\n",
       "      <td>1303436233723417574</td>\n",
       "      <td>1317289961141271413</td>\n",
       "      <td>2024-12-22</td>\n",
       "      <td>61687115</td>\n",
       "      <td>Erica</td>\n",
       "      <td>Very good central location close to metro stop...</td>\n",
       "    </tr>\n",
       "    <tr>\n",
       "      <th>203113</th>\n",
       "      <td>1303761439223515284</td>\n",
       "      <td>1317297376364308633</td>\n",
       "      <td>2024-12-22</td>\n",
       "      <td>82623155</td>\n",
       "      <td>Nikita</td>\n",
       "      <td>The place is great! The neighbourhood is very ...</td>\n",
       "    </tr>\n",
       "  </tbody>\n",
       "</table>\n",
       "</div>"
      ],
      "text/plain": [
       "                 listing_id                   id        date  reviewer_id  \\\n",
       "203109  1300763958110951287  1318088082702645693  2024-12-23     69264332   \n",
       "203110  1302802610453075904  1307182199737004862  2024-12-08    357917503   \n",
       "203111  1302873421886981666  1304319666182338745  2024-12-04    665165849   \n",
       "203112  1303436233723417574  1317289961141271413  2024-12-22     61687115   \n",
       "203113  1303761439223515284  1317297376364308633  2024-12-22     82623155   \n",
       "\n",
       "          reviewer_name                                           comments  \n",
       "203109            Nancy  Place was exactly as advertised.<br/>Literally...  \n",
       "203110  OliverGabriel V     Very good and quiet location, would stay again  \n",
       "203111            Calum                 Charming host and lovely apartment  \n",
       "203112            Erica  Very good central location close to metro stop...  \n",
       "203113           Nikita  The place is great! The neighbourhood is very ...  "
      ]
     },
     "execution_count": 75,
     "metadata": {},
     "output_type": "execute_result"
    }
   ],
   "source": [
    "df.tail()"
   ]
  },
  {
   "cell_type": "code",
   "execution_count": null,
   "id": "74943dfc",
   "metadata": {},
   "outputs": [
    {
     "name": "stdout",
     "output_type": "stream",
     "text": [
      "Number of rows: 203114\n",
      "Number of columns: 6\n"
     ]
    }
   ],
   "source": [
    "print(\"Number of rows:\", df.shape[0])\n",
    "print(\"Number of columns:\", df.shape[1])"
   ]
  },
  {
   "cell_type": "code",
   "execution_count": null,
   "id": "e57040f7",
   "metadata": {},
   "outputs": [
    {
     "name": "stdout",
     "output_type": "stream",
     "text": [
      "<class 'pandas.core.frame.DataFrame'>\n",
      "RangeIndex: 203114 entries, 0 to 203113\n",
      "Data columns (total 6 columns):\n",
      " #   Column         Non-Null Count   Dtype \n",
      "---  ------         --------------   ----- \n",
      " 0   listing_id     203114 non-null  int64 \n",
      " 1   id             203114 non-null  int64 \n",
      " 2   date           203114 non-null  object\n",
      " 3   reviewer_id    203114 non-null  int64 \n",
      " 4   reviewer_name  203114 non-null  object\n",
      " 5   comments       203099 non-null  object\n",
      "dtypes: int64(3), object(3)\n",
      "memory usage: 9.3+ MB\n"
     ]
    }
   ],
   "source": [
    "df.info()"
   ]
  },
  {
   "cell_type": "code",
   "execution_count": null,
   "id": "af79128f",
   "metadata": {},
   "outputs": [
    {
     "data": {
      "text/plain": [
       "listing_id        int64\n",
       "id                int64\n",
       "date             object\n",
       "reviewer_id       int64\n",
       "reviewer_name    object\n",
       "comments         object\n",
       "dtype: object"
      ]
     },
     "execution_count": 78,
     "metadata": {},
     "output_type": "execute_result"
    }
   ],
   "source": [
    "df.dtypes"
   ]
  },
  {
   "cell_type": "code",
   "execution_count": null,
   "id": "a0e7baf4",
   "metadata": {},
   "outputs": [
    {
     "data": {
      "text/plain": [
       "np.int64(0)"
      ]
     },
     "execution_count": 79,
     "metadata": {},
     "output_type": "execute_result"
    }
   ],
   "source": [
    "df.duplicated().sum()"
   ]
  },
  {
   "cell_type": "code",
   "execution_count": null,
   "id": "91d9373a",
   "metadata": {},
   "outputs": [
    {
     "data": {
      "text/plain": [
       "listing_id       False\n",
       "id               False\n",
       "date             False\n",
       "reviewer_id      False\n",
       "reviewer_name    False\n",
       "comments          True\n",
       "dtype: bool"
      ]
     },
     "execution_count": 80,
     "metadata": {},
     "output_type": "execute_result"
    }
   ],
   "source": [
    "df.isna().any()"
   ]
  },
  {
   "cell_type": "code",
   "execution_count": null,
   "id": "b73cfda7",
   "metadata": {},
   "outputs": [
    {
     "data": {
      "text/plain": [
       "listing_id        0\n",
       "id                0\n",
       "date              0\n",
       "reviewer_id       0\n",
       "reviewer_name     0\n",
       "comments         15\n",
       "dtype: int64"
      ]
     },
     "execution_count": 81,
     "metadata": {},
     "output_type": "execute_result"
    }
   ],
   "source": [
    "df.isna().sum()"
   ]
  },
  {
   "cell_type": "code",
   "execution_count": null,
   "id": "04aae4ef",
   "metadata": {},
   "outputs": [
    {
     "data": {
      "text/plain": [
       "Index(['listing_id', 'id', 'date', 'reviewer_id', 'reviewer_name', 'comments'], dtype='object')"
      ]
     },
     "execution_count": 82,
     "metadata": {},
     "output_type": "execute_result"
    }
   ],
   "source": [
    "df.columns"
   ]
  },
  {
   "cell_type": "code",
   "execution_count": null,
   "id": "2db0264b",
   "metadata": {},
   "outputs": [
    {
     "data": {
      "text/html": [
       "<div>\n",
       "<style scoped>\n",
       "    .dataframe tbody tr th:only-of-type {\n",
       "        vertical-align: middle;\n",
       "    }\n",
       "\n",
       "    .dataframe tbody tr th {\n",
       "        vertical-align: top;\n",
       "    }\n",
       "\n",
       "    .dataframe thead th {\n",
       "        text-align: right;\n",
       "    }\n",
       "</style>\n",
       "<table border=\"1\" class=\"dataframe\">\n",
       "  <thead>\n",
       "    <tr style=\"text-align: right;\">\n",
       "      <th></th>\n",
       "      <th>listing_id</th>\n",
       "      <th>id</th>\n",
       "      <th>reviewer_id</th>\n",
       "    </tr>\n",
       "  </thead>\n",
       "  <tbody>\n",
       "    <tr>\n",
       "      <th>count</th>\n",
       "      <td>2.031140e+05</td>\n",
       "      <td>2.031140e+05</td>\n",
       "      <td>2.031140e+05</td>\n",
       "    </tr>\n",
       "    <tr>\n",
       "      <th>mean</th>\n",
       "      <td>1.991359e+17</td>\n",
       "      <td>6.198529e+17</td>\n",
       "      <td>1.831585e+08</td>\n",
       "    </tr>\n",
       "    <tr>\n",
       "      <th>std</th>\n",
       "      <td>3.785919e+17</td>\n",
       "      <td>5.027574e+17</td>\n",
       "      <td>1.706322e+08</td>\n",
       "    </tr>\n",
       "    <tr>\n",
       "      <th>min</th>\n",
       "      <td>9.794500e+04</td>\n",
       "      <td>2.976850e+05</td>\n",
       "      <td>1.000000e+00</td>\n",
       "    </tr>\n",
       "    <tr>\n",
       "      <th>25%</th>\n",
       "      <td>8.264691e+06</td>\n",
       "      <td>4.921626e+08</td>\n",
       "      <td>3.969432e+07</td>\n",
       "    </tr>\n",
       "    <tr>\n",
       "      <th>50%</th>\n",
       "      <td>2.930124e+07</td>\n",
       "      <td>7.287574e+17</td>\n",
       "      <td>1.242886e+08</td>\n",
       "    </tr>\n",
       "    <tr>\n",
       "      <th>75%</th>\n",
       "      <td>5.173816e+07</td>\n",
       "      <td>1.094093e+18</td>\n",
       "      <td>2.900463e+08</td>\n",
       "    </tr>\n",
       "    <tr>\n",
       "      <th>max</th>\n",
       "      <td>1.313865e+18</td>\n",
       "      <td>1.324624e+18</td>\n",
       "      <td>6.681921e+08</td>\n",
       "    </tr>\n",
       "  </tbody>\n",
       "</table>\n",
       "</div>"
      ],
      "text/plain": [
       "         listing_id            id   reviewer_id\n",
       "count  2.031140e+05  2.031140e+05  2.031140e+05\n",
       "mean   1.991359e+17  6.198529e+17  1.831585e+08\n",
       "std    3.785919e+17  5.027574e+17  1.706322e+08\n",
       "min    9.794500e+04  2.976850e+05  1.000000e+00\n",
       "25%    8.264691e+06  4.921626e+08  3.969432e+07\n",
       "50%    2.930124e+07  7.287574e+17  1.242886e+08\n",
       "75%    5.173816e+07  1.094093e+18  2.900463e+08\n",
       "max    1.313865e+18  1.324624e+18  6.681921e+08"
      ]
     },
     "execution_count": 83,
     "metadata": {},
     "output_type": "execute_result"
    }
   ],
   "source": [
    "df.describe()"
   ]
  },
  {
   "cell_type": "code",
   "execution_count": null,
   "id": "456c6380",
   "metadata": {},
   "outputs": [
    {
     "name": "stdout",
     "output_type": "stream",
     "text": [
      "No hay valores únicos en  listing_id 5902\n",
      "No hay valores únicos en  id 203114\n",
      "No hay valores únicos en  date 4540\n",
      "No hay valores únicos en  reviewer_id 190165\n",
      "No hay valores únicos en  reviewer_name 36668\n",
      "No hay valores únicos en  comments 196437\n"
     ]
    }
   ],
   "source": [
    "for i in df.columns.tolist():\n",
    "    print(\"No hay valores únicos en \",i,df[i].nunique())"
   ]
  },
  {
   "cell_type": "code",
   "execution_count": null,
   "id": "5dd2f6e3",
   "metadata": {},
   "outputs": [
    {
     "name": "stdout",
     "output_type": "stream",
     "text": [
      "Columnas constantes: []\n"
     ]
    }
   ],
   "source": [
    "const_cols = [col for col in df.columns if df[col].nunique() == 1]\n",
    "print(\"Columnas constantes:\", const_cols)"
   ]
  },
  {
   "cell_type": "code",
   "execution_count": null,
   "id": "f87db7aa",
   "metadata": {},
   "outputs": [
    {
     "name": "stdout",
     "output_type": "stream",
     "text": [
      "Columnas completamente nulas: []\n"
     ]
    }
   ],
   "source": [
    "null_cols = [col for col in df.columns if df[col].isna().all()]\n",
    "print(\"Columnas completamente nulas:\", null_cols)"
   ]
  },
  {
   "cell_type": "code",
   "execution_count": null,
   "id": "3664f05a",
   "metadata": {},
   "outputs": [
    {
     "name": "stdout",
     "output_type": "stream",
     "text": [
      "Columnas con baja variabilidad: []\n"
     ]
    }
   ],
   "source": [
    "low_var_cols = [col for col in df.columns if df[col].nunique() < 5]\n",
    "print(\"Columnas con baja variabilidad:\", low_var_cols)"
   ]
  },
  {
   "cell_type": "code",
   "execution_count": null,
   "id": "fd0e61d9",
   "metadata": {},
   "outputs": [
    {
     "data": {
      "text/html": [
       "<div>\n",
       "<style scoped>\n",
       "    .dataframe tbody tr th:only-of-type {\n",
       "        vertical-align: middle;\n",
       "    }\n",
       "\n",
       "    .dataframe tbody tr th {\n",
       "        vertical-align: top;\n",
       "    }\n",
       "\n",
       "    .dataframe thead th {\n",
       "        text-align: right;\n",
       "    }\n",
       "</style>\n",
       "<table border=\"1\" class=\"dataframe\">\n",
       "  <thead>\n",
       "    <tr style=\"text-align: right;\">\n",
       "      <th></th>\n",
       "      <th>listing_id</th>\n",
       "      <th>date</th>\n",
       "      <th>reviewer_id</th>\n",
       "      <th>reviewer_name</th>\n",
       "    </tr>\n",
       "  </thead>\n",
       "  <tbody>\n",
       "    <tr>\n",
       "      <th>0</th>\n",
       "      <td>97945</td>\n",
       "      <td>2011-10-03</td>\n",
       "      <td>508190</td>\n",
       "      <td>Lauren</td>\n",
       "    </tr>\n",
       "    <tr>\n",
       "      <th>1</th>\n",
       "      <td>97945</td>\n",
       "      <td>2011-12-20</td>\n",
       "      <td>341171</td>\n",
       "      <td>Marty &amp; Evelyn</td>\n",
       "    </tr>\n",
       "    <tr>\n",
       "      <th>2</th>\n",
       "      <td>97945</td>\n",
       "      <td>2012-03-02</td>\n",
       "      <td>1647967</td>\n",
       "      <td>Sue</td>\n",
       "    </tr>\n",
       "    <tr>\n",
       "      <th>3</th>\n",
       "      <td>97945</td>\n",
       "      <td>2012-05-26</td>\n",
       "      <td>2414638</td>\n",
       "      <td>Mel And George</td>\n",
       "    </tr>\n",
       "    <tr>\n",
       "      <th>4</th>\n",
       "      <td>97945</td>\n",
       "      <td>2012-05-29</td>\n",
       "      <td>2323197</td>\n",
       "      <td>Anais</td>\n",
       "    </tr>\n",
       "  </tbody>\n",
       "</table>\n",
       "</div>"
      ],
      "text/plain": [
       "   listing_id        date  reviewer_id   reviewer_name\n",
       "0       97945  2011-10-03       508190          Lauren\n",
       "1       97945  2011-12-20       341171  Marty & Evelyn\n",
       "2       97945  2012-03-02      1647967             Sue\n",
       "3       97945  2012-05-26      2414638  Mel And George\n",
       "4       97945  2012-05-29      2323197           Anais"
      ]
     },
     "execution_count": 88,
     "metadata": {},
     "output_type": "execute_result"
    }
   ],
   "source": [
    "df.drop([\"comments\",\"id\"], axis=1, inplace=True) \n",
    "df.head()"
   ]
  },
  {
   "cell_type": "code",
   "execution_count": null,
   "id": "4a4d0908",
   "metadata": {},
   "outputs": [
    {
     "name": "stdout",
     "output_type": "stream",
     "text": [
      "Index(['listing_id', 'date', 'reviewer_id', 'reviewer_name'], dtype='object')\n"
     ]
    }
   ],
   "source": [
    "print(df.columns)"
   ]
  },
  {
   "cell_type": "code",
   "execution_count": null,
   "id": "d227713f",
   "metadata": {},
   "outputs": [
    {
     "data": {
      "text/plain": [
       "listing_id       False\n",
       "date             False\n",
       "reviewer_id      False\n",
       "reviewer_name    False\n",
       "dtype: bool"
      ]
     },
     "execution_count": 90,
     "metadata": {},
     "output_type": "execute_result"
    }
   ],
   "source": [
    "df.isnull().any()"
   ]
  },
  {
   "cell_type": "code",
   "execution_count": null,
   "id": "1133a4c9",
   "metadata": {},
   "outputs": [
    {
     "name": "stdout",
     "output_type": "stream",
     "text": [
      "<class 'pandas.core.frame.DataFrame'>\n",
      "RangeIndex: 203114 entries, 0 to 203113\n",
      "Data columns (total 4 columns):\n",
      " #   Column         Non-Null Count   Dtype \n",
      "---  ------         --------------   ----- \n",
      " 0   listing_id     203114 non-null  int64 \n",
      " 1   date           203114 non-null  object\n",
      " 2   reviewer_id    203114 non-null  int64 \n",
      " 3   reviewer_name  203114 non-null  object\n",
      "dtypes: int64(2), object(2)\n",
      "memory usage: 6.2+ MB\n"
     ]
    }
   ],
   "source": [
    "df.info()"
   ]
  },
  {
   "cell_type": "code",
   "execution_count": null,
   "id": "da520e75",
   "metadata": {},
   "outputs": [
    {
     "data": {
      "text/html": [
       "<div>\n",
       "<style scoped>\n",
       "    .dataframe tbody tr th:only-of-type {\n",
       "        vertical-align: middle;\n",
       "    }\n",
       "\n",
       "    .dataframe tbody tr th {\n",
       "        vertical-align: top;\n",
       "    }\n",
       "\n",
       "    .dataframe thead th {\n",
       "        text-align: right;\n",
       "    }\n",
       "</style>\n",
       "<table border=\"1\" class=\"dataframe\">\n",
       "  <thead>\n",
       "    <tr style=\"text-align: right;\">\n",
       "      <th></th>\n",
       "      <th>listing_id</th>\n",
       "      <th>reviewer_id</th>\n",
       "    </tr>\n",
       "  </thead>\n",
       "  <tbody>\n",
       "    <tr>\n",
       "      <th>count</th>\n",
       "      <td>2.031140e+05</td>\n",
       "      <td>2.031140e+05</td>\n",
       "    </tr>\n",
       "    <tr>\n",
       "      <th>mean</th>\n",
       "      <td>1.991359e+17</td>\n",
       "      <td>1.831585e+08</td>\n",
       "    </tr>\n",
       "    <tr>\n",
       "      <th>std</th>\n",
       "      <td>3.785919e+17</td>\n",
       "      <td>1.706322e+08</td>\n",
       "    </tr>\n",
       "    <tr>\n",
       "      <th>min</th>\n",
       "      <td>9.794500e+04</td>\n",
       "      <td>1.000000e+00</td>\n",
       "    </tr>\n",
       "    <tr>\n",
       "      <th>25%</th>\n",
       "      <td>8.264691e+06</td>\n",
       "      <td>3.969432e+07</td>\n",
       "    </tr>\n",
       "    <tr>\n",
       "      <th>50%</th>\n",
       "      <td>2.930124e+07</td>\n",
       "      <td>1.242886e+08</td>\n",
       "    </tr>\n",
       "    <tr>\n",
       "      <th>75%</th>\n",
       "      <td>5.173816e+07</td>\n",
       "      <td>2.900463e+08</td>\n",
       "    </tr>\n",
       "    <tr>\n",
       "      <th>max</th>\n",
       "      <td>1.313865e+18</td>\n",
       "      <td>6.681921e+08</td>\n",
       "    </tr>\n",
       "  </tbody>\n",
       "</table>\n",
       "</div>"
      ],
      "text/plain": [
       "         listing_id   reviewer_id\n",
       "count  2.031140e+05  2.031140e+05\n",
       "mean   1.991359e+17  1.831585e+08\n",
       "std    3.785919e+17  1.706322e+08\n",
       "min    9.794500e+04  1.000000e+00\n",
       "25%    8.264691e+06  3.969432e+07\n",
       "50%    2.930124e+07  1.242886e+08\n",
       "75%    5.173816e+07  2.900463e+08\n",
       "max    1.313865e+18  6.681921e+08"
      ]
     },
     "execution_count": 92,
     "metadata": {},
     "output_type": "execute_result"
    }
   ],
   "source": [
    "df.describe()"
   ]
  },
  {
   "cell_type": "code",
   "execution_count": null,
   "id": "fb65d8e1",
   "metadata": {},
   "outputs": [
    {
     "data": {
      "text/plain": [
       "listing_id        int64\n",
       "date             object\n",
       "reviewer_id       int64\n",
       "reviewer_name    object\n",
       "dtype: object"
      ]
     },
     "execution_count": 93,
     "metadata": {},
     "output_type": "execute_result"
    }
   ],
   "source": [
    "df.dtypes"
   ]
  },
  {
   "cell_type": "code",
   "execution_count": null,
   "id": "d40853ad",
   "metadata": {},
   "outputs": [
    {
     "data": {
      "image/png": "[encoded data removed]",
      "text/plain": [
       "<Figure size 1000x600 with 1 Axes>"
      ]
     },
     "metadata": {},
     "output_type": "display_data"
    }
   ],
   "source": [
    "# Histograma para reviewer_id\n",
    "plt.figure(figsize=(10, 6))\n",
    "sns.histplot(df['reviewer_id'], bins=50, kde=True)\n",
    "plt.title('Distribución de Reviewer ID')\n",
    "plt.xlabel('Reviewer ID')\n",
    "plt.ylabel('Frecuencia')\n",
    "plt.show()"
   ]
  },
  {
   "cell_type": "code",
   "execution_count": null,
   "id": "15c6aa14",
   "metadata": {},
   "outputs": [
    {
     "data": {
      "text/plain": [
       "reviewer_id    190165\n",
       "dtype: int64"
      ]
     },
     "execution_count": 95,
     "metadata": {},
     "output_type": "execute_result"
    }
   ],
   "source": [
    "# find unique reviewers\n",
    "df[['reviewer_id']].nunique()"
   ]
  },
  {
   "cell_type": "code",
   "execution_count": null,
   "id": "a8c6b115",
   "metadata": {},
   "outputs": [],
   "source": [
    "df.to_csv(\"reviews_limpio.csv\", index=False)"
   ]
  },
  {
   "cell_type": "code",
   "execution_count": null,
   "id": "2649f215",
   "metadata": {},
   "outputs": [
    {
     "data": {
      "image/png": "[encoded data removed]",
      "text/plain": [
       "<Figure size 1400x700 with 1 Axes>"
      ]
     },
     "metadata": {},
     "output_type": "display_data"
    }
   ],
   "source": [
    "# Cargar los datos (si no están ya cargados)\n",
    "calendar = pd.read_csv(\"C:/Users/Rocio/Desktop/ROCÍO/Todo_rocío/Curso_Data_Analyst/Codes/temario/temario/Informe 2-Upgrade/calendar.csv\", on_bad_lines='skip')\n",
    "listings = pd.read_csv(\"C:/Users/Rocio/Desktop/ROCÍO/Todo_rocío/Curso_Data_Analyst/Codes/temario/temario/Informe 2-Upgrade/listings.csv\", on_bad_lines='skip')\n",
    "import pandas as pd\n",
    "import matplotlib.pyplot as plt\n",
    "# Cargar solo las columnas necesarias\n",
    "calendar = pd.read_csv(\n",
    "    \"C:/Users/Rocio/Desktop/ROCÍO/Todo_rocío/Curso_Data_Analyst/Codes/temario/temario/Informe 2-Upgrade/calendar.csv\",\n",
    "    usecols=['listing_id', 'date', 'price'],\n",
    "    on_bad_lines='skip'\n",
    ")\n",
    "listings = pd.read_csv(\n",
    "    \"C:/Users/Rocio/Desktop/ROCÍO/Todo_rocío/Curso_Data_Analyst/Codes/temario/temario/Informe 2-Upgrade/listings.csv\",\n",
    "    usecols=['id', 'neighbourhood_cleansed'],\n",
    "    on_bad_lines='skip'\n",
    ")\n",
    "# Limpiar y convertir tipos\n",
    "calendar['price'] = calendar['price'].astype(str).str.replace(r'[^\\d.]', '', regex=True).astype(float)\n",
    "calendar['date'] = pd.to_datetime(calendar['date'], errors='coerce')\n",
    "# Unir los datasets\n",
    "df = pd.merge(calendar, listings, left_on='listing_id', right_on='id', how='left')\n",
    "# Agrupar por vecindario y fecha, y calcular el precio promedio\n",
    "precios_por_vecindario = df.groupby(['neighbourhood_cleansed', 'date'])['price'].mean().reset_index()\n",
    "# Selecciona algunos vecindarios para graficar\n",
    "vecindarios = precios_por_vecindario['neighbourhood_cleansed'].unique()[:5]\n",
    "plt.figure(figsize=(14, 7))\n",
    "for barrio in vecindarios:\n",
    "    datos_barrio = precios_por_vecindario[precios_por_vecindario['neighbourhood_cleansed'] == barrio]\n",
    "    plt.plot(datos_barrio['date'], datos_barrio['price'], label=barrio)\n",
    "plt.xlabel('Fecha')\n",
    "plt.ylabel('Precio promedio')\n",
    "plt.title('Evolución del precio promedio por vecindario')\n",
    "plt.legend()\n",
    "plt.show()"
   ]
  },
  {
   "cell_type": "code",
   "execution_count": null,
   "id": "ca4d7c63",
   "metadata": {},
   "outputs": [
    {
     "name": "stdout",
     "output_type": "stream",
     "text": [
      "               listing_id  disponibilidad  precio_promedio\n",
      "7280  1319650217063619527             365            300.0\n",
      "6556  1239003655830192964             365            380.0\n",
      "548               8545832             365            235.0\n",
      "6503  1236316747857602420             365            179.0\n",
      "538               8433934             365            150.0\n",
      "6531  1237546766142342743             365            120.0\n",
      "3459   711223498069107789             365            250.0\n",
      "3457   711200430750123152             365            150.0\n",
      "3443   710012468761462528             365            350.0\n",
      "6553  1238890077902766494             365            327.0\n"
     ]
    },
    {
     "data": {
      "image/png": "[encoded data removed]",
      "text/plain": [
       "<Figure size 1200x700 with 1 Axes>"
      ]
     },
     "metadata": {},
     "output_type": "display_data"
    }
   ],
   "source": [
    "# 1. Cargar el calendar solo con las columnas necesarias\n",
    "calendar = pd.read_csv(\n",
    "    \"C:/Users/Rocio/Desktop/ROCÍO/Todo_rocío/Curso_Data_Analyst/Codes/temario/temario/Informe 2-Upgrade/calendar.csv\",\n",
    "    usecols=['listing_id', 'available', 'price'],\n",
    "    on_bad_lines='skip'\n",
    ")\n",
    "# 2. Limpiar y convertir tipos\n",
    "calendar['price'] = calendar['price'].astype(str).str.replace(r'[^\\d.]', '', regex=True).astype(float)\n",
    "# 3. Calcular disponibilidad total y precio promedio por anuncio\n",
    "disponibilidad = calendar.groupby('listing_id')['available'].apply(lambda x: (x == 't').sum())\n",
    "precio_promedio = calendar.groupby('listing_id')['price'].mean()\n",
    "# 4. Unir ambos resultados en un DataFrame\n",
    "df_disp_precio = pd.DataFrame({\n",
    "    'disponibilidad': disponibilidad,\n",
    "    'precio_promedio': precio_promedio\n",
    "}).reset_index()\n",
    "# 5. Eliminar outliers de precio_promedio usando IQR\n",
    "Q1 = df_disp_precio['precio_promedio'].quantile(0.25)\n",
    "Q3 = df_disp_precio['precio_promedio'].quantile(0.75)\n",
    "IQR = Q3 - Q1\n",
    "limite_inferior = Q1 - 1.5 * IQR\n",
    "limite_superior = Q3 + 1.5 * IQR\n",
    "df_disp_precio = df_disp_precio[\n",
    "    (df_disp_precio['precio_promedio'] >= limite_inferior) &\n",
    "    (df_disp_precio['precio_promedio'] <= limite_superior)\n",
    "]\n",
    "# 6. Mostrar los anuncios con mayor disponibilidad\n",
    "top_disponibles = df_disp_precio.sort_values('disponibilidad', ascending=False).head(10)\n",
    "print(top_disponibles)\n",
    "# 7. Relación entre disponibilidad y precio promedio (gráfico)\n",
    "plt.figure(figsize=(12,7))\n",
    "sns.kdeplot(\n",
    "    x=df_disp_precio['disponibilidad'],\n",
    "    y=df_disp_precio['precio_promedio'],\n",
    "    fill=True, cmap='viridis', thresh=0.05\n",
    ")\n",
    "plt.xlabel('Días disponibles')\n",
    "plt.ylabel('Precio promedio')\n",
    "plt.title('Densidad KDE de disponibilidad y precio promedio')\n",
    "plt.show()"
   ]
  },
  {
   "cell_type": "code",
   "execution_count": null,
   "id": "fde3d37f",
   "metadata": {},
   "outputs": [
    {
     "data": {
      "image/png": "[encoded data removed]",
      "text/plain": [
       "<Figure size 1000x600 with 1 Axes>"
      ]
     },
     "metadata": {},
     "output_type": "display_data"
    },
    {
     "data": {
      "image/png": "[encoded data removed]",
      "text/plain": [
       "<Figure size 800x600 with 1 Axes>"
      ]
     },
     "metadata": {},
     "output_type": "display_data"
    }
   ],
   "source": [
    "# Cargar solo las columnas relevantes\n",
    "listings = pd.read_csv(\n",
    "    \"C:/Users/Rocio/Desktop/ROCÍO/Todo_rocío/Curso_Data_Analyst/Codes/temario/temario/Informe 2-Upgrade/listings.csv\",\n",
    "    usecols=['id', 'room_type', 'property_type', 'bedrooms', 'beds', 'price'],\n",
    "    on_bad_lines='skip'\n",
    ")\n",
    "# Limpiar el precio y manejar vacíos\n",
    "listings['price'] = (\n",
    "    listings['price']\n",
    "    .astype(str)\n",
    "    .str.replace(r'[^\\d.]', '', regex=True)\n",
    "    .replace('', np.nan)\n",
    "    .astype(float)\n",
    ")\n",
    "# Eliminar nulos en columnas clave\n",
    "listings = listings.dropna(subset=['price', 'room_type', 'property_type', 'bedrooms', 'beds'])\n",
    "\n",
    "# Quitar outliers de price, bedrooms y beds usando IQR\n",
    "for col in ['price', 'bedrooms', 'beds']:\n",
    "    Q1 = listings[col].quantile(0.25)\n",
    "    Q3 = listings[col].quantile(0.75)\n",
    "    IQR = Q3 - Q1\n",
    "    limite_inferior = Q1 - 1.5 * IQR\n",
    "    limite_superior = Q3 + 1.5 * IQR\n",
    "    listings = listings[(listings[col] >= limite_inferior) & (listings[col] <= limite_superior)]\n",
    "\n",
    "# Boxplot: precio según tipo de habitación\n",
    "plt.figure(figsize=(10,6))\n",
    "sns.boxplot(x='room_type', y='price', data=listings)\n",
    "plt.title('Precio según tipo de habitación')\n",
    "plt.show()\n",
    "# Relación entre número de habitaciones y precio\n",
    "plt.figure(figsize=(8,6))\n",
    "sns.scatterplot(x='bedrooms', y='price', data=listings, alpha=0.5)\n",
    "plt.title('Precio vs. número de habitaciones')\n",
    "plt.show()"
   ]
  },
  {
   "cell_type": "code",
   "execution_count": null,
   "id": "e25e0ca8",
   "metadata": {},
   "outputs": [
    {
     "name": "stdout",
     "output_type": "stream",
     "text": [
      "neighbourhood_cleansed\n",
      "Au-Haidhausen              4.846329\n",
      "Pasing-Obermenzing         4.834872\n",
      "Sendling-Westpark          4.830521\n",
      "Schwanthalerhöhe           4.829010\n",
      "Schwabing-West             4.827441\n",
      "Untergiesing-Harlaching    4.815187\n",
      "Tudering-Riem              4.811244\n",
      "Allach-Untermenzing        4.811186\n",
      "Altstadt-Lehel             4.807378\n",
      "Bogenhausen                4.803895\n",
      "Name: review_scores_rating, dtype: float64\n"
     ]
    }
   ],
   "source": [
    "# Cargar solo las columnas necesarias\n",
    "listings = pd.read_csv(\n",
    "    \"C:/Users/Rocio/Desktop/ROCÍO/Todo_rocío/Curso_Data_Analyst/Codes/temario/temario/Informe 2-Upgrade/listings.csv\",\n",
    "    usecols=['neighbourhood_cleansed', 'review_scores_rating'],\n",
    "    on_bad_lines='skip'\n",
    ")\n",
    "# Eliminar nulos en la puntuación\n",
    "listings = listings.dropna(subset=['review_scores_rating'])\n",
    "# Calcular el promedio de puntuación por vecindario\n",
    "mejores_vecindarios = listings.groupby('neighbourhood_cleansed')['review_scores_rating'].mean().sort_values(ascending=False)\n",
    "print(mejores_vecindarios.head(10))"
   ]
  },
  {
   "cell_type": "code",
   "execution_count": null,
   "id": "c64e2935",
   "metadata": {},
   "outputs": [
    {
     "name": "stdout",
     "output_type": "stream",
     "text": [
      "Vecindarios más baratos (precio promedio):\n",
      "neighbourhood_cleansed\n",
      "Ramersdorf-Perlach            109.275132\n",
      "Aubing-Lochhausen-Langwied    113.000000\n",
      "Hadern                        118.750000\n",
      "Tudering-Riem                 123.054217\n",
      "Allach-Untermenzing           123.178571\n",
      "Milbertshofen-Am Hart         123.901840\n",
      "Moosach                       137.509615\n",
      "Pasing-Obermenzing            140.708029\n",
      "Obergiesing                   141.621795\n",
      "Untergiesing-Harlaching       145.342857\n",
      "Name: price, dtype: float64\n"
     ]
    }
   ],
   "source": [
    "# Cargar solo las columnas necesarias\n",
    "listings = pd.read_csv(\n",
    "    \"C:/Users/Rocio/Desktop/ROCÍO/Todo_rocío/Curso_Data_Analyst/Codes/temario/temario/Informe 2-Upgrade/listings.csv\",\n",
    "    usecols=['neighbourhood_cleansed', 'price'],\n",
    "    on_bad_lines='skip'\n",
    ")\n",
    "# Limpiar el precio\n",
    "listings['price'] = (\n",
    "    listings['price']\n",
    "    .astype(str)\n",
    "    .str.replace(r'[^\\d.]', '', regex=True)\n",
    "    .replace('', np.nan)  # Cambiado a np.nan\n",
    "    .astype(float)\n",
    ")\n",
    "# Eliminar nulos\n",
    "listings = listings.dropna(subset=['price'])\n",
    "# Calcular el precio promedio por vecindario\n",
    "vecindarios_baratos = listings.groupby('neighbourhood_cleansed')['price'].mean().sort_values().head(10)\n",
    "print(\"Vecindarios más baratos (precio promedio):\")\n",
    "print(vecindarios_baratos)"
   ]
  },
  {
   "cell_type": "code",
   "execution_count": null,
   "id": "186eef3e",
   "metadata": {},
   "outputs": [
    {
     "name": "stdout",
     "output_type": "stream",
     "text": [
      "                      id  number_of_reviews  price\n",
      "3169  683831625017656560                 63  114.0\n",
      "2591            51799819                 63   90.0\n",
      "205              1682832                 63  120.0\n",
      "2034            42355563                 63   95.0\n",
      "1178            25655712                 63   52.0\n",
      "1348            28818889                 63   64.0\n",
      "1884            38923643                 63   76.0\n",
      "2806  566278327673262838                 63  331.0\n",
      "4960  983772752818969494                 63  104.0\n",
      "3589  719563482537230381                 63   40.0\n"
     ]
    },
    {
     "data": {
      "image/png": "[encoded data removed]",
      "text/plain": [
       "<Figure size 1000x600 with 1 Axes>"
      ]
     },
     "metadata": {},
     "output_type": "display_data"
    }
   ],
   "source": [
    "# Cargar las columnas necesarias\n",
    "listings = pd.read_csv(\n",
    "    \"C:/Users/Rocio/Desktop/ROCÍO/Todo_rocío/Curso_Data_Analyst/Codes/temario/temario/Informe 2-Upgrade/listings.csv\",\n",
    "    usecols=['id', 'number_of_reviews', 'price'],\n",
    "    on_bad_lines='skip'\n",
    ")\n",
    "# Limpiar el precio\n",
    "listings['price'] = (\n",
    "    listings['price']\n",
    "    .astype(str)\n",
    "    .str.replace(r'[^\\d.]', '', regex=True)\n",
    "    .replace('', np.nan)\n",
    "    .astype(float)\n",
    ")\n",
    "# Eliminar nulos\n",
    "listings = listings.dropna(subset=['price', 'number_of_reviews'])\n",
    "\n",
    "# Quitar outliers de price y number_of_reviews usando IQR\n",
    "for col in ['price', 'number_of_reviews']:\n",
    "    Q1 = listings[col].quantile(0.25)\n",
    "    Q3 = listings[col].quantile(0.75)\n",
    "    IQR = Q3 - Q1\n",
    "    limite_inferior = Q1 - 1.5 * IQR\n",
    "    limite_superior = Q3 + 1.5 * IQR\n",
    "    listings = listings[(listings[col] >= limite_inferior) & (listings[col] <= limite_superior)]\n",
    "\n",
    "# Top 10 listados con más reseñas\n",
    "top_reviews = listings.sort_values('number_of_reviews', ascending=False).head(10)\n",
    "print(top_reviews[['id', 'number_of_reviews', 'price']])\n",
    "# Relación entre cantidad de reseñas y precio (gráfico)\n",
    "plt.figure(figsize=(10,6))\n",
    "sns.scatterplot(x='number_of_reviews', y='price', data=listings, alpha=0.5)\n",
    "plt.xlabel('Número de reseñas')\n",
    "plt.ylabel('Precio')\n",
    "plt.title('Relación entre número de reseñas y precio')\n",
    "plt.show()"
   ]
  },
  {
   "cell_type": "code",
   "execution_count": null,
   "id": "dce0c1ec",
   "metadata": {},
   "outputs": [
    {
     "data": {
      "image/png": "[encoded data removed]",
      "text/plain": [
       "<Figure size 1000x600 with 2 Axes>"
      ]
     },
     "metadata": {},
     "output_type": "display_data"
    }
   ],
   "source": [
    "# 1. Cargar y procesar la disponibilidad\n",
    "calendar = pd.read_csv(\n",
    "    \"C:/Users/Rocio/Desktop/ROCÍO/Todo_rocío/Curso_Data_Analyst/Codes/temario/temario/Informe 2-Upgrade/calendar.csv\",\n",
    "    usecols=['listing_id', 'available'],\n",
    "    on_bad_lines='skip'\n",
    ")\n",
    "# Calcular días disponibles por anuncio\n",
    "disponibilidad = calendar.groupby('listing_id')['available'].apply(lambda x: (x == 't').sum()).reset_index()\n",
    "disponibilidad.rename(columns={'available': 'dias_disponibles'}, inplace=True)\n",
    "# 2. Cargar las reseñas por anuncio\n",
    "listings = pd.read_csv(\n",
    "    \"C:/Users/Rocio/Desktop/ROCÍO/Todo_rocío/Curso_Data_Analyst/Codes/temario/temario/Informe 2-Upgrade/listings.csv\",\n",
    "    usecols=['id', 'number_of_reviews'],\n",
    "    on_bad_lines='skip'\n",
    ")\n",
    "listings.rename(columns={'id': 'listing_id'}, inplace=True)\n",
    "# 3. Unir ambos DataFrames\n",
    "df = pd.merge(disponibilidad, listings, on='listing_id')\n",
    "\n",
    "# Quitar outliers de dias_disponibles y number_of_reviews usando IQR\n",
    "for col in ['dias_disponibles', 'number_of_reviews']:\n",
    "    Q1 = df[col].quantile(0.25)\n",
    "    Q3 = df[col].quantile(0.75)\n",
    "    IQR = Q3 - Q1\n",
    "    limite_inferior = Q1 - 1.5 * IQR\n",
    "    limite_superior = Q3 + 1.5 * IQR\n",
    "    df = df[(df[col] >= limite_inferior) & (df[col] <= limite_superior)]\n",
    "\n",
    "# 4. Gráfico de dispersión\n",
    "plt.figure(figsize=(10,6))\n",
    "plt.hexbin(df['dias_disponibles'], df['number_of_reviews'], gridsize=30, cmap='viridis', mincnt=1)\n",
    "plt.colorbar(label='Cantidad de anuncios')\n",
    "plt.xlabel('Días disponibles al año')\n",
    "plt.ylabel('Número de reseñas')\n",
    "plt.title('Hexbin: Densidad de disponibilidad vs. número de reseñas')\n",
    "plt.show()"
   ]
  },
  {
   "cell_type": "code",
   "execution_count": null,
   "id": "2c49efeb",
   "metadata": {},
   "outputs": [
    {
     "data": {
      "image/png": "[encoded data removed]",
      "text/plain": [
       "<Figure size 1000x600 with 1 Axes>"
      ]
     },
     "metadata": {},
     "output_type": "display_data"
    }
   ],
   "source": [
    "# Cargar los datos necesarios\n",
    "calendar = pd.read_csv(\n",
    "    \"C:/Users/Rocio/Desktop/ROCÍO/Todo_rocío/Curso_Data_Analyst/Codes/temario/temario/Informe 2-Upgrade/calendar.csv\",\n",
    "    usecols=['date', 'available'],\n",
    "    on_bad_lines='skip'\n",
    ")\n",
    "calendar['date'] = pd.to_datetime(calendar['date'], errors='coerce')\n",
    "# Crear columna de mes\n",
    "calendar['month'] = calendar['date'].dt.month\n",
    "# Calcular la disponibilidad media por mes\n",
    "disponibilidad_mensual = calendar.groupby('month')['available'].apply(lambda x: (x == 't').mean())\n",
    "# Graficar\n",
    "plt.figure(figsize=(10,6))\n",
    "plt.plot(disponibilidad_mensual.index, disponibilidad_mensual.values, marker='o')\n",
    "plt.xticks(range(1,13), ['Ene','Feb','Mar','Abr','May','Jun','Jul','Ago','Sep','Oct','Nov','Dic'])\n",
    "plt.xlabel('Mes')\n",
    "plt.ylabel('Proporción de días disponibles')\n",
    "plt.title('Disponibilidad promedio por mes')\n",
    "plt.grid(True)\n",
    "plt.show()"
   ]
  },
  {
   "cell_type": "code",
   "execution_count": null,
   "id": "0f770ff9",
   "metadata": {},
   "outputs": [
    {
     "data": {
      "image/png": "[encoded data removed]",
      "text/plain": [
       "<Figure size 1000x600 with 1 Axes>"
      ]
     },
     "metadata": {},
     "output_type": "display_data"
    }
   ],
   "source": [
    "# Cargar los datos necesarios\n",
    "listings = pd.read_csv(\n",
    "    \"C:/Users/Rocio/Desktop/ROCÍO/Todo_rocío/Curso_Data_Analyst/Codes/temario/temario/Informe 2-Upgrade/listings.csv\",\n",
    "    usecols=['host_id', 'id', 'review_scores_rating'],\n",
    "    on_bad_lines='skip'\n",
    ")\n",
    "# Eliminar nulos en la puntuación\n",
    "listings = listings.dropna(subset=['review_scores_rating'])\n",
    "# Número de anuncios por anfitrión\n",
    "anuncios_por_host = listings.groupby('host_id')['id'].count().reset_index(name='num_anuncios')\n",
    "# Promedio de puntuación por anfitrión\n",
    "rating_por_host = listings.groupby('host_id')['review_scores_rating'].mean().reset_index(name='rating_promedio')\n",
    "# Unir ambos DataFrames\n",
    "df_host = pd.merge(anuncios_por_host, rating_por_host, on='host_id')\n",
    "\n",
    "# Quitar outliers de num_anuncios y rating_promedio usando IQR\n",
    "for col in ['num_anuncios', 'rating_promedio']:\n",
    "    Q1 = df_host[col].quantile(0.25)\n",
    "    Q3 = df_host[col].quantile(0.75)\n",
    "    IQR = Q3 - Q1\n",
    "    limite_inferior = Q1 - 1.5 * IQR\n",
    "    limite_superior = Q3 + 1.5 * IQR\n",
    "    df_host = df_host[(df_host[col] >= limite_inferior) & (df_host[col] <= limite_superior)]\n",
    "\n",
    "# Gráfico de dispersión\n",
    "plt.figure(figsize=(10,6))\n",
    "plt.scatter(df_host['num_anuncios'], df_host['rating_promedio'], alpha=0.5)\n",
    "plt.xlabel('Número de anuncios por anfitrión')\n",
    "plt.ylabel('Puntuación promedio de reseñas')\n",
    "plt.title('¿Los anfitriones con más anuncios tienen mejores reseñas?')\n",
    "plt.grid(True)\n",
    "plt.show()"
   ]
  }
 ],
 "metadata": {
  "kernelspec": {
   "display_name": "mi_entorno",
   "language": "python",
   "name": "python3"
  },
  "language_info": {
   "codemirror_mode": {
    "name": "ipython",
    "version": 3
   },
   "file_extension": ".py",
   "mimetype": "text/x-python",
   "name": "python",
   "nbconvert_exporter": "python",
   "pygments_lexer": "ipython3",
   "version": "3.13.2"
  }
 },
 "nbformat": 4,
 "nbformat_minor": 5
}
